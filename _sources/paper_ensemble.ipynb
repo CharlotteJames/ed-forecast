{
 "cells": [
  {
   "cell_type": "markdown",
   "id": "787816c8",
   "metadata": {},
   "source": [
    "# Tree-based models "
   ]
  },
  {
   "cell_type": "markdown",
   "id": "6bbda47d",
   "metadata": {},
   "source": [
    "## Overview "
   ]
  },
  {
   "cell_type": "markdown",
   "id": "5d0df2b5",
   "metadata": {},
   "source": [
    "This notebook contains an initial exploration of tree-based regressions to predict monthly ED demand. \n",
    "\n",
    "As the variables population, people, places and lives only vary annually they cannot be included in the model due to data leakage between the training and test sets.\n",
    "\n",
    "For all models, variables used include:\n",
    "\n",
    "- Service capacity (111, GP, Ambulance)\n",
    "- Service utility (111, Ambulance)"
   ]
  },
  {
   "cell_type": "code",
   "execution_count": 1,
   "id": "4cec45c7",
   "metadata": {},
   "outputs": [],
   "source": [
    "#turn warnings off to keep notebook tidy\n",
    "import warnings\n",
    "warnings.filterwarnings('ignore')"
   ]
  },
  {
   "cell_type": "markdown",
   "id": "e5f293e5",
   "metadata": {},
   "source": [
    "## Import libraries "
   ]
  },
  {
   "cell_type": "code",
   "execution_count": 2,
   "id": "51bc0659",
   "metadata": {},
   "outputs": [],
   "source": [
    "import os\n",
    "import pandas as pd\n",
    "import numpy as np\n",
    "\n",
    "from sklearn.ensemble import RandomForestRegressor\n",
    "from sklearn.ensemble import ExtraTreesRegressor\n",
    "from sklearn.ensemble import GradientBoostingRegressor\n",
    "from sklearn.ensemble import AdaBoostRegressor\n",
    "\n",
    "from sklearn.model_selection import train_test_split\n",
    "from sklearn.pipeline import make_pipeline\n",
    "from sklearn.preprocessing import StandardScaler\n",
    "\n",
    "from sklearn.model_selection import cross_validate\n",
    "from sklearn.model_selection import RepeatedKFold"
   ]
  },
  {
   "cell_type": "markdown",
   "id": "a24d85cb",
   "metadata": {},
   "source": [
    "## Import data "
   ]
  },
  {
   "cell_type": "code",
   "execution_count": 3,
   "id": "13122672",
   "metadata": {},
   "outputs": [],
   "source": [
    "dta = pd.read_csv('../data/master_scaled.csv', index_col=0)"
   ]
  },
  {
   "cell_type": "code",
   "execution_count": 4,
   "id": "e369d537",
   "metadata": {},
   "outputs": [],
   "source": [
    "dta.columns = ['_'.join([c.split('/')[0],c.split('/')[-1]]) \n",
    "               if '/' in c else c for c in dta.columns]"
   ]
  },
  {
   "cell_type": "code",
   "execution_count": 5,
   "id": "88dee7c6",
   "metadata": {},
   "outputs": [
    {
     "data": {
      "text/plain": [
       "(71,)"
      ]
     },
     "execution_count": 5,
     "metadata": {},
     "output_type": "execute_result"
    }
   ],
   "source": [
    "dta.ccg.unique().shape"
   ]
  },
  {
   "cell_type": "markdown",
   "id": "da5c5db3",
   "metadata": {},
   "source": [
    "## Add random feature"
   ]
  },
  {
   "cell_type": "code",
   "execution_count": 6,
   "id": "5e6e0891",
   "metadata": {},
   "outputs": [],
   "source": [
    "# Adding random features\n",
    "\n",
    "rng = np.random.RandomState(0)\n",
    "rand_var = rng.rand(dta.shape[0])\n",
    "dta['rand1'] = rand_var"
   ]
  },
  {
   "cell_type": "code",
   "execution_count": 7,
   "id": "2c6771f6",
   "metadata": {},
   "outputs": [
    {
     "data": {
      "text/plain": [
       "(1425, 13)"
      ]
     },
     "execution_count": 7,
     "metadata": {},
     "output_type": "execute_result"
    }
   ],
   "source": [
    "dta.shape"
   ]
  },
  {
   "cell_type": "markdown",
   "id": "086bd910",
   "metadata": {},
   "source": [
    "## Fitting function "
   ]
  },
  {
   "cell_type": "code",
   "execution_count": 8,
   "id": "0ed191f9",
   "metadata": {},
   "outputs": [],
   "source": [
    "def fit_model(dta, model, features):\n",
    "    \n",
    "    \n",
    "    y = dta['ae_attendances_attendances']\n",
    "    X = dta[features]\n",
    "    \n",
    "    #cross validate to get errors on performance and coefficients\n",
    "    cv_model = cross_validate(model, X,y, \n",
    "                            cv=RepeatedKFold(n_splits=5, n_repeats=5,\n",
    "                                             random_state=0),\n",
    "                            return_estimator=True, \n",
    "                              return_train_score=True, n_jobs=2)\n",
    "    \n",
    "    clf = model.fit(X, y)\n",
    "\n",
    "    \n",
    "    return cv_model"
   ]
  },
  {
   "cell_type": "markdown",
   "id": "10cd6889",
   "metadata": {},
   "source": [
    "## Model Comparison"
   ]
  },
  {
   "cell_type": "markdown",
   "id": "7c430008",
   "metadata": {},
   "source": [
    "### Random Forest "
   ]
  },
  {
   "cell_type": "code",
   "execution_count": 9,
   "id": "5f9767f3",
   "metadata": {},
   "outputs": [],
   "source": [
    "model = RandomForestRegressor()\n",
    "\n",
    "features = ['gp_appt_available',\n",
    "            '111_111_offered', 'amb_sys_answered',\n",
    "            '111_111_answered', 'amb_sys_made']\n",
    "\n",
    "results = fit_model(dta,model,features)"
   ]
  },
  {
   "cell_type": "markdown",
   "id": "68304274",
   "metadata": {},
   "source": [
    "#### Performance "
   ]
  },
  {
   "cell_type": "code",
   "execution_count": 10,
   "id": "bd7b6287",
   "metadata": {},
   "outputs": [
    {
     "data": {
      "text/html": [
       "<div>\n",
       "<style scoped>\n",
       "    .dataframe tbody tr th:only-of-type {\n",
       "        vertical-align: middle;\n",
       "    }\n",
       "\n",
       "    .dataframe tbody tr th {\n",
       "        vertical-align: top;\n",
       "    }\n",
       "\n",
       "    .dataframe thead th {\n",
       "        text-align: right;\n",
       "    }\n",
       "</style>\n",
       "<table border=\"1\" class=\"dataframe\">\n",
       "  <thead>\n",
       "    <tr style=\"text-align: right;\">\n",
       "      <th></th>\n",
       "      <th>test_score</th>\n",
       "      <th>train_score</th>\n",
       "    </tr>\n",
       "  </thead>\n",
       "  <tbody>\n",
       "    <tr>\n",
       "      <th>count</th>\n",
       "      <td>25.000000</td>\n",
       "      <td>25.000000</td>\n",
       "    </tr>\n",
       "    <tr>\n",
       "      <th>mean</th>\n",
       "      <td>0.333201</td>\n",
       "      <td>0.906589</td>\n",
       "    </tr>\n",
       "    <tr>\n",
       "      <th>std</th>\n",
       "      <td>0.069171</td>\n",
       "      <td>0.004628</td>\n",
       "    </tr>\n",
       "    <tr>\n",
       "      <th>min</th>\n",
       "      <td>0.251717</td>\n",
       "      <td>0.897753</td>\n",
       "    </tr>\n",
       "    <tr>\n",
       "      <th>25%</th>\n",
       "      <td>0.279984</td>\n",
       "      <td>0.902410</td>\n",
       "    </tr>\n",
       "    <tr>\n",
       "      <th>50%</th>\n",
       "      <td>0.304903</td>\n",
       "      <td>0.907451</td>\n",
       "    </tr>\n",
       "    <tr>\n",
       "      <th>75%</th>\n",
       "      <td>0.362969</td>\n",
       "      <td>0.909603</td>\n",
       "    </tr>\n",
       "    <tr>\n",
       "      <th>max</th>\n",
       "      <td>0.498345</td>\n",
       "      <td>0.914369</td>\n",
       "    </tr>\n",
       "  </tbody>\n",
       "</table>\n",
       "</div>"
      ],
      "text/plain": [
       "       test_score  train_score\n",
       "count   25.000000    25.000000\n",
       "mean     0.333201     0.906589\n",
       "std      0.069171     0.004628\n",
       "min      0.251717     0.897753\n",
       "25%      0.279984     0.902410\n",
       "50%      0.304903     0.907451\n",
       "75%      0.362969     0.909603\n",
       "max      0.498345     0.914369"
      ]
     },
     "execution_count": 10,
     "metadata": {},
     "output_type": "execute_result"
    }
   ],
   "source": [
    "res=pd.DataFrame()\n",
    "res['test_score'] = results['test_score']\n",
    "res['train_score'] = results['train_score']\n",
    "\n",
    "res.describe()"
   ]
  },
  {
   "cell_type": "markdown",
   "id": "f5cfe75d",
   "metadata": {},
   "source": [
    "#### Coefficients "
   ]
  },
  {
   "cell_type": "code",
   "execution_count": 11,
   "id": "3dda1441",
   "metadata": {},
   "outputs": [
    {
     "data": {
      "text/html": [
       "<div>\n",
       "<style scoped>\n",
       "    .dataframe tbody tr th:only-of-type {\n",
       "        vertical-align: middle;\n",
       "    }\n",
       "\n",
       "    .dataframe tbody tr th {\n",
       "        vertical-align: top;\n",
       "    }\n",
       "\n",
       "    .dataframe thead th {\n",
       "        text-align: right;\n",
       "    }\n",
       "</style>\n",
       "<table border=\"1\" class=\"dataframe\">\n",
       "  <thead>\n",
       "    <tr style=\"text-align: right;\">\n",
       "      <th></th>\n",
       "      <th>gp_appt_available</th>\n",
       "      <th>111_111_offered</th>\n",
       "      <th>amb_sys_answered</th>\n",
       "      <th>111_111_answered</th>\n",
       "      <th>amb_sys_made</th>\n",
       "    </tr>\n",
       "  </thead>\n",
       "  <tbody>\n",
       "    <tr>\n",
       "      <th>count</th>\n",
       "      <td>25.000000</td>\n",
       "      <td>25.000000</td>\n",
       "      <td>25.000000</td>\n",
       "      <td>25.000000</td>\n",
       "      <td>25.000000</td>\n",
       "    </tr>\n",
       "    <tr>\n",
       "      <th>mean</th>\n",
       "      <td>0.366641</td>\n",
       "      <td>0.165856</td>\n",
       "      <td>0.201054</td>\n",
       "      <td>0.090782</td>\n",
       "      <td>0.175667</td>\n",
       "    </tr>\n",
       "    <tr>\n",
       "      <th>std</th>\n",
       "      <td>0.007121</td>\n",
       "      <td>0.021493</td>\n",
       "      <td>0.017359</td>\n",
       "      <td>0.004463</td>\n",
       "      <td>0.022596</td>\n",
       "    </tr>\n",
       "    <tr>\n",
       "      <th>min</th>\n",
       "      <td>0.351474</td>\n",
       "      <td>0.132300</td>\n",
       "      <td>0.175090</td>\n",
       "      <td>0.084022</td>\n",
       "      <td>0.135952</td>\n",
       "    </tr>\n",
       "    <tr>\n",
       "      <th>25%</th>\n",
       "      <td>0.365210</td>\n",
       "      <td>0.151593</td>\n",
       "      <td>0.185831</td>\n",
       "      <td>0.087954</td>\n",
       "      <td>0.154818</td>\n",
       "    </tr>\n",
       "    <tr>\n",
       "      <th>50%</th>\n",
       "      <td>0.368320</td>\n",
       "      <td>0.159192</td>\n",
       "      <td>0.199516</td>\n",
       "      <td>0.090297</td>\n",
       "      <td>0.175823</td>\n",
       "    </tr>\n",
       "    <tr>\n",
       "      <th>75%</th>\n",
       "      <td>0.370201</td>\n",
       "      <td>0.181076</td>\n",
       "      <td>0.215841</td>\n",
       "      <td>0.092903</td>\n",
       "      <td>0.189647</td>\n",
       "    </tr>\n",
       "    <tr>\n",
       "      <th>max</th>\n",
       "      <td>0.380198</td>\n",
       "      <td>0.211102</td>\n",
       "      <td>0.231699</td>\n",
       "      <td>0.100936</td>\n",
       "      <td>0.234170</td>\n",
       "    </tr>\n",
       "  </tbody>\n",
       "</table>\n",
       "</div>"
      ],
      "text/plain": [
       "       gp_appt_available  111_111_offered  amb_sys_answered  111_111_answered  \\\n",
       "count          25.000000        25.000000         25.000000         25.000000   \n",
       "mean            0.366641         0.165856          0.201054          0.090782   \n",
       "std             0.007121         0.021493          0.017359          0.004463   \n",
       "min             0.351474         0.132300          0.175090          0.084022   \n",
       "25%             0.365210         0.151593          0.185831          0.087954   \n",
       "50%             0.368320         0.159192          0.199516          0.090297   \n",
       "75%             0.370201         0.181076          0.215841          0.092903   \n",
       "max             0.380198         0.211102          0.231699          0.100936   \n",
       "\n",
       "       amb_sys_made  \n",
       "count     25.000000  \n",
       "mean       0.175667  \n",
       "std        0.022596  \n",
       "min        0.135952  \n",
       "25%        0.154818  \n",
       "50%        0.175823  \n",
       "75%        0.189647  \n",
       "max        0.234170  "
      ]
     },
     "execution_count": 11,
     "metadata": {},
     "output_type": "execute_result"
    }
   ],
   "source": [
    "coefs = pd.DataFrame(\n",
    "   [model.feature_importances_\n",
    "    for model in results['estimator']],\n",
    "   columns=features\n",
    ")\n",
    "\n",
    "coefs.describe()"
   ]
  },
  {
   "cell_type": "markdown",
   "id": "a37aab65",
   "metadata": {},
   "source": [
    "### Extra Trees"
   ]
  },
  {
   "cell_type": "code",
   "execution_count": 12,
   "id": "d9a33ec4",
   "metadata": {},
   "outputs": [],
   "source": [
    "model = ExtraTreesRegressor()\n",
    "\n",
    "features = ['gp_appt_available',\n",
    "            '111_111_offered', 'amb_sys_answered',\n",
    "            '111_111_answered', 'amb_sys_made']\n",
    "\n",
    "results = fit_model(dta,model,features)"
   ]
  },
  {
   "cell_type": "markdown",
   "id": "258acfe0",
   "metadata": {},
   "source": [
    "#### Performance "
   ]
  },
  {
   "cell_type": "code",
   "execution_count": 13,
   "id": "f17775bf",
   "metadata": {},
   "outputs": [
    {
     "data": {
      "text/html": [
       "<div>\n",
       "<style scoped>\n",
       "    .dataframe tbody tr th:only-of-type {\n",
       "        vertical-align: middle;\n",
       "    }\n",
       "\n",
       "    .dataframe tbody tr th {\n",
       "        vertical-align: top;\n",
       "    }\n",
       "\n",
       "    .dataframe thead th {\n",
       "        text-align: right;\n",
       "    }\n",
       "</style>\n",
       "<table border=\"1\" class=\"dataframe\">\n",
       "  <thead>\n",
       "    <tr style=\"text-align: right;\">\n",
       "      <th></th>\n",
       "      <th>test_score</th>\n",
       "      <th>train_score</th>\n",
       "    </tr>\n",
       "  </thead>\n",
       "  <tbody>\n",
       "    <tr>\n",
       "      <th>count</th>\n",
       "      <td>25.000000</td>\n",
       "      <td>25.0</td>\n",
       "    </tr>\n",
       "    <tr>\n",
       "      <th>mean</th>\n",
       "      <td>0.193561</td>\n",
       "      <td>1.0</td>\n",
       "    </tr>\n",
       "    <tr>\n",
       "      <th>std</th>\n",
       "      <td>0.096864</td>\n",
       "      <td>0.0</td>\n",
       "    </tr>\n",
       "    <tr>\n",
       "      <th>min</th>\n",
       "      <td>0.071355</td>\n",
       "      <td>1.0</td>\n",
       "    </tr>\n",
       "    <tr>\n",
       "      <th>25%</th>\n",
       "      <td>0.124840</td>\n",
       "      <td>1.0</td>\n",
       "    </tr>\n",
       "    <tr>\n",
       "      <th>50%</th>\n",
       "      <td>0.181068</td>\n",
       "      <td>1.0</td>\n",
       "    </tr>\n",
       "    <tr>\n",
       "      <th>75%</th>\n",
       "      <td>0.219083</td>\n",
       "      <td>1.0</td>\n",
       "    </tr>\n",
       "    <tr>\n",
       "      <th>max</th>\n",
       "      <td>0.443345</td>\n",
       "      <td>1.0</td>\n",
       "    </tr>\n",
       "  </tbody>\n",
       "</table>\n",
       "</div>"
      ],
      "text/plain": [
       "       test_score  train_score\n",
       "count   25.000000         25.0\n",
       "mean     0.193561          1.0\n",
       "std      0.096864          0.0\n",
       "min      0.071355          1.0\n",
       "25%      0.124840          1.0\n",
       "50%      0.181068          1.0\n",
       "75%      0.219083          1.0\n",
       "max      0.443345          1.0"
      ]
     },
     "execution_count": 13,
     "metadata": {},
     "output_type": "execute_result"
    }
   ],
   "source": [
    "res=pd.DataFrame()\n",
    "res['test_score'] = results['test_score']\n",
    "res['train_score'] = results['train_score']\n",
    "\n",
    "res.describe()"
   ]
  },
  {
   "cell_type": "markdown",
   "id": "42428027",
   "metadata": {},
   "source": [
    "#### Coefficients "
   ]
  },
  {
   "cell_type": "code",
   "execution_count": 14,
   "id": "bbac3926",
   "metadata": {},
   "outputs": [
    {
     "data": {
      "text/html": [
       "<div>\n",
       "<style scoped>\n",
       "    .dataframe tbody tr th:only-of-type {\n",
       "        vertical-align: middle;\n",
       "    }\n",
       "\n",
       "    .dataframe tbody tr th {\n",
       "        vertical-align: top;\n",
       "    }\n",
       "\n",
       "    .dataframe thead th {\n",
       "        text-align: right;\n",
       "    }\n",
       "</style>\n",
       "<table border=\"1\" class=\"dataframe\">\n",
       "  <thead>\n",
       "    <tr style=\"text-align: right;\">\n",
       "      <th></th>\n",
       "      <th>gp_appt_available</th>\n",
       "      <th>111_111_offered</th>\n",
       "      <th>amb_sys_answered</th>\n",
       "      <th>111_111_answered</th>\n",
       "      <th>amb_sys_made</th>\n",
       "    </tr>\n",
       "  </thead>\n",
       "  <tbody>\n",
       "    <tr>\n",
       "      <th>count</th>\n",
       "      <td>25.000000</td>\n",
       "      <td>25.000000</td>\n",
       "      <td>25.000000</td>\n",
       "      <td>25.000000</td>\n",
       "      <td>25.000000</td>\n",
       "    </tr>\n",
       "    <tr>\n",
       "      <th>mean</th>\n",
       "      <td>0.402054</td>\n",
       "      <td>0.109594</td>\n",
       "      <td>0.207259</td>\n",
       "      <td>0.086423</td>\n",
       "      <td>0.194669</td>\n",
       "    </tr>\n",
       "    <tr>\n",
       "      <th>std</th>\n",
       "      <td>0.010990</td>\n",
       "      <td>0.004853</td>\n",
       "      <td>0.008885</td>\n",
       "      <td>0.003630</td>\n",
       "      <td>0.008952</td>\n",
       "    </tr>\n",
       "    <tr>\n",
       "      <th>min</th>\n",
       "      <td>0.378114</td>\n",
       "      <td>0.099784</td>\n",
       "      <td>0.189729</td>\n",
       "      <td>0.077573</td>\n",
       "      <td>0.173157</td>\n",
       "    </tr>\n",
       "    <tr>\n",
       "      <th>25%</th>\n",
       "      <td>0.397852</td>\n",
       "      <td>0.106351</td>\n",
       "      <td>0.202674</td>\n",
       "      <td>0.084358</td>\n",
       "      <td>0.190694</td>\n",
       "    </tr>\n",
       "    <tr>\n",
       "      <th>50%</th>\n",
       "      <td>0.404817</td>\n",
       "      <td>0.108629</td>\n",
       "      <td>0.207431</td>\n",
       "      <td>0.087038</td>\n",
       "      <td>0.194526</td>\n",
       "    </tr>\n",
       "    <tr>\n",
       "      <th>75%</th>\n",
       "      <td>0.407286</td>\n",
       "      <td>0.113269</td>\n",
       "      <td>0.213277</td>\n",
       "      <td>0.088099</td>\n",
       "      <td>0.201837</td>\n",
       "    </tr>\n",
       "    <tr>\n",
       "      <th>max</th>\n",
       "      <td>0.424098</td>\n",
       "      <td>0.120241</td>\n",
       "      <td>0.223125</td>\n",
       "      <td>0.095986</td>\n",
       "      <td>0.208935</td>\n",
       "    </tr>\n",
       "  </tbody>\n",
       "</table>\n",
       "</div>"
      ],
      "text/plain": [
       "       gp_appt_available  111_111_offered  amb_sys_answered  111_111_answered  \\\n",
       "count          25.000000        25.000000         25.000000         25.000000   \n",
       "mean            0.402054         0.109594          0.207259          0.086423   \n",
       "std             0.010990         0.004853          0.008885          0.003630   \n",
       "min             0.378114         0.099784          0.189729          0.077573   \n",
       "25%             0.397852         0.106351          0.202674          0.084358   \n",
       "50%             0.404817         0.108629          0.207431          0.087038   \n",
       "75%             0.407286         0.113269          0.213277          0.088099   \n",
       "max             0.424098         0.120241          0.223125          0.095986   \n",
       "\n",
       "       amb_sys_made  \n",
       "count     25.000000  \n",
       "mean       0.194669  \n",
       "std        0.008952  \n",
       "min        0.173157  \n",
       "25%        0.190694  \n",
       "50%        0.194526  \n",
       "75%        0.201837  \n",
       "max        0.208935  "
      ]
     },
     "execution_count": 14,
     "metadata": {},
     "output_type": "execute_result"
    }
   ],
   "source": [
    "coefs = pd.DataFrame(\n",
    "   [model.feature_importances_\n",
    "    for model in results['estimator']],\n",
    "   columns=features\n",
    ")\n",
    "\n",
    "coefs.describe()"
   ]
  },
  {
   "cell_type": "markdown",
   "id": "7ca744b4",
   "metadata": {},
   "source": [
    "### Gradient Boosted Trees"
   ]
  },
  {
   "cell_type": "code",
   "execution_count": 15,
   "id": "9684c5d1",
   "metadata": {},
   "outputs": [],
   "source": [
    "model = GradientBoostingRegressor()\n",
    "\n",
    "features = ['gp_appt_available',\n",
    "            '111_111_offered', 'amb_sys_answered',\n",
    "            '111_111_answered', 'amb_sys_made']\n",
    "\n",
    "results = fit_model(dta,model,features)"
   ]
  },
  {
   "cell_type": "markdown",
   "id": "d1c01a3a",
   "metadata": {},
   "source": [
    "#### Performance "
   ]
  },
  {
   "cell_type": "code",
   "execution_count": 16,
   "id": "8e6e1159",
   "metadata": {},
   "outputs": [
    {
     "data": {
      "text/html": [
       "<div>\n",
       "<style scoped>\n",
       "    .dataframe tbody tr th:only-of-type {\n",
       "        vertical-align: middle;\n",
       "    }\n",
       "\n",
       "    .dataframe tbody tr th {\n",
       "        vertical-align: top;\n",
       "    }\n",
       "\n",
       "    .dataframe thead th {\n",
       "        text-align: right;\n",
       "    }\n",
       "</style>\n",
       "<table border=\"1\" class=\"dataframe\">\n",
       "  <thead>\n",
       "    <tr style=\"text-align: right;\">\n",
       "      <th></th>\n",
       "      <th>test_score</th>\n",
       "      <th>train_score</th>\n",
       "    </tr>\n",
       "  </thead>\n",
       "  <tbody>\n",
       "    <tr>\n",
       "      <th>count</th>\n",
       "      <td>25.000000</td>\n",
       "      <td>25.000000</td>\n",
       "    </tr>\n",
       "    <tr>\n",
       "      <th>mean</th>\n",
       "      <td>0.418383</td>\n",
       "      <td>0.575885</td>\n",
       "    </tr>\n",
       "    <tr>\n",
       "      <th>std</th>\n",
       "      <td>0.045061</td>\n",
       "      <td>0.013257</td>\n",
       "    </tr>\n",
       "    <tr>\n",
       "      <th>min</th>\n",
       "      <td>0.343425</td>\n",
       "      <td>0.553899</td>\n",
       "    </tr>\n",
       "    <tr>\n",
       "      <th>25%</th>\n",
       "      <td>0.381125</td>\n",
       "      <td>0.566043</td>\n",
       "    </tr>\n",
       "    <tr>\n",
       "      <th>50%</th>\n",
       "      <td>0.421800</td>\n",
       "      <td>0.578035</td>\n",
       "    </tr>\n",
       "    <tr>\n",
       "      <th>75%</th>\n",
       "      <td>0.443099</td>\n",
       "      <td>0.580513</td>\n",
       "    </tr>\n",
       "    <tr>\n",
       "      <th>max</th>\n",
       "      <td>0.499701</td>\n",
       "      <td>0.598746</td>\n",
       "    </tr>\n",
       "  </tbody>\n",
       "</table>\n",
       "</div>"
      ],
      "text/plain": [
       "       test_score  train_score\n",
       "count   25.000000    25.000000\n",
       "mean     0.418383     0.575885\n",
       "std      0.045061     0.013257\n",
       "min      0.343425     0.553899\n",
       "25%      0.381125     0.566043\n",
       "50%      0.421800     0.578035\n",
       "75%      0.443099     0.580513\n",
       "max      0.499701     0.598746"
      ]
     },
     "execution_count": 16,
     "metadata": {},
     "output_type": "execute_result"
    }
   ],
   "source": [
    "res=pd.DataFrame()\n",
    "res['test_score'] = results['test_score']\n",
    "res['train_score'] = results['train_score']\n",
    "\n",
    "res.describe()"
   ]
  },
  {
   "cell_type": "markdown",
   "id": "e42f0d91",
   "metadata": {},
   "source": [
    "#### Coefficients "
   ]
  },
  {
   "cell_type": "code",
   "execution_count": 17,
   "id": "b40a469f",
   "metadata": {},
   "outputs": [
    {
     "data": {
      "text/html": [
       "<div>\n",
       "<style scoped>\n",
       "    .dataframe tbody tr th:only-of-type {\n",
       "        vertical-align: middle;\n",
       "    }\n",
       "\n",
       "    .dataframe tbody tr th {\n",
       "        vertical-align: top;\n",
       "    }\n",
       "\n",
       "    .dataframe thead th {\n",
       "        text-align: right;\n",
       "    }\n",
       "</style>\n",
       "<table border=\"1\" class=\"dataframe\">\n",
       "  <thead>\n",
       "    <tr style=\"text-align: right;\">\n",
       "      <th></th>\n",
       "      <th>gp_appt_available</th>\n",
       "      <th>111_111_offered</th>\n",
       "      <th>amb_sys_answered</th>\n",
       "      <th>111_111_answered</th>\n",
       "      <th>amb_sys_made</th>\n",
       "    </tr>\n",
       "  </thead>\n",
       "  <tbody>\n",
       "    <tr>\n",
       "      <th>count</th>\n",
       "      <td>25.000000</td>\n",
       "      <td>25.000000</td>\n",
       "      <td>25.000000</td>\n",
       "      <td>25.000000</td>\n",
       "      <td>25.000000</td>\n",
       "    </tr>\n",
       "    <tr>\n",
       "      <th>mean</th>\n",
       "      <td>0.195654</td>\n",
       "      <td>0.238214</td>\n",
       "      <td>0.352163</td>\n",
       "      <td>0.056986</td>\n",
       "      <td>0.156983</td>\n",
       "    </tr>\n",
       "    <tr>\n",
       "      <th>std</th>\n",
       "      <td>0.016058</td>\n",
       "      <td>0.055671</td>\n",
       "      <td>0.042150</td>\n",
       "      <td>0.009250</td>\n",
       "      <td>0.047319</td>\n",
       "    </tr>\n",
       "    <tr>\n",
       "      <th>min</th>\n",
       "      <td>0.166057</td>\n",
       "      <td>0.125610</td>\n",
       "      <td>0.292792</td>\n",
       "      <td>0.040693</td>\n",
       "      <td>0.094238</td>\n",
       "    </tr>\n",
       "    <tr>\n",
       "      <th>25%</th>\n",
       "      <td>0.185457</td>\n",
       "      <td>0.198476</td>\n",
       "      <td>0.321992</td>\n",
       "      <td>0.052005</td>\n",
       "      <td>0.128160</td>\n",
       "    </tr>\n",
       "    <tr>\n",
       "      <th>50%</th>\n",
       "      <td>0.193253</td>\n",
       "      <td>0.246512</td>\n",
       "      <td>0.352053</td>\n",
       "      <td>0.055817</td>\n",
       "      <td>0.141809</td>\n",
       "    </tr>\n",
       "    <tr>\n",
       "      <th>75%</th>\n",
       "      <td>0.206808</td>\n",
       "      <td>0.289712</td>\n",
       "      <td>0.375758</td>\n",
       "      <td>0.063965</td>\n",
       "      <td>0.187729</td>\n",
       "    </tr>\n",
       "    <tr>\n",
       "      <th>max</th>\n",
       "      <td>0.224541</td>\n",
       "      <td>0.313029</td>\n",
       "      <td>0.442558</td>\n",
       "      <td>0.081120</td>\n",
       "      <td>0.300498</td>\n",
       "    </tr>\n",
       "  </tbody>\n",
       "</table>\n",
       "</div>"
      ],
      "text/plain": [
       "       gp_appt_available  111_111_offered  amb_sys_answered  111_111_answered  \\\n",
       "count          25.000000        25.000000         25.000000         25.000000   \n",
       "mean            0.195654         0.238214          0.352163          0.056986   \n",
       "std             0.016058         0.055671          0.042150          0.009250   \n",
       "min             0.166057         0.125610          0.292792          0.040693   \n",
       "25%             0.185457         0.198476          0.321992          0.052005   \n",
       "50%             0.193253         0.246512          0.352053          0.055817   \n",
       "75%             0.206808         0.289712          0.375758          0.063965   \n",
       "max             0.224541         0.313029          0.442558          0.081120   \n",
       "\n",
       "       amb_sys_made  \n",
       "count     25.000000  \n",
       "mean       0.156983  \n",
       "std        0.047319  \n",
       "min        0.094238  \n",
       "25%        0.128160  \n",
       "50%        0.141809  \n",
       "75%        0.187729  \n",
       "max        0.300498  "
      ]
     },
     "execution_count": 17,
     "metadata": {},
     "output_type": "execute_result"
    }
   ],
   "source": [
    "coefs = pd.DataFrame(\n",
    "   [model.feature_importances_\n",
    "    for model in results['estimator']],\n",
    "   columns=features\n",
    ")\n",
    "\n",
    "coefs.describe()"
   ]
  },
  {
   "cell_type": "markdown",
   "id": "c80f0e02",
   "metadata": {},
   "source": [
    "### ADA Boost"
   ]
  },
  {
   "cell_type": "code",
   "execution_count": 18,
   "id": "dba12cb8",
   "metadata": {},
   "outputs": [],
   "source": [
    "model = AdaBoostRegressor()\n",
    "\n",
    "features = ['gp_appt_available',\n",
    "            '111_111_offered', 'amb_sys_answered',\n",
    "            '111_111_answered', 'amb_sys_made']\n",
    "\n",
    "results = fit_model(dta,model,features)"
   ]
  },
  {
   "cell_type": "markdown",
   "id": "c6a9715d",
   "metadata": {},
   "source": [
    "#### Performance "
   ]
  },
  {
   "cell_type": "code",
   "execution_count": 19,
   "id": "9c6106c5",
   "metadata": {},
   "outputs": [
    {
     "data": {
      "text/html": [
       "<div>\n",
       "<style scoped>\n",
       "    .dataframe tbody tr th:only-of-type {\n",
       "        vertical-align: middle;\n",
       "    }\n",
       "\n",
       "    .dataframe tbody tr th {\n",
       "        vertical-align: top;\n",
       "    }\n",
       "\n",
       "    .dataframe thead th {\n",
       "        text-align: right;\n",
       "    }\n",
       "</style>\n",
       "<table border=\"1\" class=\"dataframe\">\n",
       "  <thead>\n",
       "    <tr style=\"text-align: right;\">\n",
       "      <th></th>\n",
       "      <th>test_score</th>\n",
       "      <th>train_score</th>\n",
       "    </tr>\n",
       "  </thead>\n",
       "  <tbody>\n",
       "    <tr>\n",
       "      <th>count</th>\n",
       "      <td>25.000000</td>\n",
       "      <td>25.000000</td>\n",
       "    </tr>\n",
       "    <tr>\n",
       "      <th>mean</th>\n",
       "      <td>0.363098</td>\n",
       "      <td>0.398103</td>\n",
       "    </tr>\n",
       "    <tr>\n",
       "      <th>std</th>\n",
       "      <td>0.050498</td>\n",
       "      <td>0.021394</td>\n",
       "    </tr>\n",
       "    <tr>\n",
       "      <th>min</th>\n",
       "      <td>0.257391</td>\n",
       "      <td>0.357158</td>\n",
       "    </tr>\n",
       "    <tr>\n",
       "      <th>25%</th>\n",
       "      <td>0.325664</td>\n",
       "      <td>0.379429</td>\n",
       "    </tr>\n",
       "    <tr>\n",
       "      <th>50%</th>\n",
       "      <td>0.355694</td>\n",
       "      <td>0.401322</td>\n",
       "    </tr>\n",
       "    <tr>\n",
       "      <th>75%</th>\n",
       "      <td>0.403047</td>\n",
       "      <td>0.412600</td>\n",
       "    </tr>\n",
       "    <tr>\n",
       "      <th>max</th>\n",
       "      <td>0.458281</td>\n",
       "      <td>0.440541</td>\n",
       "    </tr>\n",
       "  </tbody>\n",
       "</table>\n",
       "</div>"
      ],
      "text/plain": [
       "       test_score  train_score\n",
       "count   25.000000    25.000000\n",
       "mean     0.363098     0.398103\n",
       "std      0.050498     0.021394\n",
       "min      0.257391     0.357158\n",
       "25%      0.325664     0.379429\n",
       "50%      0.355694     0.401322\n",
       "75%      0.403047     0.412600\n",
       "max      0.458281     0.440541"
      ]
     },
     "execution_count": 19,
     "metadata": {},
     "output_type": "execute_result"
    }
   ],
   "source": [
    "res=pd.DataFrame()\n",
    "res['test_score'] = results['test_score']\n",
    "res['train_score'] = results['train_score']\n",
    "\n",
    "res.describe()"
   ]
  },
  {
   "cell_type": "markdown",
   "id": "162a9c54",
   "metadata": {},
   "source": [
    "#### Coefficients "
   ]
  },
  {
   "cell_type": "code",
   "execution_count": 20,
   "id": "96065f85",
   "metadata": {},
   "outputs": [
    {
     "data": {
      "text/html": [
       "<div>\n",
       "<style scoped>\n",
       "    .dataframe tbody tr th:only-of-type {\n",
       "        vertical-align: middle;\n",
       "    }\n",
       "\n",
       "    .dataframe tbody tr th {\n",
       "        vertical-align: top;\n",
       "    }\n",
       "\n",
       "    .dataframe thead th {\n",
       "        text-align: right;\n",
       "    }\n",
       "</style>\n",
       "<table border=\"1\" class=\"dataframe\">\n",
       "  <thead>\n",
       "    <tr style=\"text-align: right;\">\n",
       "      <th></th>\n",
       "      <th>gp_appt_available</th>\n",
       "      <th>111_111_offered</th>\n",
       "      <th>amb_sys_answered</th>\n",
       "      <th>111_111_answered</th>\n",
       "      <th>amb_sys_made</th>\n",
       "    </tr>\n",
       "  </thead>\n",
       "  <tbody>\n",
       "    <tr>\n",
       "      <th>count</th>\n",
       "      <td>25.000000</td>\n",
       "      <td>25.000000</td>\n",
       "      <td>25.000000</td>\n",
       "      <td>25.000000</td>\n",
       "      <td>25.000000</td>\n",
       "    </tr>\n",
       "    <tr>\n",
       "      <th>mean</th>\n",
       "      <td>0.139320</td>\n",
       "      <td>0.188261</td>\n",
       "      <td>0.447331</td>\n",
       "      <td>0.033578</td>\n",
       "      <td>0.191510</td>\n",
       "    </tr>\n",
       "    <tr>\n",
       "      <th>std</th>\n",
       "      <td>0.021558</td>\n",
       "      <td>0.065087</td>\n",
       "      <td>0.105463</td>\n",
       "      <td>0.023787</td>\n",
       "      <td>0.115929</td>\n",
       "    </tr>\n",
       "    <tr>\n",
       "      <th>min</th>\n",
       "      <td>0.098634</td>\n",
       "      <td>0.057043</td>\n",
       "      <td>0.221313</td>\n",
       "      <td>0.003519</td>\n",
       "      <td>0.020152</td>\n",
       "    </tr>\n",
       "    <tr>\n",
       "      <th>25%</th>\n",
       "      <td>0.125532</td>\n",
       "      <td>0.146272</td>\n",
       "      <td>0.409148</td>\n",
       "      <td>0.017522</td>\n",
       "      <td>0.110426</td>\n",
       "    </tr>\n",
       "    <tr>\n",
       "      <th>50%</th>\n",
       "      <td>0.144176</td>\n",
       "      <td>0.191572</td>\n",
       "      <td>0.446521</td>\n",
       "      <td>0.029078</td>\n",
       "      <td>0.169650</td>\n",
       "    </tr>\n",
       "    <tr>\n",
       "      <th>75%</th>\n",
       "      <td>0.154744</td>\n",
       "      <td>0.223349</td>\n",
       "      <td>0.530729</td>\n",
       "      <td>0.042222</td>\n",
       "      <td>0.238708</td>\n",
       "    </tr>\n",
       "    <tr>\n",
       "      <th>max</th>\n",
       "      <td>0.183413</td>\n",
       "      <td>0.327782</td>\n",
       "      <td>0.644891</td>\n",
       "      <td>0.096912</td>\n",
       "      <td>0.464397</td>\n",
       "    </tr>\n",
       "  </tbody>\n",
       "</table>\n",
       "</div>"
      ],
      "text/plain": [
       "       gp_appt_available  111_111_offered  amb_sys_answered  111_111_answered  \\\n",
       "count          25.000000        25.000000         25.000000         25.000000   \n",
       "mean            0.139320         0.188261          0.447331          0.033578   \n",
       "std             0.021558         0.065087          0.105463          0.023787   \n",
       "min             0.098634         0.057043          0.221313          0.003519   \n",
       "25%             0.125532         0.146272          0.409148          0.017522   \n",
       "50%             0.144176         0.191572          0.446521          0.029078   \n",
       "75%             0.154744         0.223349          0.530729          0.042222   \n",
       "max             0.183413         0.327782          0.644891          0.096912   \n",
       "\n",
       "       amb_sys_made  \n",
       "count     25.000000  \n",
       "mean       0.191510  \n",
       "std        0.115929  \n",
       "min        0.020152  \n",
       "25%        0.110426  \n",
       "50%        0.169650  \n",
       "75%        0.238708  \n",
       "max        0.464397  "
      ]
     },
     "execution_count": 20,
     "metadata": {},
     "output_type": "execute_result"
    }
   ],
   "source": [
    "coefs = pd.DataFrame(\n",
    "   [model.feature_importances_\n",
    "    for model in results['estimator']],\n",
    "   columns=features\n",
    ")\n",
    "\n",
    "coefs.describe()"
   ]
  },
  {
   "cell_type": "markdown",
   "id": "7abaf35c",
   "metadata": {},
   "source": [
    "## Summary "
   ]
  },
  {
   "cell_type": "markdown",
   "id": "3b76b92e",
   "metadata": {},
   "source": [
    "- Extra Trees does not preform well\n",
    "- Random forest with default parameters is overfitting to the training data\n",
    "- Gradient boosted trees performs best"
   ]
  }
 ],
 "metadata": {
  "kernelspec": {
   "display_name": "Python 3 (ipykernel)",
   "language": "python",
   "name": "python3"
  },
  "language_info": {
   "codemirror_mode": {
    "name": "ipython",
    "version": 3
   },
   "file_extension": ".py",
   "mimetype": "text/x-python",
   "name": "python",
   "nbconvert_exporter": "python",
   "pygments_lexer": "ipython3",
   "version": "3.9.12"
  }
 },
 "nbformat": 4,
 "nbformat_minor": 5
}
