{
 "cells": [
  {
   "cell_type": "markdown",
   "id": "787816c8",
   "metadata": {},
   "source": [
    "# Tree-based models "
   ]
  },
  {
   "cell_type": "markdown",
   "id": "6bbda47d",
   "metadata": {},
   "source": [
    "## Overview "
   ]
  },
  {
   "cell_type": "markdown",
   "id": "5d0df2b5",
   "metadata": {},
   "source": [
    "This notebook contains an initial exploration of tree-based regressions to predict monthly ED demand. \n",
    "\n",
    "As the variables population, people, places and lives only vary annually they cannot be included in the model due to data leakage between the training and test sets.\n",
    "\n",
    "For all models, variables used include:\n",
    "\n",
    "- Service capacity (111, GP, Ambulance)\n",
    "- Service utility (111, Ambulance)"
   ]
  },
  {
   "cell_type": "code",
   "execution_count": 1,
   "id": "4cec45c7",
   "metadata": {},
   "outputs": [],
   "source": [
    "#turn warnings off to keep notebook tidy\n",
    "import warnings\n",
    "warnings.filterwarnings('ignore')"
   ]
  },
  {
   "cell_type": "markdown",
   "id": "e5f293e5",
   "metadata": {},
   "source": [
    "## Import libraries "
   ]
  },
  {
   "cell_type": "code",
   "execution_count": 2,
   "id": "51bc0659",
   "metadata": {},
   "outputs": [],
   "source": [
    "import os\n",
    "import pandas as pd\n",
    "import numpy as np\n",
    "\n",
    "from sklearn.ensemble import RandomForestRegressor\n",
    "from sklearn.ensemble import ExtraTreesRegressor\n",
    "from sklearn.ensemble import GradientBoostingRegressor\n",
    "from sklearn.ensemble import AdaBoostRegressor\n",
    "\n",
    "from sklearn.model_selection import train_test_split\n",
    "from sklearn.pipeline import make_pipeline\n",
    "from sklearn.preprocessing import StandardScaler\n",
    "\n",
    "from sklearn.model_selection import cross_validate\n",
    "from sklearn.model_selection import RepeatedKFold"
   ]
  },
  {
   "cell_type": "markdown",
   "id": "a24d85cb",
   "metadata": {},
   "source": [
    "## Import data "
   ]
  },
  {
   "cell_type": "code",
   "execution_count": 3,
   "id": "13122672",
   "metadata": {},
   "outputs": [],
   "source": [
    "dta = pd.read_csv('../data/master_scaled.csv', index_col=0)"
   ]
  },
  {
   "cell_type": "code",
   "execution_count": 4,
   "id": "e369d537",
   "metadata": {},
   "outputs": [],
   "source": [
    "dta.columns = ['_'.join([c.split('/')[0],c.split('/')[-1]]) \n",
    "               if '/' in c else c for c in dta.columns]"
   ]
  },
  {
   "cell_type": "code",
   "execution_count": 5,
   "id": "88dee7c6",
   "metadata": {},
   "outputs": [
    {
     "data": {
      "text/plain": [
       "(73,)"
      ]
     },
     "execution_count": 5,
     "metadata": {},
     "output_type": "execute_result"
    }
   ],
   "source": [
    "dta.ccg.unique().shape"
   ]
  },
  {
   "cell_type": "markdown",
   "id": "da5c5db3",
   "metadata": {},
   "source": [
    "## Add random feature"
   ]
  },
  {
   "cell_type": "code",
   "execution_count": 6,
   "id": "5e6e0891",
   "metadata": {},
   "outputs": [],
   "source": [
    "# Adding random features\n",
    "\n",
    "rng = np.random.RandomState(0)\n",
    "rand_var = rng.rand(dta.shape[0])\n",
    "dta['rand1'] = rand_var"
   ]
  },
  {
   "cell_type": "code",
   "execution_count": 7,
   "id": "2c6771f6",
   "metadata": {},
   "outputs": [
    {
     "data": {
      "text/plain": [
       "(1465, 14)"
      ]
     },
     "execution_count": 7,
     "metadata": {},
     "output_type": "execute_result"
    }
   ],
   "source": [
    "dta.shape"
   ]
  },
  {
   "cell_type": "markdown",
   "id": "086bd910",
   "metadata": {},
   "source": [
    "## Fitting function "
   ]
  },
  {
   "cell_type": "code",
   "execution_count": 8,
   "id": "0ed191f9",
   "metadata": {},
   "outputs": [],
   "source": [
    "def fit_model(dta, model, features):\n",
    "    \n",
    "    \n",
    "    y = dta['ae_attendances_attendances']\n",
    "    X = dta[features]\n",
    "    \n",
    "    #cross validate to get errors on performance and coefficients\n",
    "    cv_model = cross_validate(model, X,y, \n",
    "                            cv=RepeatedKFold(n_splits=5, n_repeats=5,\n",
    "                                             random_state=0),\n",
    "                            return_estimator=True, \n",
    "                              return_train_score=True, n_jobs=2)\n",
    "    \n",
    "    clf = model.fit(X, y)\n",
    "\n",
    "    \n",
    "    return cv_model"
   ]
  },
  {
   "cell_type": "markdown",
   "id": "10cd6889",
   "metadata": {},
   "source": [
    "## Model Comparison"
   ]
  },
  {
   "cell_type": "markdown",
   "id": "7c430008",
   "metadata": {},
   "source": [
    "### Random Forest "
   ]
  },
  {
   "cell_type": "code",
   "execution_count": 9,
   "id": "5f9767f3",
   "metadata": {},
   "outputs": [],
   "source": [
    "model = RandomForestRegressor()\n",
    "\n",
    "features = ['gp_appt_available',\n",
    "            '111_111_offered', 'amb_sys_answered',\n",
    "            '111_111_answered', 'amb_sys_made']\n",
    "\n",
    "results = fit_model(dta,model,features)"
   ]
  },
  {
   "cell_type": "markdown",
   "id": "68304274",
   "metadata": {},
   "source": [
    "#### Performance "
   ]
  },
  {
   "cell_type": "code",
   "execution_count": 10,
   "id": "bd7b6287",
   "metadata": {},
   "outputs": [
    {
     "data": {
      "text/html": [
       "<div>\n",
       "<style scoped>\n",
       "    .dataframe tbody tr th:only-of-type {\n",
       "        vertical-align: middle;\n",
       "    }\n",
       "\n",
       "    .dataframe tbody tr th {\n",
       "        vertical-align: top;\n",
       "    }\n",
       "\n",
       "    .dataframe thead th {\n",
       "        text-align: right;\n",
       "    }\n",
       "</style>\n",
       "<table border=\"1\" class=\"dataframe\">\n",
       "  <thead>\n",
       "    <tr style=\"text-align: right;\">\n",
       "      <th></th>\n",
       "      <th>test_score</th>\n",
       "      <th>train_score</th>\n",
       "    </tr>\n",
       "  </thead>\n",
       "  <tbody>\n",
       "    <tr>\n",
       "      <th>count</th>\n",
       "      <td>25.000000</td>\n",
       "      <td>25.000000</td>\n",
       "    </tr>\n",
       "    <tr>\n",
       "      <th>mean</th>\n",
       "      <td>0.322130</td>\n",
       "      <td>0.906824</td>\n",
       "    </tr>\n",
       "    <tr>\n",
       "      <th>std</th>\n",
       "      <td>0.069696</td>\n",
       "      <td>0.003302</td>\n",
       "    </tr>\n",
       "    <tr>\n",
       "      <th>min</th>\n",
       "      <td>0.194441</td>\n",
       "      <td>0.901193</td>\n",
       "    </tr>\n",
       "    <tr>\n",
       "      <th>25%</th>\n",
       "      <td>0.276673</td>\n",
       "      <td>0.904595</td>\n",
       "    </tr>\n",
       "    <tr>\n",
       "      <th>50%</th>\n",
       "      <td>0.306864</td>\n",
       "      <td>0.906745</td>\n",
       "    </tr>\n",
       "    <tr>\n",
       "      <th>75%</th>\n",
       "      <td>0.363652</td>\n",
       "      <td>0.909827</td>\n",
       "    </tr>\n",
       "    <tr>\n",
       "      <th>max</th>\n",
       "      <td>0.430799</td>\n",
       "      <td>0.912196</td>\n",
       "    </tr>\n",
       "  </tbody>\n",
       "</table>\n",
       "</div>"
      ],
      "text/plain": [
       "       test_score  train_score\n",
       "count   25.000000    25.000000\n",
       "mean     0.322130     0.906824\n",
       "std      0.069696     0.003302\n",
       "min      0.194441     0.901193\n",
       "25%      0.276673     0.904595\n",
       "50%      0.306864     0.906745\n",
       "75%      0.363652     0.909827\n",
       "max      0.430799     0.912196"
      ]
     },
     "execution_count": 10,
     "metadata": {},
     "output_type": "execute_result"
    }
   ],
   "source": [
    "res=pd.DataFrame()\n",
    "res['test_score'] = results['test_score']\n",
    "res['train_score'] = results['train_score']\n",
    "\n",
    "res.describe()"
   ]
  },
  {
   "cell_type": "markdown",
   "id": "f5cfe75d",
   "metadata": {},
   "source": [
    "#### Coefficients "
   ]
  },
  {
   "cell_type": "code",
   "execution_count": 11,
   "id": "3dda1441",
   "metadata": {},
   "outputs": [
    {
     "data": {
      "text/html": [
       "<div>\n",
       "<style scoped>\n",
       "    .dataframe tbody tr th:only-of-type {\n",
       "        vertical-align: middle;\n",
       "    }\n",
       "\n",
       "    .dataframe tbody tr th {\n",
       "        vertical-align: top;\n",
       "    }\n",
       "\n",
       "    .dataframe thead th {\n",
       "        text-align: right;\n",
       "    }\n",
       "</style>\n",
       "<table border=\"1\" class=\"dataframe\">\n",
       "  <thead>\n",
       "    <tr style=\"text-align: right;\">\n",
       "      <th></th>\n",
       "      <th>gp_appt_available</th>\n",
       "      <th>111_111_offered</th>\n",
       "      <th>amb_sys_answered</th>\n",
       "      <th>111_111_answered</th>\n",
       "      <th>amb_sys_made</th>\n",
       "    </tr>\n",
       "  </thead>\n",
       "  <tbody>\n",
       "    <tr>\n",
       "      <th>count</th>\n",
       "      <td>25.000000</td>\n",
       "      <td>25.000000</td>\n",
       "      <td>25.000000</td>\n",
       "      <td>25.000000</td>\n",
       "      <td>25.000000</td>\n",
       "    </tr>\n",
       "    <tr>\n",
       "      <th>mean</th>\n",
       "      <td>0.365801</td>\n",
       "      <td>0.170317</td>\n",
       "      <td>0.197221</td>\n",
       "      <td>0.089667</td>\n",
       "      <td>0.176993</td>\n",
       "    </tr>\n",
       "    <tr>\n",
       "      <th>std</th>\n",
       "      <td>0.008997</td>\n",
       "      <td>0.027994</td>\n",
       "      <td>0.020464</td>\n",
       "      <td>0.004874</td>\n",
       "      <td>0.026938</td>\n",
       "    </tr>\n",
       "    <tr>\n",
       "      <th>min</th>\n",
       "      <td>0.346552</td>\n",
       "      <td>0.107991</td>\n",
       "      <td>0.160373</td>\n",
       "      <td>0.079188</td>\n",
       "      <td>0.133565</td>\n",
       "    </tr>\n",
       "    <tr>\n",
       "      <th>25%</th>\n",
       "      <td>0.360525</td>\n",
       "      <td>0.151561</td>\n",
       "      <td>0.180527</td>\n",
       "      <td>0.086168</td>\n",
       "      <td>0.158953</td>\n",
       "    </tr>\n",
       "    <tr>\n",
       "      <th>50%</th>\n",
       "      <td>0.364814</td>\n",
       "      <td>0.177633</td>\n",
       "      <td>0.199804</td>\n",
       "      <td>0.091123</td>\n",
       "      <td>0.174052</td>\n",
       "    </tr>\n",
       "    <tr>\n",
       "      <th>75%</th>\n",
       "      <td>0.373580</td>\n",
       "      <td>0.192863</td>\n",
       "      <td>0.209531</td>\n",
       "      <td>0.092345</td>\n",
       "      <td>0.189550</td>\n",
       "    </tr>\n",
       "    <tr>\n",
       "      <th>max</th>\n",
       "      <td>0.380157</td>\n",
       "      <td>0.204971</td>\n",
       "      <td>0.237596</td>\n",
       "      <td>0.099505</td>\n",
       "      <td>0.256822</td>\n",
       "    </tr>\n",
       "  </tbody>\n",
       "</table>\n",
       "</div>"
      ],
      "text/plain": [
       "       gp_appt_available  111_111_offered  amb_sys_answered  111_111_answered  \\\n",
       "count          25.000000        25.000000         25.000000         25.000000   \n",
       "mean            0.365801         0.170317          0.197221          0.089667   \n",
       "std             0.008997         0.027994          0.020464          0.004874   \n",
       "min             0.346552         0.107991          0.160373          0.079188   \n",
       "25%             0.360525         0.151561          0.180527          0.086168   \n",
       "50%             0.364814         0.177633          0.199804          0.091123   \n",
       "75%             0.373580         0.192863          0.209531          0.092345   \n",
       "max             0.380157         0.204971          0.237596          0.099505   \n",
       "\n",
       "       amb_sys_made  \n",
       "count     25.000000  \n",
       "mean       0.176993  \n",
       "std        0.026938  \n",
       "min        0.133565  \n",
       "25%        0.158953  \n",
       "50%        0.174052  \n",
       "75%        0.189550  \n",
       "max        0.256822  "
      ]
     },
     "execution_count": 11,
     "metadata": {},
     "output_type": "execute_result"
    }
   ],
   "source": [
    "coefs = pd.DataFrame(\n",
    "   [model.feature_importances_\n",
    "    for model in results['estimator']],\n",
    "   columns=features\n",
    ")\n",
    "\n",
    "coefs.describe()"
   ]
  },
  {
   "cell_type": "markdown",
   "id": "a37aab65",
   "metadata": {},
   "source": [
    "### Extra Trees"
   ]
  },
  {
   "cell_type": "code",
   "execution_count": 12,
   "id": "d9a33ec4",
   "metadata": {},
   "outputs": [],
   "source": [
    "model = ExtraTreesRegressor()\n",
    "\n",
    "features = ['gp_appt_available',\n",
    "            '111_111_offered', 'amb_sys_answered',\n",
    "            '111_111_answered', 'amb_sys_made']\n",
    "\n",
    "results = fit_model(dta,model,features)"
   ]
  },
  {
   "cell_type": "markdown",
   "id": "258acfe0",
   "metadata": {},
   "source": [
    "#### Performance "
   ]
  },
  {
   "cell_type": "code",
   "execution_count": 13,
   "id": "f17775bf",
   "metadata": {},
   "outputs": [
    {
     "data": {
      "text/html": [
       "<div>\n",
       "<style scoped>\n",
       "    .dataframe tbody tr th:only-of-type {\n",
       "        vertical-align: middle;\n",
       "    }\n",
       "\n",
       "    .dataframe tbody tr th {\n",
       "        vertical-align: top;\n",
       "    }\n",
       "\n",
       "    .dataframe thead th {\n",
       "        text-align: right;\n",
       "    }\n",
       "</style>\n",
       "<table border=\"1\" class=\"dataframe\">\n",
       "  <thead>\n",
       "    <tr style=\"text-align: right;\">\n",
       "      <th></th>\n",
       "      <th>test_score</th>\n",
       "      <th>train_score</th>\n",
       "    </tr>\n",
       "  </thead>\n",
       "  <tbody>\n",
       "    <tr>\n",
       "      <th>count</th>\n",
       "      <td>25.000000</td>\n",
       "      <td>25.0</td>\n",
       "    </tr>\n",
       "    <tr>\n",
       "      <th>mean</th>\n",
       "      <td>0.180580</td>\n",
       "      <td>1.0</td>\n",
       "    </tr>\n",
       "    <tr>\n",
       "      <th>std</th>\n",
       "      <td>0.086218</td>\n",
       "      <td>0.0</td>\n",
       "    </tr>\n",
       "    <tr>\n",
       "      <th>min</th>\n",
       "      <td>0.017548</td>\n",
       "      <td>1.0</td>\n",
       "    </tr>\n",
       "    <tr>\n",
       "      <th>25%</th>\n",
       "      <td>0.121401</td>\n",
       "      <td>1.0</td>\n",
       "    </tr>\n",
       "    <tr>\n",
       "      <th>50%</th>\n",
       "      <td>0.178484</td>\n",
       "      <td>1.0</td>\n",
       "    </tr>\n",
       "    <tr>\n",
       "      <th>75%</th>\n",
       "      <td>0.233753</td>\n",
       "      <td>1.0</td>\n",
       "    </tr>\n",
       "    <tr>\n",
       "      <th>max</th>\n",
       "      <td>0.325149</td>\n",
       "      <td>1.0</td>\n",
       "    </tr>\n",
       "  </tbody>\n",
       "</table>\n",
       "</div>"
      ],
      "text/plain": [
       "       test_score  train_score\n",
       "count   25.000000         25.0\n",
       "mean     0.180580          1.0\n",
       "std      0.086218          0.0\n",
       "min      0.017548          1.0\n",
       "25%      0.121401          1.0\n",
       "50%      0.178484          1.0\n",
       "75%      0.233753          1.0\n",
       "max      0.325149          1.0"
      ]
     },
     "execution_count": 13,
     "metadata": {},
     "output_type": "execute_result"
    }
   ],
   "source": [
    "res=pd.DataFrame()\n",
    "res['test_score'] = results['test_score']\n",
    "res['train_score'] = results['train_score']\n",
    "\n",
    "res.describe()"
   ]
  },
  {
   "cell_type": "markdown",
   "id": "42428027",
   "metadata": {},
   "source": [
    "#### Coefficients "
   ]
  },
  {
   "cell_type": "code",
   "execution_count": 14,
   "id": "bbac3926",
   "metadata": {},
   "outputs": [
    {
     "data": {
      "text/html": [
       "<div>\n",
       "<style scoped>\n",
       "    .dataframe tbody tr th:only-of-type {\n",
       "        vertical-align: middle;\n",
       "    }\n",
       "\n",
       "    .dataframe tbody tr th {\n",
       "        vertical-align: top;\n",
       "    }\n",
       "\n",
       "    .dataframe thead th {\n",
       "        text-align: right;\n",
       "    }\n",
       "</style>\n",
       "<table border=\"1\" class=\"dataframe\">\n",
       "  <thead>\n",
       "    <tr style=\"text-align: right;\">\n",
       "      <th></th>\n",
       "      <th>gp_appt_available</th>\n",
       "      <th>111_111_offered</th>\n",
       "      <th>amb_sys_answered</th>\n",
       "      <th>111_111_answered</th>\n",
       "      <th>amb_sys_made</th>\n",
       "    </tr>\n",
       "  </thead>\n",
       "  <tbody>\n",
       "    <tr>\n",
       "      <th>count</th>\n",
       "      <td>25.000000</td>\n",
       "      <td>25.000000</td>\n",
       "      <td>25.000000</td>\n",
       "      <td>25.000000</td>\n",
       "      <td>25.000000</td>\n",
       "    </tr>\n",
       "    <tr>\n",
       "      <th>mean</th>\n",
       "      <td>0.401077</td>\n",
       "      <td>0.111543</td>\n",
       "      <td>0.204442</td>\n",
       "      <td>0.084349</td>\n",
       "      <td>0.198588</td>\n",
       "    </tr>\n",
       "    <tr>\n",
       "      <th>std</th>\n",
       "      <td>0.010982</td>\n",
       "      <td>0.005765</td>\n",
       "      <td>0.008996</td>\n",
       "      <td>0.003703</td>\n",
       "      <td>0.008380</td>\n",
       "    </tr>\n",
       "    <tr>\n",
       "      <th>min</th>\n",
       "      <td>0.376985</td>\n",
       "      <td>0.102404</td>\n",
       "      <td>0.183928</td>\n",
       "      <td>0.078453</td>\n",
       "      <td>0.178813</td>\n",
       "    </tr>\n",
       "    <tr>\n",
       "      <th>25%</th>\n",
       "      <td>0.393297</td>\n",
       "      <td>0.108543</td>\n",
       "      <td>0.199357</td>\n",
       "      <td>0.081903</td>\n",
       "      <td>0.193795</td>\n",
       "    </tr>\n",
       "    <tr>\n",
       "      <th>50%</th>\n",
       "      <td>0.401494</td>\n",
       "      <td>0.110739</td>\n",
       "      <td>0.204724</td>\n",
       "      <td>0.084302</td>\n",
       "      <td>0.198238</td>\n",
       "    </tr>\n",
       "    <tr>\n",
       "      <th>75%</th>\n",
       "      <td>0.409686</td>\n",
       "      <td>0.115256</td>\n",
       "      <td>0.208711</td>\n",
       "      <td>0.085843</td>\n",
       "      <td>0.202454</td>\n",
       "    </tr>\n",
       "    <tr>\n",
       "      <th>max</th>\n",
       "      <td>0.419369</td>\n",
       "      <td>0.128184</td>\n",
       "      <td>0.224908</td>\n",
       "      <td>0.095649</td>\n",
       "      <td>0.221311</td>\n",
       "    </tr>\n",
       "  </tbody>\n",
       "</table>\n",
       "</div>"
      ],
      "text/plain": [
       "       gp_appt_available  111_111_offered  amb_sys_answered  111_111_answered  \\\n",
       "count          25.000000        25.000000         25.000000         25.000000   \n",
       "mean            0.401077         0.111543          0.204442          0.084349   \n",
       "std             0.010982         0.005765          0.008996          0.003703   \n",
       "min             0.376985         0.102404          0.183928          0.078453   \n",
       "25%             0.393297         0.108543          0.199357          0.081903   \n",
       "50%             0.401494         0.110739          0.204724          0.084302   \n",
       "75%             0.409686         0.115256          0.208711          0.085843   \n",
       "max             0.419369         0.128184          0.224908          0.095649   \n",
       "\n",
       "       amb_sys_made  \n",
       "count     25.000000  \n",
       "mean       0.198588  \n",
       "std        0.008380  \n",
       "min        0.178813  \n",
       "25%        0.193795  \n",
       "50%        0.198238  \n",
       "75%        0.202454  \n",
       "max        0.221311  "
      ]
     },
     "execution_count": 14,
     "metadata": {},
     "output_type": "execute_result"
    }
   ],
   "source": [
    "coefs = pd.DataFrame(\n",
    "   [model.feature_importances_\n",
    "    for model in results['estimator']],\n",
    "   columns=features\n",
    ")\n",
    "\n",
    "coefs.describe()"
   ]
  },
  {
   "cell_type": "markdown",
   "id": "7ca744b4",
   "metadata": {},
   "source": [
    "### Gradient Boosted Trees"
   ]
  },
  {
   "cell_type": "code",
   "execution_count": 15,
   "id": "9684c5d1",
   "metadata": {},
   "outputs": [],
   "source": [
    "model = GradientBoostingRegressor()\n",
    "\n",
    "features = ['gp_appt_available',\n",
    "            '111_111_offered', 'amb_sys_answered',\n",
    "            '111_111_answered', 'amb_sys_made']\n",
    "\n",
    "results = fit_model(dta,model,features)"
   ]
  },
  {
   "cell_type": "markdown",
   "id": "d1c01a3a",
   "metadata": {},
   "source": [
    "#### Performance "
   ]
  },
  {
   "cell_type": "code",
   "execution_count": 16,
   "id": "8e6e1159",
   "metadata": {},
   "outputs": [
    {
     "data": {
      "text/html": [
       "<div>\n",
       "<style scoped>\n",
       "    .dataframe tbody tr th:only-of-type {\n",
       "        vertical-align: middle;\n",
       "    }\n",
       "\n",
       "    .dataframe tbody tr th {\n",
       "        vertical-align: top;\n",
       "    }\n",
       "\n",
       "    .dataframe thead th {\n",
       "        text-align: right;\n",
       "    }\n",
       "</style>\n",
       "<table border=\"1\" class=\"dataframe\">\n",
       "  <thead>\n",
       "    <tr style=\"text-align: right;\">\n",
       "      <th></th>\n",
       "      <th>test_score</th>\n",
       "      <th>train_score</th>\n",
       "    </tr>\n",
       "  </thead>\n",
       "  <tbody>\n",
       "    <tr>\n",
       "      <th>count</th>\n",
       "      <td>25.000000</td>\n",
       "      <td>25.000000</td>\n",
       "    </tr>\n",
       "    <tr>\n",
       "      <th>mean</th>\n",
       "      <td>0.416063</td>\n",
       "      <td>0.575241</td>\n",
       "    </tr>\n",
       "    <tr>\n",
       "      <th>std</th>\n",
       "      <td>0.040780</td>\n",
       "      <td>0.009842</td>\n",
       "    </tr>\n",
       "    <tr>\n",
       "      <th>min</th>\n",
       "      <td>0.349796</td>\n",
       "      <td>0.552126</td>\n",
       "    </tr>\n",
       "    <tr>\n",
       "      <th>25%</th>\n",
       "      <td>0.388200</td>\n",
       "      <td>0.569903</td>\n",
       "    </tr>\n",
       "    <tr>\n",
       "      <th>50%</th>\n",
       "      <td>0.415620</td>\n",
       "      <td>0.577257</td>\n",
       "    </tr>\n",
       "    <tr>\n",
       "      <th>75%</th>\n",
       "      <td>0.435762</td>\n",
       "      <td>0.581159</td>\n",
       "    </tr>\n",
       "    <tr>\n",
       "      <th>max</th>\n",
       "      <td>0.492270</td>\n",
       "      <td>0.594571</td>\n",
       "    </tr>\n",
       "  </tbody>\n",
       "</table>\n",
       "</div>"
      ],
      "text/plain": [
       "       test_score  train_score\n",
       "count   25.000000    25.000000\n",
       "mean     0.416063     0.575241\n",
       "std      0.040780     0.009842\n",
       "min      0.349796     0.552126\n",
       "25%      0.388200     0.569903\n",
       "50%      0.415620     0.577257\n",
       "75%      0.435762     0.581159\n",
       "max      0.492270     0.594571"
      ]
     },
     "execution_count": 16,
     "metadata": {},
     "output_type": "execute_result"
    }
   ],
   "source": [
    "res=pd.DataFrame()\n",
    "res['test_score'] = results['test_score']\n",
    "res['train_score'] = results['train_score']\n",
    "\n",
    "res.describe()"
   ]
  },
  {
   "cell_type": "markdown",
   "id": "e42f0d91",
   "metadata": {},
   "source": [
    "#### Coefficients "
   ]
  },
  {
   "cell_type": "code",
   "execution_count": 17,
   "id": "b40a469f",
   "metadata": {},
   "outputs": [
    {
     "data": {
      "text/html": [
       "<div>\n",
       "<style scoped>\n",
       "    .dataframe tbody tr th:only-of-type {\n",
       "        vertical-align: middle;\n",
       "    }\n",
       "\n",
       "    .dataframe tbody tr th {\n",
       "        vertical-align: top;\n",
       "    }\n",
       "\n",
       "    .dataframe thead th {\n",
       "        text-align: right;\n",
       "    }\n",
       "</style>\n",
       "<table border=\"1\" class=\"dataframe\">\n",
       "  <thead>\n",
       "    <tr style=\"text-align: right;\">\n",
       "      <th></th>\n",
       "      <th>gp_appt_available</th>\n",
       "      <th>111_111_offered</th>\n",
       "      <th>amb_sys_answered</th>\n",
       "      <th>111_111_answered</th>\n",
       "      <th>amb_sys_made</th>\n",
       "    </tr>\n",
       "  </thead>\n",
       "  <tbody>\n",
       "    <tr>\n",
       "      <th>count</th>\n",
       "      <td>25.000000</td>\n",
       "      <td>25.000000</td>\n",
       "      <td>25.000000</td>\n",
       "      <td>25.000000</td>\n",
       "      <td>25.000000</td>\n",
       "    </tr>\n",
       "    <tr>\n",
       "      <th>mean</th>\n",
       "      <td>0.194661</td>\n",
       "      <td>0.246862</td>\n",
       "      <td>0.338653</td>\n",
       "      <td>0.049311</td>\n",
       "      <td>0.170514</td>\n",
       "    </tr>\n",
       "    <tr>\n",
       "      <th>std</th>\n",
       "      <td>0.016680</td>\n",
       "      <td>0.066562</td>\n",
       "      <td>0.032743</td>\n",
       "      <td>0.008849</td>\n",
       "      <td>0.054057</td>\n",
       "    </tr>\n",
       "    <tr>\n",
       "      <th>min</th>\n",
       "      <td>0.151387</td>\n",
       "      <td>0.115634</td>\n",
       "      <td>0.279380</td>\n",
       "      <td>0.036155</td>\n",
       "      <td>0.110274</td>\n",
       "    </tr>\n",
       "    <tr>\n",
       "      <th>25%</th>\n",
       "      <td>0.182196</td>\n",
       "      <td>0.185143</td>\n",
       "      <td>0.315717</td>\n",
       "      <td>0.043269</td>\n",
       "      <td>0.133716</td>\n",
       "    </tr>\n",
       "    <tr>\n",
       "      <th>50%</th>\n",
       "      <td>0.195259</td>\n",
       "      <td>0.259116</td>\n",
       "      <td>0.340024</td>\n",
       "      <td>0.048502</td>\n",
       "      <td>0.154130</td>\n",
       "    </tr>\n",
       "    <tr>\n",
       "      <th>75%</th>\n",
       "      <td>0.210448</td>\n",
       "      <td>0.301260</td>\n",
       "      <td>0.361358</td>\n",
       "      <td>0.053114</td>\n",
       "      <td>0.184405</td>\n",
       "    </tr>\n",
       "    <tr>\n",
       "      <th>max</th>\n",
       "      <td>0.221528</td>\n",
       "      <td>0.328437</td>\n",
       "      <td>0.399541</td>\n",
       "      <td>0.069876</td>\n",
       "      <td>0.333344</td>\n",
       "    </tr>\n",
       "  </tbody>\n",
       "</table>\n",
       "</div>"
      ],
      "text/plain": [
       "       gp_appt_available  111_111_offered  amb_sys_answered  111_111_answered  \\\n",
       "count          25.000000        25.000000         25.000000         25.000000   \n",
       "mean            0.194661         0.246862          0.338653          0.049311   \n",
       "std             0.016680         0.066562          0.032743          0.008849   \n",
       "min             0.151387         0.115634          0.279380          0.036155   \n",
       "25%             0.182196         0.185143          0.315717          0.043269   \n",
       "50%             0.195259         0.259116          0.340024          0.048502   \n",
       "75%             0.210448         0.301260          0.361358          0.053114   \n",
       "max             0.221528         0.328437          0.399541          0.069876   \n",
       "\n",
       "       amb_sys_made  \n",
       "count     25.000000  \n",
       "mean       0.170514  \n",
       "std        0.054057  \n",
       "min        0.110274  \n",
       "25%        0.133716  \n",
       "50%        0.154130  \n",
       "75%        0.184405  \n",
       "max        0.333344  "
      ]
     },
     "execution_count": 17,
     "metadata": {},
     "output_type": "execute_result"
    }
   ],
   "source": [
    "coefs = pd.DataFrame(\n",
    "   [model.feature_importances_\n",
    "    for model in results['estimator']],\n",
    "   columns=features\n",
    ")\n",
    "\n",
    "coefs.describe()"
   ]
  },
  {
   "cell_type": "markdown",
   "id": "c80f0e02",
   "metadata": {},
   "source": [
    "### ADA Boost"
   ]
  },
  {
   "cell_type": "code",
   "execution_count": 18,
   "id": "dba12cb8",
   "metadata": {},
   "outputs": [],
   "source": [
    "model = AdaBoostRegressor()\n",
    "\n",
    "features = ['gp_appt_available',\n",
    "            '111_111_offered', 'amb_sys_answered',\n",
    "            '111_111_answered', 'amb_sys_made']\n",
    "\n",
    "results = fit_model(dta,model,features)"
   ]
  },
  {
   "cell_type": "markdown",
   "id": "c6a9715d",
   "metadata": {},
   "source": [
    "#### Performance "
   ]
  },
  {
   "cell_type": "code",
   "execution_count": 19,
   "id": "9c6106c5",
   "metadata": {},
   "outputs": [
    {
     "data": {
      "text/html": [
       "<div>\n",
       "<style scoped>\n",
       "    .dataframe tbody tr th:only-of-type {\n",
       "        vertical-align: middle;\n",
       "    }\n",
       "\n",
       "    .dataframe tbody tr th {\n",
       "        vertical-align: top;\n",
       "    }\n",
       "\n",
       "    .dataframe thead th {\n",
       "        text-align: right;\n",
       "    }\n",
       "</style>\n",
       "<table border=\"1\" class=\"dataframe\">\n",
       "  <thead>\n",
       "    <tr style=\"text-align: right;\">\n",
       "      <th></th>\n",
       "      <th>test_score</th>\n",
       "      <th>train_score</th>\n",
       "    </tr>\n",
       "  </thead>\n",
       "  <tbody>\n",
       "    <tr>\n",
       "      <th>count</th>\n",
       "      <td>25.000000</td>\n",
       "      <td>25.000000</td>\n",
       "    </tr>\n",
       "    <tr>\n",
       "      <th>mean</th>\n",
       "      <td>0.355121</td>\n",
       "      <td>0.396363</td>\n",
       "    </tr>\n",
       "    <tr>\n",
       "      <th>std</th>\n",
       "      <td>0.052863</td>\n",
       "      <td>0.015194</td>\n",
       "    </tr>\n",
       "    <tr>\n",
       "      <th>min</th>\n",
       "      <td>0.242488</td>\n",
       "      <td>0.368210</td>\n",
       "    </tr>\n",
       "    <tr>\n",
       "      <th>25%</th>\n",
       "      <td>0.319202</td>\n",
       "      <td>0.388169</td>\n",
       "    </tr>\n",
       "    <tr>\n",
       "      <th>50%</th>\n",
       "      <td>0.363843</td>\n",
       "      <td>0.396308</td>\n",
       "    </tr>\n",
       "    <tr>\n",
       "      <th>75%</th>\n",
       "      <td>0.399936</td>\n",
       "      <td>0.400460</td>\n",
       "    </tr>\n",
       "    <tr>\n",
       "      <th>max</th>\n",
       "      <td>0.450772</td>\n",
       "      <td>0.426606</td>\n",
       "    </tr>\n",
       "  </tbody>\n",
       "</table>\n",
       "</div>"
      ],
      "text/plain": [
       "       test_score  train_score\n",
       "count   25.000000    25.000000\n",
       "mean     0.355121     0.396363\n",
       "std      0.052863     0.015194\n",
       "min      0.242488     0.368210\n",
       "25%      0.319202     0.388169\n",
       "50%      0.363843     0.396308\n",
       "75%      0.399936     0.400460\n",
       "max      0.450772     0.426606"
      ]
     },
     "execution_count": 19,
     "metadata": {},
     "output_type": "execute_result"
    }
   ],
   "source": [
    "res=pd.DataFrame()\n",
    "res['test_score'] = results['test_score']\n",
    "res['train_score'] = results['train_score']\n",
    "\n",
    "res.describe()"
   ]
  },
  {
   "cell_type": "markdown",
   "id": "162a9c54",
   "metadata": {},
   "source": [
    "#### Coefficients "
   ]
  },
  {
   "cell_type": "code",
   "execution_count": 20,
   "id": "96065f85",
   "metadata": {},
   "outputs": [
    {
     "data": {
      "text/html": [
       "<div>\n",
       "<style scoped>\n",
       "    .dataframe tbody tr th:only-of-type {\n",
       "        vertical-align: middle;\n",
       "    }\n",
       "\n",
       "    .dataframe tbody tr th {\n",
       "        vertical-align: top;\n",
       "    }\n",
       "\n",
       "    .dataframe thead th {\n",
       "        text-align: right;\n",
       "    }\n",
       "</style>\n",
       "<table border=\"1\" class=\"dataframe\">\n",
       "  <thead>\n",
       "    <tr style=\"text-align: right;\">\n",
       "      <th></th>\n",
       "      <th>gp_appt_available</th>\n",
       "      <th>111_111_offered</th>\n",
       "      <th>amb_sys_answered</th>\n",
       "      <th>111_111_answered</th>\n",
       "      <th>amb_sys_made</th>\n",
       "    </tr>\n",
       "  </thead>\n",
       "  <tbody>\n",
       "    <tr>\n",
       "      <th>count</th>\n",
       "      <td>25.000000</td>\n",
       "      <td>25.000000</td>\n",
       "      <td>25.000000</td>\n",
       "      <td>25.000000</td>\n",
       "      <td>25.000000</td>\n",
       "    </tr>\n",
       "    <tr>\n",
       "      <th>mean</th>\n",
       "      <td>0.134264</td>\n",
       "      <td>0.181060</td>\n",
       "      <td>0.446667</td>\n",
       "      <td>0.038971</td>\n",
       "      <td>0.199039</td>\n",
       "    </tr>\n",
       "    <tr>\n",
       "      <th>std</th>\n",
       "      <td>0.013269</td>\n",
       "      <td>0.058352</td>\n",
       "      <td>0.108582</td>\n",
       "      <td>0.023754</td>\n",
       "      <td>0.102021</td>\n",
       "    </tr>\n",
       "    <tr>\n",
       "      <th>min</th>\n",
       "      <td>0.111301</td>\n",
       "      <td>0.039253</td>\n",
       "      <td>0.282089</td>\n",
       "      <td>0.011200</td>\n",
       "      <td>0.025824</td>\n",
       "    </tr>\n",
       "    <tr>\n",
       "      <th>25%</th>\n",
       "      <td>0.123832</td>\n",
       "      <td>0.142141</td>\n",
       "      <td>0.354968</td>\n",
       "      <td>0.022755</td>\n",
       "      <td>0.151555</td>\n",
       "    </tr>\n",
       "    <tr>\n",
       "      <th>50%</th>\n",
       "      <td>0.133015</td>\n",
       "      <td>0.188871</td>\n",
       "      <td>0.413903</td>\n",
       "      <td>0.033434</td>\n",
       "      <td>0.208024</td>\n",
       "    </tr>\n",
       "    <tr>\n",
       "      <th>75%</th>\n",
       "      <td>0.144088</td>\n",
       "      <td>0.219480</td>\n",
       "      <td>0.515295</td>\n",
       "      <td>0.045226</td>\n",
       "      <td>0.271256</td>\n",
       "    </tr>\n",
       "    <tr>\n",
       "      <th>max</th>\n",
       "      <td>0.154627</td>\n",
       "      <td>0.306544</td>\n",
       "      <td>0.685616</td>\n",
       "      <td>0.105090</td>\n",
       "      <td>0.463545</td>\n",
       "    </tr>\n",
       "  </tbody>\n",
       "</table>\n",
       "</div>"
      ],
      "text/plain": [
       "       gp_appt_available  111_111_offered  amb_sys_answered  111_111_answered  \\\n",
       "count          25.000000        25.000000         25.000000         25.000000   \n",
       "mean            0.134264         0.181060          0.446667          0.038971   \n",
       "std             0.013269         0.058352          0.108582          0.023754   \n",
       "min             0.111301         0.039253          0.282089          0.011200   \n",
       "25%             0.123832         0.142141          0.354968          0.022755   \n",
       "50%             0.133015         0.188871          0.413903          0.033434   \n",
       "75%             0.144088         0.219480          0.515295          0.045226   \n",
       "max             0.154627         0.306544          0.685616          0.105090   \n",
       "\n",
       "       amb_sys_made  \n",
       "count     25.000000  \n",
       "mean       0.199039  \n",
       "std        0.102021  \n",
       "min        0.025824  \n",
       "25%        0.151555  \n",
       "50%        0.208024  \n",
       "75%        0.271256  \n",
       "max        0.463545  "
      ]
     },
     "execution_count": 20,
     "metadata": {},
     "output_type": "execute_result"
    }
   ],
   "source": [
    "coefs = pd.DataFrame(\n",
    "   [model.feature_importances_\n",
    "    for model in results['estimator']],\n",
    "   columns=features\n",
    ")\n",
    "\n",
    "coefs.describe()"
   ]
  },
  {
   "cell_type": "markdown",
   "id": "7abaf35c",
   "metadata": {},
   "source": [
    "## Summary "
   ]
  },
  {
   "cell_type": "markdown",
   "id": "3b76b92e",
   "metadata": {},
   "source": [
    "- Extra Trees does not preform well\n",
    "- Random forest with default parameters is overfitting to the training data\n",
    "- Gradient boosted trees performs best"
   ]
  }
 ],
 "metadata": {
  "kernelspec": {
   "display_name": "Python 3 (ipykernel)",
   "language": "python",
   "name": "python3"
  },
  "language_info": {
   "codemirror_mode": {
    "name": "ipython",
    "version": 3
   },
   "file_extension": ".py",
   "mimetype": "text/x-python",
   "name": "python",
   "nbconvert_exporter": "python",
   "pygments_lexer": "ipython3",
   "version": "3.9.12"
  }
 },
 "nbformat": 4,
 "nbformat_minor": 5
}