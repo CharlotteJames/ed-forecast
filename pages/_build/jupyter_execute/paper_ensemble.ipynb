{
 "cells": [
  {
   "cell_type": "markdown",
   "id": "787816c8",
   "metadata": {},
   "source": [
    "# Tree-based models "
   ]
  },
  {
   "cell_type": "markdown",
   "id": "6bbda47d",
   "metadata": {},
   "source": [
    "## Overview "
   ]
  },
  {
   "cell_type": "markdown",
   "id": "5d0df2b5",
   "metadata": {},
   "source": [
    "This notebook contains an initial exploration of tree-based regressions to predict monthly ED demand. \n",
    "\n",
    "As the variables population, people, places and lives only vary annually they cannot be included in the model due to data leakage between the training and test sets.\n",
    "\n",
    "For all models, variables used include:\n",
    "\n",
    "- Service capacity (111, GP, Ambulance)\n",
    "- Service utility (111, Ambulance)"
   ]
  },
  {
   "cell_type": "code",
   "execution_count": 1,
   "id": "4cec45c7",
   "metadata": {},
   "outputs": [],
   "source": [
    "#turn warnings off to keep notebook tidy\n",
    "import warnings\n",
    "warnings.filterwarnings('ignore')"
   ]
  },
  {
   "cell_type": "markdown",
   "id": "e5f293e5",
   "metadata": {},
   "source": [
    "## Import libraries "
   ]
  },
  {
   "cell_type": "code",
   "execution_count": 2,
   "id": "51bc0659",
   "metadata": {},
   "outputs": [],
   "source": [
    "import os\n",
    "import pandas as pd\n",
    "import numpy as np\n",
    "\n",
    "from sklearn.ensemble import RandomForestRegressor\n",
    "from sklearn.ensemble import ExtraTreesRegressor\n",
    "from sklearn.ensemble import GradientBoostingRegressor\n",
    "from sklearn.ensemble import AdaBoostRegressor\n",
    "\n",
    "from sklearn.model_selection import train_test_split\n",
    "from sklearn.pipeline import make_pipeline\n",
    "from sklearn.preprocessing import StandardScaler\n",
    "\n",
    "from sklearn.model_selection import cross_validate\n",
    "from sklearn.model_selection import RepeatedKFold"
   ]
  },
  {
   "cell_type": "markdown",
   "id": "a24d85cb",
   "metadata": {},
   "source": [
    "## Import data "
   ]
  },
  {
   "cell_type": "code",
   "execution_count": 3,
   "id": "13122672",
   "metadata": {},
   "outputs": [],
   "source": [
    "dta = pd.read_csv('https://raw.githubusercontent.com/CharlotteJames/ed-forecast/main/data/master_scaled.csv',\n",
    "                  index_col=0)"
   ]
  },
  {
   "cell_type": "code",
   "execution_count": 4,
   "id": "e369d537",
   "metadata": {},
   "outputs": [],
   "source": [
    "dta.columns = ['_'.join([c.split('/')[0],c.split('/')[-1]]) \n",
    "               if '/' in c else c for c in dta.columns]"
   ]
  },
  {
   "cell_type": "code",
   "execution_count": 5,
   "id": "88dee7c6",
   "metadata": {},
   "outputs": [
    {
     "data": {
      "text/plain": [
       "(73,)"
      ]
     },
     "execution_count": 5,
     "metadata": {},
     "output_type": "execute_result"
    }
   ],
   "source": [
    "dta.ccg.unique().shape"
   ]
  },
  {
   "cell_type": "markdown",
   "id": "da5c5db3",
   "metadata": {},
   "source": [
    "## Add random feature"
   ]
  },
  {
   "cell_type": "code",
   "execution_count": 6,
   "id": "5e6e0891",
   "metadata": {},
   "outputs": [],
   "source": [
    "# Adding random features\n",
    "\n",
    "rng = np.random.RandomState(0)\n",
    "rand_var = rng.rand(dta.shape[0])\n",
    "dta['rand1'] = rand_var"
   ]
  },
  {
   "cell_type": "code",
   "execution_count": 7,
   "id": "2c6771f6",
   "metadata": {},
   "outputs": [
    {
     "data": {
      "text/plain": [
       "(1465, 14)"
      ]
     },
     "execution_count": 7,
     "metadata": {},
     "output_type": "execute_result"
    }
   ],
   "source": [
    "dta.shape"
   ]
  },
  {
   "cell_type": "markdown",
   "id": "086bd910",
   "metadata": {},
   "source": [
    "## Fitting function "
   ]
  },
  {
   "cell_type": "code",
   "execution_count": 8,
   "id": "0ed191f9",
   "metadata": {},
   "outputs": [],
   "source": [
    "def fit_model(dta, model, features):\n",
    "    \n",
    "    \n",
    "    y = dta['ae_attendances_attendances']\n",
    "    X = dta[features]\n",
    "    \n",
    "    #cross validate to get errors on performance and coefficients\n",
    "    cv_model = cross_validate(model, X,y, \n",
    "                            cv=RepeatedKFold(n_splits=5, n_repeats=5,\n",
    "                                             random_state=0),\n",
    "                            return_estimator=True, \n",
    "                              return_train_score=True, n_jobs=2)\n",
    "    \n",
    "    clf = model.fit(X, y)\n",
    "\n",
    "    \n",
    "    return cv_model"
   ]
  },
  {
   "cell_type": "markdown",
   "id": "10cd6889",
   "metadata": {},
   "source": [
    "## Model Comparison"
   ]
  },
  {
   "cell_type": "markdown",
   "id": "7c430008",
   "metadata": {},
   "source": [
    "### Random Forest "
   ]
  },
  {
   "cell_type": "code",
   "execution_count": 9,
   "id": "5f9767f3",
   "metadata": {},
   "outputs": [],
   "source": [
    "model = RandomForestRegressor()\n",
    "\n",
    "features = ['gp_appt_available',\n",
    "            '111_111_offered', 'amb_sys_answered',\n",
    "            '111_111_answered', 'amb_sys_made']\n",
    "\n",
    "results = fit_model(dta,model,features)"
   ]
  },
  {
   "cell_type": "markdown",
   "id": "68304274",
   "metadata": {},
   "source": [
    "#### Performance "
   ]
  },
  {
   "cell_type": "code",
   "execution_count": 10,
   "id": "bd7b6287",
   "metadata": {},
   "outputs": [
    {
     "data": {
      "text/html": [
       "<div>\n",
       "<style scoped>\n",
       "    .dataframe tbody tr th:only-of-type {\n",
       "        vertical-align: middle;\n",
       "    }\n",
       "\n",
       "    .dataframe tbody tr th {\n",
       "        vertical-align: top;\n",
       "    }\n",
       "\n",
       "    .dataframe thead th {\n",
       "        text-align: right;\n",
       "    }\n",
       "</style>\n",
       "<table border=\"1\" class=\"dataframe\">\n",
       "  <thead>\n",
       "    <tr style=\"text-align: right;\">\n",
       "      <th></th>\n",
       "      <th>test_score</th>\n",
       "      <th>train_score</th>\n",
       "    </tr>\n",
       "  </thead>\n",
       "  <tbody>\n",
       "    <tr>\n",
       "      <th>count</th>\n",
       "      <td>25.000000</td>\n",
       "      <td>25.000000</td>\n",
       "    </tr>\n",
       "    <tr>\n",
       "      <th>mean</th>\n",
       "      <td>0.324762</td>\n",
       "      <td>0.907468</td>\n",
       "    </tr>\n",
       "    <tr>\n",
       "      <th>std</th>\n",
       "      <td>0.064132</td>\n",
       "      <td>0.002994</td>\n",
       "    </tr>\n",
       "    <tr>\n",
       "      <th>min</th>\n",
       "      <td>0.208251</td>\n",
       "      <td>0.901499</td>\n",
       "    </tr>\n",
       "    <tr>\n",
       "      <th>25%</th>\n",
       "      <td>0.291511</td>\n",
       "      <td>0.905286</td>\n",
       "    </tr>\n",
       "    <tr>\n",
       "      <th>50%</th>\n",
       "      <td>0.303804</td>\n",
       "      <td>0.907710</td>\n",
       "    </tr>\n",
       "    <tr>\n",
       "      <th>75%</th>\n",
       "      <td>0.361086</td>\n",
       "      <td>0.910103</td>\n",
       "    </tr>\n",
       "    <tr>\n",
       "      <th>max</th>\n",
       "      <td>0.432379</td>\n",
       "      <td>0.911869</td>\n",
       "    </tr>\n",
       "  </tbody>\n",
       "</table>\n",
       "</div>"
      ],
      "text/plain": [
       "       test_score  train_score\n",
       "count   25.000000    25.000000\n",
       "mean     0.324762     0.907468\n",
       "std      0.064132     0.002994\n",
       "min      0.208251     0.901499\n",
       "25%      0.291511     0.905286\n",
       "50%      0.303804     0.907710\n",
       "75%      0.361086     0.910103\n",
       "max      0.432379     0.911869"
      ]
     },
     "execution_count": 10,
     "metadata": {},
     "output_type": "execute_result"
    }
   ],
   "source": [
    "res=pd.DataFrame()\n",
    "res['test_score'] = results['test_score']\n",
    "res['train_score'] = results['train_score']\n",
    "\n",
    "res.describe()"
   ]
  },
  {
   "cell_type": "markdown",
   "id": "f5cfe75d",
   "metadata": {},
   "source": [
    "#### Coefficients "
   ]
  },
  {
   "cell_type": "code",
   "execution_count": 11,
   "id": "3dda1441",
   "metadata": {},
   "outputs": [
    {
     "data": {
      "text/html": [
       "<div>\n",
       "<style scoped>\n",
       "    .dataframe tbody tr th:only-of-type {\n",
       "        vertical-align: middle;\n",
       "    }\n",
       "\n",
       "    .dataframe tbody tr th {\n",
       "        vertical-align: top;\n",
       "    }\n",
       "\n",
       "    .dataframe thead th {\n",
       "        text-align: right;\n",
       "    }\n",
       "</style>\n",
       "<table border=\"1\" class=\"dataframe\">\n",
       "  <thead>\n",
       "    <tr style=\"text-align: right;\">\n",
       "      <th></th>\n",
       "      <th>gp_appt_available</th>\n",
       "      <th>111_111_offered</th>\n",
       "      <th>amb_sys_answered</th>\n",
       "      <th>111_111_answered</th>\n",
       "      <th>amb_sys_made</th>\n",
       "    </tr>\n",
       "  </thead>\n",
       "  <tbody>\n",
       "    <tr>\n",
       "      <th>count</th>\n",
       "      <td>25.000000</td>\n",
       "      <td>25.000000</td>\n",
       "      <td>25.000000</td>\n",
       "      <td>25.000000</td>\n",
       "      <td>25.000000</td>\n",
       "    </tr>\n",
       "    <tr>\n",
       "      <th>mean</th>\n",
       "      <td>0.365773</td>\n",
       "      <td>0.170940</td>\n",
       "      <td>0.200011</td>\n",
       "      <td>0.088689</td>\n",
       "      <td>0.174587</td>\n",
       "    </tr>\n",
       "    <tr>\n",
       "      <th>std</th>\n",
       "      <td>0.008972</td>\n",
       "      <td>0.023524</td>\n",
       "      <td>0.018880</td>\n",
       "      <td>0.004248</td>\n",
       "      <td>0.021818</td>\n",
       "    </tr>\n",
       "    <tr>\n",
       "      <th>min</th>\n",
       "      <td>0.347411</td>\n",
       "      <td>0.121029</td>\n",
       "      <td>0.166410</td>\n",
       "      <td>0.081457</td>\n",
       "      <td>0.142955</td>\n",
       "    </tr>\n",
       "    <tr>\n",
       "      <th>25%</th>\n",
       "      <td>0.362229</td>\n",
       "      <td>0.156753</td>\n",
       "      <td>0.192181</td>\n",
       "      <td>0.085454</td>\n",
       "      <td>0.157728</td>\n",
       "    </tr>\n",
       "    <tr>\n",
       "      <th>50%</th>\n",
       "      <td>0.364850</td>\n",
       "      <td>0.175761</td>\n",
       "      <td>0.203854</td>\n",
       "      <td>0.088883</td>\n",
       "      <td>0.171979</td>\n",
       "    </tr>\n",
       "    <tr>\n",
       "      <th>75%</th>\n",
       "      <td>0.370063</td>\n",
       "      <td>0.186688</td>\n",
       "      <td>0.211012</td>\n",
       "      <td>0.091690</td>\n",
       "      <td>0.184947</td>\n",
       "    </tr>\n",
       "    <tr>\n",
       "      <th>max</th>\n",
       "      <td>0.383784</td>\n",
       "      <td>0.209970</td>\n",
       "      <td>0.236253</td>\n",
       "      <td>0.095648</td>\n",
       "      <td>0.226292</td>\n",
       "    </tr>\n",
       "  </tbody>\n",
       "</table>\n",
       "</div>"
      ],
      "text/plain": [
       "       gp_appt_available  111_111_offered  amb_sys_answered  111_111_answered  \\\n",
       "count          25.000000        25.000000         25.000000         25.000000   \n",
       "mean            0.365773         0.170940          0.200011          0.088689   \n",
       "std             0.008972         0.023524          0.018880          0.004248   \n",
       "min             0.347411         0.121029          0.166410          0.081457   \n",
       "25%             0.362229         0.156753          0.192181          0.085454   \n",
       "50%             0.364850         0.175761          0.203854          0.088883   \n",
       "75%             0.370063         0.186688          0.211012          0.091690   \n",
       "max             0.383784         0.209970          0.236253          0.095648   \n",
       "\n",
       "       amb_sys_made  \n",
       "count     25.000000  \n",
       "mean       0.174587  \n",
       "std        0.021818  \n",
       "min        0.142955  \n",
       "25%        0.157728  \n",
       "50%        0.171979  \n",
       "75%        0.184947  \n",
       "max        0.226292  "
      ]
     },
     "execution_count": 11,
     "metadata": {},
     "output_type": "execute_result"
    }
   ],
   "source": [
    "coefs = pd.DataFrame(\n",
    "   [model.feature_importances_\n",
    "    for model in results['estimator']],\n",
    "   columns=features\n",
    ")\n",
    "\n",
    "coefs.describe()"
   ]
  },
  {
   "cell_type": "markdown",
   "id": "a37aab65",
   "metadata": {},
   "source": [
    "### Extra Trees"
   ]
  },
  {
   "cell_type": "code",
   "execution_count": 12,
   "id": "d9a33ec4",
   "metadata": {},
   "outputs": [],
   "source": [
    "model = ExtraTreesRegressor()\n",
    "\n",
    "features = ['gp_appt_available',\n",
    "            '111_111_offered', 'amb_sys_answered',\n",
    "            '111_111_answered', 'amb_sys_made']\n",
    "\n",
    "results = fit_model(dta,model,features)"
   ]
  },
  {
   "cell_type": "markdown",
   "id": "258acfe0",
   "metadata": {},
   "source": [
    "#### Performance "
   ]
  },
  {
   "cell_type": "code",
   "execution_count": 13,
   "id": "f17775bf",
   "metadata": {},
   "outputs": [
    {
     "data": {
      "text/html": [
       "<div>\n",
       "<style scoped>\n",
       "    .dataframe tbody tr th:only-of-type {\n",
       "        vertical-align: middle;\n",
       "    }\n",
       "\n",
       "    .dataframe tbody tr th {\n",
       "        vertical-align: top;\n",
       "    }\n",
       "\n",
       "    .dataframe thead th {\n",
       "        text-align: right;\n",
       "    }\n",
       "</style>\n",
       "<table border=\"1\" class=\"dataframe\">\n",
       "  <thead>\n",
       "    <tr style=\"text-align: right;\">\n",
       "      <th></th>\n",
       "      <th>test_score</th>\n",
       "      <th>train_score</th>\n",
       "    </tr>\n",
       "  </thead>\n",
       "  <tbody>\n",
       "    <tr>\n",
       "      <th>count</th>\n",
       "      <td>25.000000</td>\n",
       "      <td>25.0</td>\n",
       "    </tr>\n",
       "    <tr>\n",
       "      <th>mean</th>\n",
       "      <td>0.181270</td>\n",
       "      <td>1.0</td>\n",
       "    </tr>\n",
       "    <tr>\n",
       "      <th>std</th>\n",
       "      <td>0.089126</td>\n",
       "      <td>0.0</td>\n",
       "    </tr>\n",
       "    <tr>\n",
       "      <th>min</th>\n",
       "      <td>-0.016106</td>\n",
       "      <td>1.0</td>\n",
       "    </tr>\n",
       "    <tr>\n",
       "      <th>25%</th>\n",
       "      <td>0.134570</td>\n",
       "      <td>1.0</td>\n",
       "    </tr>\n",
       "    <tr>\n",
       "      <th>50%</th>\n",
       "      <td>0.182712</td>\n",
       "      <td>1.0</td>\n",
       "    </tr>\n",
       "    <tr>\n",
       "      <th>75%</th>\n",
       "      <td>0.256230</td>\n",
       "      <td>1.0</td>\n",
       "    </tr>\n",
       "    <tr>\n",
       "      <th>max</th>\n",
       "      <td>0.323334</td>\n",
       "      <td>1.0</td>\n",
       "    </tr>\n",
       "  </tbody>\n",
       "</table>\n",
       "</div>"
      ],
      "text/plain": [
       "       test_score  train_score\n",
       "count   25.000000         25.0\n",
       "mean     0.181270          1.0\n",
       "std      0.089126          0.0\n",
       "min     -0.016106          1.0\n",
       "25%      0.134570          1.0\n",
       "50%      0.182712          1.0\n",
       "75%      0.256230          1.0\n",
       "max      0.323334          1.0"
      ]
     },
     "execution_count": 13,
     "metadata": {},
     "output_type": "execute_result"
    }
   ],
   "source": [
    "res=pd.DataFrame()\n",
    "res['test_score'] = results['test_score']\n",
    "res['train_score'] = results['train_score']\n",
    "\n",
    "res.describe()"
   ]
  },
  {
   "cell_type": "markdown",
   "id": "42428027",
   "metadata": {},
   "source": [
    "#### Coefficients "
   ]
  },
  {
   "cell_type": "code",
   "execution_count": 14,
   "id": "bbac3926",
   "metadata": {},
   "outputs": [
    {
     "data": {
      "text/html": [
       "<div>\n",
       "<style scoped>\n",
       "    .dataframe tbody tr th:only-of-type {\n",
       "        vertical-align: middle;\n",
       "    }\n",
       "\n",
       "    .dataframe tbody tr th {\n",
       "        vertical-align: top;\n",
       "    }\n",
       "\n",
       "    .dataframe thead th {\n",
       "        text-align: right;\n",
       "    }\n",
       "</style>\n",
       "<table border=\"1\" class=\"dataframe\">\n",
       "  <thead>\n",
       "    <tr style=\"text-align: right;\">\n",
       "      <th></th>\n",
       "      <th>gp_appt_available</th>\n",
       "      <th>111_111_offered</th>\n",
       "      <th>amb_sys_answered</th>\n",
       "      <th>111_111_answered</th>\n",
       "      <th>amb_sys_made</th>\n",
       "    </tr>\n",
       "  </thead>\n",
       "  <tbody>\n",
       "    <tr>\n",
       "      <th>count</th>\n",
       "      <td>25.000000</td>\n",
       "      <td>25.000000</td>\n",
       "      <td>25.000000</td>\n",
       "      <td>25.000000</td>\n",
       "      <td>25.000000</td>\n",
       "    </tr>\n",
       "    <tr>\n",
       "      <th>mean</th>\n",
       "      <td>0.400862</td>\n",
       "      <td>0.110527</td>\n",
       "      <td>0.203609</td>\n",
       "      <td>0.085571</td>\n",
       "      <td>0.199431</td>\n",
       "    </tr>\n",
       "    <tr>\n",
       "      <th>std</th>\n",
       "      <td>0.010486</td>\n",
       "      <td>0.005662</td>\n",
       "      <td>0.008414</td>\n",
       "      <td>0.003544</td>\n",
       "      <td>0.009410</td>\n",
       "    </tr>\n",
       "    <tr>\n",
       "      <th>min</th>\n",
       "      <td>0.382725</td>\n",
       "      <td>0.100678</td>\n",
       "      <td>0.184311</td>\n",
       "      <td>0.079812</td>\n",
       "      <td>0.176018</td>\n",
       "    </tr>\n",
       "    <tr>\n",
       "      <th>25%</th>\n",
       "      <td>0.395243</td>\n",
       "      <td>0.107284</td>\n",
       "      <td>0.200119</td>\n",
       "      <td>0.083040</td>\n",
       "      <td>0.192893</td>\n",
       "    </tr>\n",
       "    <tr>\n",
       "      <th>50%</th>\n",
       "      <td>0.401709</td>\n",
       "      <td>0.109121</td>\n",
       "      <td>0.203551</td>\n",
       "      <td>0.085468</td>\n",
       "      <td>0.199367</td>\n",
       "    </tr>\n",
       "    <tr>\n",
       "      <th>75%</th>\n",
       "      <td>0.409566</td>\n",
       "      <td>0.114000</td>\n",
       "      <td>0.208703</td>\n",
       "      <td>0.086824</td>\n",
       "      <td>0.205095</td>\n",
       "    </tr>\n",
       "    <tr>\n",
       "      <th>max</th>\n",
       "      <td>0.417902</td>\n",
       "      <td>0.123473</td>\n",
       "      <td>0.219799</td>\n",
       "      <td>0.095966</td>\n",
       "      <td>0.219684</td>\n",
       "    </tr>\n",
       "  </tbody>\n",
       "</table>\n",
       "</div>"
      ],
      "text/plain": [
       "       gp_appt_available  111_111_offered  amb_sys_answered  111_111_answered  \\\n",
       "count          25.000000        25.000000         25.000000         25.000000   \n",
       "mean            0.400862         0.110527          0.203609          0.085571   \n",
       "std             0.010486         0.005662          0.008414          0.003544   \n",
       "min             0.382725         0.100678          0.184311          0.079812   \n",
       "25%             0.395243         0.107284          0.200119          0.083040   \n",
       "50%             0.401709         0.109121          0.203551          0.085468   \n",
       "75%             0.409566         0.114000          0.208703          0.086824   \n",
       "max             0.417902         0.123473          0.219799          0.095966   \n",
       "\n",
       "       amb_sys_made  \n",
       "count     25.000000  \n",
       "mean       0.199431  \n",
       "std        0.009410  \n",
       "min        0.176018  \n",
       "25%        0.192893  \n",
       "50%        0.199367  \n",
       "75%        0.205095  \n",
       "max        0.219684  "
      ]
     },
     "execution_count": 14,
     "metadata": {},
     "output_type": "execute_result"
    }
   ],
   "source": [
    "coefs = pd.DataFrame(\n",
    "   [model.feature_importances_\n",
    "    for model in results['estimator']],\n",
    "   columns=features\n",
    ")\n",
    "\n",
    "coefs.describe()"
   ]
  },
  {
   "cell_type": "markdown",
   "id": "7ca744b4",
   "metadata": {},
   "source": [
    "### Gradient Boosted Trees"
   ]
  },
  {
   "cell_type": "code",
   "execution_count": 15,
   "id": "9684c5d1",
   "metadata": {},
   "outputs": [],
   "source": [
    "model = GradientBoostingRegressor()\n",
    "\n",
    "features = ['gp_appt_available',\n",
    "            '111_111_offered', 'amb_sys_answered',\n",
    "            '111_111_answered', 'amb_sys_made']\n",
    "\n",
    "results = fit_model(dta,model,features)"
   ]
  },
  {
   "cell_type": "markdown",
   "id": "d1c01a3a",
   "metadata": {},
   "source": [
    "#### Performance "
   ]
  },
  {
   "cell_type": "code",
   "execution_count": 16,
   "id": "8e6e1159",
   "metadata": {},
   "outputs": [
    {
     "data": {
      "text/html": [
       "<div>\n",
       "<style scoped>\n",
       "    .dataframe tbody tr th:only-of-type {\n",
       "        vertical-align: middle;\n",
       "    }\n",
       "\n",
       "    .dataframe tbody tr th {\n",
       "        vertical-align: top;\n",
       "    }\n",
       "\n",
       "    .dataframe thead th {\n",
       "        text-align: right;\n",
       "    }\n",
       "</style>\n",
       "<table border=\"1\" class=\"dataframe\">\n",
       "  <thead>\n",
       "    <tr style=\"text-align: right;\">\n",
       "      <th></th>\n",
       "      <th>test_score</th>\n",
       "      <th>train_score</th>\n",
       "    </tr>\n",
       "  </thead>\n",
       "  <tbody>\n",
       "    <tr>\n",
       "      <th>count</th>\n",
       "      <td>25.000000</td>\n",
       "      <td>25.000000</td>\n",
       "    </tr>\n",
       "    <tr>\n",
       "      <th>mean</th>\n",
       "      <td>0.416127</td>\n",
       "      <td>0.575241</td>\n",
       "    </tr>\n",
       "    <tr>\n",
       "      <th>std</th>\n",
       "      <td>0.040620</td>\n",
       "      <td>0.009842</td>\n",
       "    </tr>\n",
       "    <tr>\n",
       "      <th>min</th>\n",
       "      <td>0.349148</td>\n",
       "      <td>0.552126</td>\n",
       "    </tr>\n",
       "    <tr>\n",
       "      <th>25%</th>\n",
       "      <td>0.387715</td>\n",
       "      <td>0.569903</td>\n",
       "    </tr>\n",
       "    <tr>\n",
       "      <th>50%</th>\n",
       "      <td>0.416008</td>\n",
       "      <td>0.577257</td>\n",
       "    </tr>\n",
       "    <tr>\n",
       "      <th>75%</th>\n",
       "      <td>0.435916</td>\n",
       "      <td>0.581159</td>\n",
       "    </tr>\n",
       "    <tr>\n",
       "      <th>max</th>\n",
       "      <td>0.492091</td>\n",
       "      <td>0.594571</td>\n",
       "    </tr>\n",
       "  </tbody>\n",
       "</table>\n",
       "</div>"
      ],
      "text/plain": [
       "       test_score  train_score\n",
       "count   25.000000    25.000000\n",
       "mean     0.416127     0.575241\n",
       "std      0.040620     0.009842\n",
       "min      0.349148     0.552126\n",
       "25%      0.387715     0.569903\n",
       "50%      0.416008     0.577257\n",
       "75%      0.435916     0.581159\n",
       "max      0.492091     0.594571"
      ]
     },
     "execution_count": 16,
     "metadata": {},
     "output_type": "execute_result"
    }
   ],
   "source": [
    "res=pd.DataFrame()\n",
    "res['test_score'] = results['test_score']\n",
    "res['train_score'] = results['train_score']\n",
    "\n",
    "res.describe()"
   ]
  },
  {
   "cell_type": "markdown",
   "id": "e42f0d91",
   "metadata": {},
   "source": [
    "#### Coefficients "
   ]
  },
  {
   "cell_type": "code",
   "execution_count": 17,
   "id": "b40a469f",
   "metadata": {},
   "outputs": [
    {
     "data": {
      "text/html": [
       "<div>\n",
       "<style scoped>\n",
       "    .dataframe tbody tr th:only-of-type {\n",
       "        vertical-align: middle;\n",
       "    }\n",
       "\n",
       "    .dataframe tbody tr th {\n",
       "        vertical-align: top;\n",
       "    }\n",
       "\n",
       "    .dataframe thead th {\n",
       "        text-align: right;\n",
       "    }\n",
       "</style>\n",
       "<table border=\"1\" class=\"dataframe\">\n",
       "  <thead>\n",
       "    <tr style=\"text-align: right;\">\n",
       "      <th></th>\n",
       "      <th>gp_appt_available</th>\n",
       "      <th>111_111_offered</th>\n",
       "      <th>amb_sys_answered</th>\n",
       "      <th>111_111_answered</th>\n",
       "      <th>amb_sys_made</th>\n",
       "    </tr>\n",
       "  </thead>\n",
       "  <tbody>\n",
       "    <tr>\n",
       "      <th>count</th>\n",
       "      <td>25.000000</td>\n",
       "      <td>25.000000</td>\n",
       "      <td>25.000000</td>\n",
       "      <td>25.000000</td>\n",
       "      <td>25.000000</td>\n",
       "    </tr>\n",
       "    <tr>\n",
       "      <th>mean</th>\n",
       "      <td>0.194433</td>\n",
       "      <td>0.245585</td>\n",
       "      <td>0.336100</td>\n",
       "      <td>0.050868</td>\n",
       "      <td>0.173014</td>\n",
       "    </tr>\n",
       "    <tr>\n",
       "      <th>std</th>\n",
       "      <td>0.016621</td>\n",
       "      <td>0.063267</td>\n",
       "      <td>0.037359</td>\n",
       "      <td>0.007163</td>\n",
       "      <td>0.057482</td>\n",
       "    </tr>\n",
       "    <tr>\n",
       "      <th>min</th>\n",
       "      <td>0.152058</td>\n",
       "      <td>0.120599</td>\n",
       "      <td>0.284277</td>\n",
       "      <td>0.037708</td>\n",
       "      <td>0.095619</td>\n",
       "    </tr>\n",
       "    <tr>\n",
       "      <th>25%</th>\n",
       "      <td>0.182080</td>\n",
       "      <td>0.190266</td>\n",
       "      <td>0.304731</td>\n",
       "      <td>0.043793</td>\n",
       "      <td>0.137058</td>\n",
       "    </tr>\n",
       "    <tr>\n",
       "      <th>50%</th>\n",
       "      <td>0.195305</td>\n",
       "      <td>0.259788</td>\n",
       "      <td>0.333779</td>\n",
       "      <td>0.051726</td>\n",
       "      <td>0.160047</td>\n",
       "    </tr>\n",
       "    <tr>\n",
       "      <th>75%</th>\n",
       "      <td>0.210149</td>\n",
       "      <td>0.304632</td>\n",
       "      <td>0.355069</td>\n",
       "      <td>0.056263</td>\n",
       "      <td>0.188793</td>\n",
       "    </tr>\n",
       "    <tr>\n",
       "      <th>max</th>\n",
       "      <td>0.221817</td>\n",
       "      <td>0.319060</td>\n",
       "      <td>0.424729</td>\n",
       "      <td>0.064012</td>\n",
       "      <td>0.344550</td>\n",
       "    </tr>\n",
       "  </tbody>\n",
       "</table>\n",
       "</div>"
      ],
      "text/plain": [
       "       gp_appt_available  111_111_offered  amb_sys_answered  111_111_answered  \\\n",
       "count          25.000000        25.000000         25.000000         25.000000   \n",
       "mean            0.194433         0.245585          0.336100          0.050868   \n",
       "std             0.016621         0.063267          0.037359          0.007163   \n",
       "min             0.152058         0.120599          0.284277          0.037708   \n",
       "25%             0.182080         0.190266          0.304731          0.043793   \n",
       "50%             0.195305         0.259788          0.333779          0.051726   \n",
       "75%             0.210149         0.304632          0.355069          0.056263   \n",
       "max             0.221817         0.319060          0.424729          0.064012   \n",
       "\n",
       "       amb_sys_made  \n",
       "count     25.000000  \n",
       "mean       0.173014  \n",
       "std        0.057482  \n",
       "min        0.095619  \n",
       "25%        0.137058  \n",
       "50%        0.160047  \n",
       "75%        0.188793  \n",
       "max        0.344550  "
      ]
     },
     "execution_count": 17,
     "metadata": {},
     "output_type": "execute_result"
    }
   ],
   "source": [
    "coefs = pd.DataFrame(\n",
    "   [model.feature_importances_\n",
    "    for model in results['estimator']],\n",
    "   columns=features\n",
    ")\n",
    "\n",
    "coefs.describe()"
   ]
  },
  {
   "cell_type": "markdown",
   "id": "c80f0e02",
   "metadata": {},
   "source": [
    "### ADA Boost"
   ]
  },
  {
   "cell_type": "code",
   "execution_count": 18,
   "id": "dba12cb8",
   "metadata": {},
   "outputs": [],
   "source": [
    "model = AdaBoostRegressor()\n",
    "\n",
    "features = ['gp_appt_available',\n",
    "            '111_111_offered', 'amb_sys_answered',\n",
    "            '111_111_answered', 'amb_sys_made']\n",
    "\n",
    "results = fit_model(dta,model,features)"
   ]
  },
  {
   "cell_type": "markdown",
   "id": "c6a9715d",
   "metadata": {},
   "source": [
    "#### Performance "
   ]
  },
  {
   "cell_type": "code",
   "execution_count": 19,
   "id": "9c6106c5",
   "metadata": {},
   "outputs": [
    {
     "data": {
      "text/html": [
       "<div>\n",
       "<style scoped>\n",
       "    .dataframe tbody tr th:only-of-type {\n",
       "        vertical-align: middle;\n",
       "    }\n",
       "\n",
       "    .dataframe tbody tr th {\n",
       "        vertical-align: top;\n",
       "    }\n",
       "\n",
       "    .dataframe thead th {\n",
       "        text-align: right;\n",
       "    }\n",
       "</style>\n",
       "<table border=\"1\" class=\"dataframe\">\n",
       "  <thead>\n",
       "    <tr style=\"text-align: right;\">\n",
       "      <th></th>\n",
       "      <th>test_score</th>\n",
       "      <th>train_score</th>\n",
       "    </tr>\n",
       "  </thead>\n",
       "  <tbody>\n",
       "    <tr>\n",
       "      <th>count</th>\n",
       "      <td>25.000000</td>\n",
       "      <td>25.000000</td>\n",
       "    </tr>\n",
       "    <tr>\n",
       "      <th>mean</th>\n",
       "      <td>0.355176</td>\n",
       "      <td>0.394621</td>\n",
       "    </tr>\n",
       "    <tr>\n",
       "      <th>std</th>\n",
       "      <td>0.046545</td>\n",
       "      <td>0.019368</td>\n",
       "    </tr>\n",
       "    <tr>\n",
       "      <th>min</th>\n",
       "      <td>0.251157</td>\n",
       "      <td>0.349177</td>\n",
       "    </tr>\n",
       "    <tr>\n",
       "      <th>25%</th>\n",
       "      <td>0.326613</td>\n",
       "      <td>0.384017</td>\n",
       "    </tr>\n",
       "    <tr>\n",
       "      <th>50%</th>\n",
       "      <td>0.348698</td>\n",
       "      <td>0.396547</td>\n",
       "    </tr>\n",
       "    <tr>\n",
       "      <th>75%</th>\n",
       "      <td>0.390514</td>\n",
       "      <td>0.406161</td>\n",
       "    </tr>\n",
       "    <tr>\n",
       "      <th>max</th>\n",
       "      <td>0.439704</td>\n",
       "      <td>0.427985</td>\n",
       "    </tr>\n",
       "  </tbody>\n",
       "</table>\n",
       "</div>"
      ],
      "text/plain": [
       "       test_score  train_score\n",
       "count   25.000000    25.000000\n",
       "mean     0.355176     0.394621\n",
       "std      0.046545     0.019368\n",
       "min      0.251157     0.349177\n",
       "25%      0.326613     0.384017\n",
       "50%      0.348698     0.396547\n",
       "75%      0.390514     0.406161\n",
       "max      0.439704     0.427985"
      ]
     },
     "execution_count": 19,
     "metadata": {},
     "output_type": "execute_result"
    }
   ],
   "source": [
    "res=pd.DataFrame()\n",
    "res['test_score'] = results['test_score']\n",
    "res['train_score'] = results['train_score']\n",
    "\n",
    "res.describe()"
   ]
  },
  {
   "cell_type": "markdown",
   "id": "162a9c54",
   "metadata": {},
   "source": [
    "#### Coefficients "
   ]
  },
  {
   "cell_type": "code",
   "execution_count": 20,
   "id": "96065f85",
   "metadata": {},
   "outputs": [
    {
     "data": {
      "text/html": [
       "<div>\n",
       "<style scoped>\n",
       "    .dataframe tbody tr th:only-of-type {\n",
       "        vertical-align: middle;\n",
       "    }\n",
       "\n",
       "    .dataframe tbody tr th {\n",
       "        vertical-align: top;\n",
       "    }\n",
       "\n",
       "    .dataframe thead th {\n",
       "        text-align: right;\n",
       "    }\n",
       "</style>\n",
       "<table border=\"1\" class=\"dataframe\">\n",
       "  <thead>\n",
       "    <tr style=\"text-align: right;\">\n",
       "      <th></th>\n",
       "      <th>gp_appt_available</th>\n",
       "      <th>111_111_offered</th>\n",
       "      <th>amb_sys_answered</th>\n",
       "      <th>111_111_answered</th>\n",
       "      <th>amb_sys_made</th>\n",
       "    </tr>\n",
       "  </thead>\n",
       "  <tbody>\n",
       "    <tr>\n",
       "      <th>count</th>\n",
       "      <td>25.000000</td>\n",
       "      <td>25.000000</td>\n",
       "      <td>25.000000</td>\n",
       "      <td>25.000000</td>\n",
       "      <td>25.000000</td>\n",
       "    </tr>\n",
       "    <tr>\n",
       "      <th>mean</th>\n",
       "      <td>0.136654</td>\n",
       "      <td>0.182902</td>\n",
       "      <td>0.441398</td>\n",
       "      <td>0.032996</td>\n",
       "      <td>0.206050</td>\n",
       "    </tr>\n",
       "    <tr>\n",
       "      <th>std</th>\n",
       "      <td>0.019698</td>\n",
       "      <td>0.043528</td>\n",
       "      <td>0.103850</td>\n",
       "      <td>0.018875</td>\n",
       "      <td>0.095447</td>\n",
       "    </tr>\n",
       "    <tr>\n",
       "      <th>min</th>\n",
       "      <td>0.101992</td>\n",
       "      <td>0.085822</td>\n",
       "      <td>0.216400</td>\n",
       "      <td>0.007941</td>\n",
       "      <td>0.064226</td>\n",
       "    </tr>\n",
       "    <tr>\n",
       "      <th>25%</th>\n",
       "      <td>0.118742</td>\n",
       "      <td>0.152490</td>\n",
       "      <td>0.389911</td>\n",
       "      <td>0.018885</td>\n",
       "      <td>0.147064</td>\n",
       "    </tr>\n",
       "    <tr>\n",
       "      <th>50%</th>\n",
       "      <td>0.136631</td>\n",
       "      <td>0.195218</td>\n",
       "      <td>0.466300</td>\n",
       "      <td>0.031307</td>\n",
       "      <td>0.199013</td>\n",
       "    </tr>\n",
       "    <tr>\n",
       "      <th>75%</th>\n",
       "      <td>0.152005</td>\n",
       "      <td>0.207350</td>\n",
       "      <td>0.516622</td>\n",
       "      <td>0.046199</td>\n",
       "      <td>0.250300</td>\n",
       "    </tr>\n",
       "    <tr>\n",
       "      <th>max</th>\n",
       "      <td>0.170367</td>\n",
       "      <td>0.252095</td>\n",
       "      <td>0.624084</td>\n",
       "      <td>0.086178</td>\n",
       "      <td>0.493023</td>\n",
       "    </tr>\n",
       "  </tbody>\n",
       "</table>\n",
       "</div>"
      ],
      "text/plain": [
       "       gp_appt_available  111_111_offered  amb_sys_answered  111_111_answered  \\\n",
       "count          25.000000        25.000000         25.000000         25.000000   \n",
       "mean            0.136654         0.182902          0.441398          0.032996   \n",
       "std             0.019698         0.043528          0.103850          0.018875   \n",
       "min             0.101992         0.085822          0.216400          0.007941   \n",
       "25%             0.118742         0.152490          0.389911          0.018885   \n",
       "50%             0.136631         0.195218          0.466300          0.031307   \n",
       "75%             0.152005         0.207350          0.516622          0.046199   \n",
       "max             0.170367         0.252095          0.624084          0.086178   \n",
       "\n",
       "       amb_sys_made  \n",
       "count     25.000000  \n",
       "mean       0.206050  \n",
       "std        0.095447  \n",
       "min        0.064226  \n",
       "25%        0.147064  \n",
       "50%        0.199013  \n",
       "75%        0.250300  \n",
       "max        0.493023  "
      ]
     },
     "execution_count": 20,
     "metadata": {},
     "output_type": "execute_result"
    }
   ],
   "source": [
    "coefs = pd.DataFrame(\n",
    "   [model.feature_importances_\n",
    "    for model in results['estimator']],\n",
    "   columns=features\n",
    ")\n",
    "\n",
    "coefs.describe()"
   ]
  },
  {
   "cell_type": "markdown",
   "id": "7abaf35c",
   "metadata": {},
   "source": [
    "## Summary "
   ]
  },
  {
   "cell_type": "markdown",
   "id": "3b76b92e",
   "metadata": {},
   "source": [
    "- Extra Trees does not preform well\n",
    "- Random forest with default parameters is overfitting to the training data\n",
    "- Gradient boosted trees performs best"
   ]
  }
 ],
 "metadata": {
  "kernelspec": {
   "display_name": "Python 3 (ipykernel)",
   "language": "python",
   "name": "python3"
  },
  "language_info": {
   "codemirror_mode": {
    "name": "ipython",
    "version": 3
   },
   "file_extension": ".py",
   "mimetype": "text/x-python",
   "name": "python",
   "nbconvert_exporter": "python",
   "pygments_lexer": "ipython3",
   "version": "3.9.12"
  }
 },
 "nbformat": 4,
 "nbformat_minor": 5
}