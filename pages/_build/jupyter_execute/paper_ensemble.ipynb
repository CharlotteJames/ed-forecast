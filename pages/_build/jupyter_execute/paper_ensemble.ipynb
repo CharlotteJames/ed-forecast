{
 "cells": [
  {
   "cell_type": "markdown",
   "id": "787816c8",
   "metadata": {},
   "source": [
    "# Tree-based models "
   ]
  },
  {
   "cell_type": "markdown",
   "id": "6bbda47d",
   "metadata": {},
   "source": [
    "## Overview "
   ]
  },
  {
   "cell_type": "markdown",
   "id": "5d0df2b5",
   "metadata": {},
   "source": [
    "This notebook contains an initial exploration of tree-based regressions to predict monthly ED demand. \n",
    "\n",
    "As the variables population, people, places and lives only vary annually they cannot be included in the model due to data leakage between the training and test sets.\n",
    "\n",
    "For all models, variables used include:\n",
    "\n",
    "- Service capacity (111, GP, Ambulance)\n",
    "- Service utility (111, Ambulance)"
   ]
  },
  {
   "cell_type": "code",
   "execution_count": 1,
   "id": "4cec45c7",
   "metadata": {},
   "outputs": [],
   "source": [
    "#turn warnings off to keep notebook tidy\n",
    "import warnings\n",
    "warnings.filterwarnings('ignore')"
   ]
  },
  {
   "cell_type": "markdown",
   "id": "e5f293e5",
   "metadata": {},
   "source": [
    "## Import libraries "
   ]
  },
  {
   "cell_type": "code",
   "execution_count": 2,
   "id": "51bc0659",
   "metadata": {},
   "outputs": [],
   "source": [
    "import os\n",
    "import pandas as pd\n",
    "import numpy as np\n",
    "\n",
    "from sklearn.ensemble import RandomForestRegressor\n",
    "from sklearn.ensemble import ExtraTreesRegressor\n",
    "from sklearn.ensemble import GradientBoostingRegressor\n",
    "from sklearn.ensemble import AdaBoostRegressor\n",
    "\n",
    "from sklearn.model_selection import train_test_split\n",
    "from sklearn.pipeline import make_pipeline\n",
    "from sklearn.preprocessing import StandardScaler\n",
    "\n",
    "from sklearn.model_selection import cross_validate\n",
    "from sklearn.model_selection import RepeatedKFold"
   ]
  },
  {
   "cell_type": "markdown",
   "id": "a24d85cb",
   "metadata": {},
   "source": [
    "## Import data "
   ]
  },
  {
   "cell_type": "code",
   "execution_count": 3,
   "id": "13122672",
   "metadata": {},
   "outputs": [],
   "source": [
    "dta = pd.read_csv('https://raw.githubusercontent.com/CharlotteJames/ed-forecast/main/data/master_scaled_new.csv',\n",
    "                  index_col=0)"
   ]
  },
  {
   "cell_type": "code",
   "execution_count": 4,
   "id": "e369d537",
   "metadata": {},
   "outputs": [],
   "source": [
    "dta.columns = ['_'.join([c.split('/')[0],c.split('/')[-1]]) \n",
    "               if '/' in c else c for c in dta.columns]"
   ]
  },
  {
   "cell_type": "code",
   "execution_count": 5,
   "id": "88dee7c6",
   "metadata": {},
   "outputs": [
    {
     "data": {
      "text/plain": [
       "(74,)"
      ]
     },
     "execution_count": 5,
     "metadata": {},
     "output_type": "execute_result"
    }
   ],
   "source": [
    "dta.ccg.unique().shape"
   ]
  },
  {
   "cell_type": "markdown",
   "id": "da5c5db3",
   "metadata": {},
   "source": [
    "## Add random feature"
   ]
  },
  {
   "cell_type": "code",
   "execution_count": 6,
   "id": "5e6e0891",
   "metadata": {},
   "outputs": [],
   "source": [
    "# Adding random features\n",
    "\n",
    "rng = np.random.RandomState(0)\n",
    "rand_var = rng.rand(dta.shape[0])\n",
    "dta['rand1'] = rand_var"
   ]
  },
  {
   "cell_type": "code",
   "execution_count": 7,
   "id": "2c6771f6",
   "metadata": {},
   "outputs": [
    {
     "data": {
      "text/plain": [
       "(1618, 14)"
      ]
     },
     "execution_count": 7,
     "metadata": {},
     "output_type": "execute_result"
    }
   ],
   "source": [
    "dta.shape"
   ]
  },
  {
   "cell_type": "markdown",
   "id": "086bd910",
   "metadata": {},
   "source": [
    "## Fitting function "
   ]
  },
  {
   "cell_type": "code",
   "execution_count": 8,
   "id": "0ed191f9",
   "metadata": {},
   "outputs": [],
   "source": [
    "def fit_model(dta, model, features):\n",
    "    \n",
    "    \n",
    "    y = dta['ae_attendances_attendances']\n",
    "    X = dta[features]\n",
    "    \n",
    "    #cross validate to get errors on performance and coefficients\n",
    "    cv_model = cross_validate(model, X,y, \n",
    "                            cv=RepeatedKFold(n_splits=5, n_repeats=5,\n",
    "                                             random_state=0),\n",
    "                            return_estimator=True, \n",
    "                              return_train_score=True, n_jobs=2)\n",
    "    \n",
    "    clf = model.fit(X, y)\n",
    "\n",
    "    \n",
    "    return cv_model"
   ]
  },
  {
   "cell_type": "markdown",
   "id": "10cd6889",
   "metadata": {},
   "source": [
    "## Model Comparison"
   ]
  },
  {
   "cell_type": "markdown",
   "id": "7c430008",
   "metadata": {},
   "source": [
    "### Random Forest "
   ]
  },
  {
   "cell_type": "code",
   "execution_count": 9,
   "id": "5f9767f3",
   "metadata": {},
   "outputs": [],
   "source": [
    "model = RandomForestRegressor()\n",
    "\n",
    "features = ['gp_appt_available',\n",
    "            '111_111_offered', 'amb_sys_answered',\n",
    "            '111_111_answered', 'amb_sys_made']\n",
    "\n",
    "results = fit_model(dta,model,features)"
   ]
  },
  {
   "cell_type": "markdown",
   "id": "68304274",
   "metadata": {},
   "source": [
    "#### Performance "
   ]
  },
  {
   "cell_type": "code",
   "execution_count": 10,
   "id": "bd7b6287",
   "metadata": {},
   "outputs": [
    {
     "data": {
      "text/html": [
       "<div>\n",
       "<style scoped>\n",
       "    .dataframe tbody tr th:only-of-type {\n",
       "        vertical-align: middle;\n",
       "    }\n",
       "\n",
       "    .dataframe tbody tr th {\n",
       "        vertical-align: top;\n",
       "    }\n",
       "\n",
       "    .dataframe thead th {\n",
       "        text-align: right;\n",
       "    }\n",
       "</style>\n",
       "<table border=\"1\" class=\"dataframe\">\n",
       "  <thead>\n",
       "    <tr style=\"text-align: right;\">\n",
       "      <th></th>\n",
       "      <th>test_score</th>\n",
       "      <th>train_score</th>\n",
       "    </tr>\n",
       "  </thead>\n",
       "  <tbody>\n",
       "    <tr>\n",
       "      <th>count</th>\n",
       "      <td>25.000000</td>\n",
       "      <td>25.000000</td>\n",
       "    </tr>\n",
       "    <tr>\n",
       "      <th>mean</th>\n",
       "      <td>0.337418</td>\n",
       "      <td>0.907160</td>\n",
       "    </tr>\n",
       "    <tr>\n",
       "      <th>std</th>\n",
       "      <td>0.076642</td>\n",
       "      <td>0.003945</td>\n",
       "    </tr>\n",
       "    <tr>\n",
       "      <th>min</th>\n",
       "      <td>0.171471</td>\n",
       "      <td>0.900363</td>\n",
       "    </tr>\n",
       "    <tr>\n",
       "      <th>25%</th>\n",
       "      <td>0.262441</td>\n",
       "      <td>0.905089</td>\n",
       "    </tr>\n",
       "    <tr>\n",
       "      <th>50%</th>\n",
       "      <td>0.348798</td>\n",
       "      <td>0.906921</td>\n",
       "    </tr>\n",
       "    <tr>\n",
       "      <th>75%</th>\n",
       "      <td>0.390744</td>\n",
       "      <td>0.909421</td>\n",
       "    </tr>\n",
       "    <tr>\n",
       "      <th>max</th>\n",
       "      <td>0.490176</td>\n",
       "      <td>0.914131</td>\n",
       "    </tr>\n",
       "  </tbody>\n",
       "</table>\n",
       "</div>"
      ],
      "text/plain": [
       "       test_score  train_score\n",
       "count   25.000000    25.000000\n",
       "mean     0.337418     0.907160\n",
       "std      0.076642     0.003945\n",
       "min      0.171471     0.900363\n",
       "25%      0.262441     0.905089\n",
       "50%      0.348798     0.906921\n",
       "75%      0.390744     0.909421\n",
       "max      0.490176     0.914131"
      ]
     },
     "execution_count": 10,
     "metadata": {},
     "output_type": "execute_result"
    }
   ],
   "source": [
    "res=pd.DataFrame()\n",
    "res['test_score'] = results['test_score']\n",
    "res['train_score'] = results['train_score']\n",
    "\n",
    "res.describe()"
   ]
  },
  {
   "cell_type": "markdown",
   "id": "f5cfe75d",
   "metadata": {},
   "source": [
    "#### Coefficients "
   ]
  },
  {
   "cell_type": "code",
   "execution_count": 11,
   "id": "3dda1441",
   "metadata": {},
   "outputs": [
    {
     "data": {
      "text/html": [
       "<div>\n",
       "<style scoped>\n",
       "    .dataframe tbody tr th:only-of-type {\n",
       "        vertical-align: middle;\n",
       "    }\n",
       "\n",
       "    .dataframe tbody tr th {\n",
       "        vertical-align: top;\n",
       "    }\n",
       "\n",
       "    .dataframe thead th {\n",
       "        text-align: right;\n",
       "    }\n",
       "</style>\n",
       "<table border=\"1\" class=\"dataframe\">\n",
       "  <thead>\n",
       "    <tr style=\"text-align: right;\">\n",
       "      <th></th>\n",
       "      <th>gp_appt_available</th>\n",
       "      <th>111_111_offered</th>\n",
       "      <th>amb_sys_answered</th>\n",
       "      <th>111_111_answered</th>\n",
       "      <th>amb_sys_made</th>\n",
       "    </tr>\n",
       "  </thead>\n",
       "  <tbody>\n",
       "    <tr>\n",
       "      <th>count</th>\n",
       "      <td>25.000000</td>\n",
       "      <td>25.000000</td>\n",
       "      <td>25.000000</td>\n",
       "      <td>25.000000</td>\n",
       "      <td>25.000000</td>\n",
       "    </tr>\n",
       "    <tr>\n",
       "      <th>mean</th>\n",
       "      <td>0.357002</td>\n",
       "      <td>0.123849</td>\n",
       "      <td>0.202960</td>\n",
       "      <td>0.075165</td>\n",
       "      <td>0.241024</td>\n",
       "    </tr>\n",
       "    <tr>\n",
       "      <th>std</th>\n",
       "      <td>0.007679</td>\n",
       "      <td>0.009848</td>\n",
       "      <td>0.022245</td>\n",
       "      <td>0.003739</td>\n",
       "      <td>0.023569</td>\n",
       "    </tr>\n",
       "    <tr>\n",
       "      <th>min</th>\n",
       "      <td>0.339813</td>\n",
       "      <td>0.110233</td>\n",
       "      <td>0.165946</td>\n",
       "      <td>0.068933</td>\n",
       "      <td>0.201287</td>\n",
       "    </tr>\n",
       "    <tr>\n",
       "      <th>25%</th>\n",
       "      <td>0.353878</td>\n",
       "      <td>0.116783</td>\n",
       "      <td>0.184720</td>\n",
       "      <td>0.072909</td>\n",
       "      <td>0.227691</td>\n",
       "    </tr>\n",
       "    <tr>\n",
       "      <th>50%</th>\n",
       "      <td>0.357553</td>\n",
       "      <td>0.122698</td>\n",
       "      <td>0.200751</td>\n",
       "      <td>0.075617</td>\n",
       "      <td>0.243067</td>\n",
       "    </tr>\n",
       "    <tr>\n",
       "      <th>75%</th>\n",
       "      <td>0.360190</td>\n",
       "      <td>0.127030</td>\n",
       "      <td>0.216460</td>\n",
       "      <td>0.077222</td>\n",
       "      <td>0.254322</td>\n",
       "    </tr>\n",
       "    <tr>\n",
       "      <th>max</th>\n",
       "      <td>0.374283</td>\n",
       "      <td>0.152080</td>\n",
       "      <td>0.244838</td>\n",
       "      <td>0.082096</td>\n",
       "      <td>0.280150</td>\n",
       "    </tr>\n",
       "  </tbody>\n",
       "</table>\n",
       "</div>"
      ],
      "text/plain": [
       "       gp_appt_available  111_111_offered  amb_sys_answered  111_111_answered  \\\n",
       "count          25.000000        25.000000         25.000000         25.000000   \n",
       "mean            0.357002         0.123849          0.202960          0.075165   \n",
       "std             0.007679         0.009848          0.022245          0.003739   \n",
       "min             0.339813         0.110233          0.165946          0.068933   \n",
       "25%             0.353878         0.116783          0.184720          0.072909   \n",
       "50%             0.357553         0.122698          0.200751          0.075617   \n",
       "75%             0.360190         0.127030          0.216460          0.077222   \n",
       "max             0.374283         0.152080          0.244838          0.082096   \n",
       "\n",
       "       amb_sys_made  \n",
       "count     25.000000  \n",
       "mean       0.241024  \n",
       "std        0.023569  \n",
       "min        0.201287  \n",
       "25%        0.227691  \n",
       "50%        0.243067  \n",
       "75%        0.254322  \n",
       "max        0.280150  "
      ]
     },
     "execution_count": 11,
     "metadata": {},
     "output_type": "execute_result"
    }
   ],
   "source": [
    "coefs = pd.DataFrame(\n",
    "   [model.feature_importances_\n",
    "    for model in results['estimator']],\n",
    "   columns=features\n",
    ")\n",
    "\n",
    "coefs.describe()"
   ]
  },
  {
   "cell_type": "markdown",
   "id": "a37aab65",
   "metadata": {},
   "source": [
    "### Extra Trees"
   ]
  },
  {
   "cell_type": "code",
   "execution_count": 12,
   "id": "d9a33ec4",
   "metadata": {},
   "outputs": [],
   "source": [
    "model = ExtraTreesRegressor()\n",
    "\n",
    "features = ['gp_appt_available',\n",
    "            '111_111_offered', 'amb_sys_answered',\n",
    "            '111_111_answered', 'amb_sys_made']\n",
    "\n",
    "results = fit_model(dta,model,features)"
   ]
  },
  {
   "cell_type": "markdown",
   "id": "258acfe0",
   "metadata": {},
   "source": [
    "#### Performance "
   ]
  },
  {
   "cell_type": "code",
   "execution_count": 13,
   "id": "f17775bf",
   "metadata": {},
   "outputs": [
    {
     "data": {
      "text/html": [
       "<div>\n",
       "<style scoped>\n",
       "    .dataframe tbody tr th:only-of-type {\n",
       "        vertical-align: middle;\n",
       "    }\n",
       "\n",
       "    .dataframe tbody tr th {\n",
       "        vertical-align: top;\n",
       "    }\n",
       "\n",
       "    .dataframe thead th {\n",
       "        text-align: right;\n",
       "    }\n",
       "</style>\n",
       "<table border=\"1\" class=\"dataframe\">\n",
       "  <thead>\n",
       "    <tr style=\"text-align: right;\">\n",
       "      <th></th>\n",
       "      <th>test_score</th>\n",
       "      <th>train_score</th>\n",
       "    </tr>\n",
       "  </thead>\n",
       "  <tbody>\n",
       "    <tr>\n",
       "      <th>count</th>\n",
       "      <td>25.000000</td>\n",
       "      <td>25.0</td>\n",
       "    </tr>\n",
       "    <tr>\n",
       "      <th>mean</th>\n",
       "      <td>0.197374</td>\n",
       "      <td>1.0</td>\n",
       "    </tr>\n",
       "    <tr>\n",
       "      <th>std</th>\n",
       "      <td>0.119562</td>\n",
       "      <td>0.0</td>\n",
       "    </tr>\n",
       "    <tr>\n",
       "      <th>min</th>\n",
       "      <td>-0.047068</td>\n",
       "      <td>1.0</td>\n",
       "    </tr>\n",
       "    <tr>\n",
       "      <th>25%</th>\n",
       "      <td>0.066668</td>\n",
       "      <td>1.0</td>\n",
       "    </tr>\n",
       "    <tr>\n",
       "      <th>50%</th>\n",
       "      <td>0.233617</td>\n",
       "      <td>1.0</td>\n",
       "    </tr>\n",
       "    <tr>\n",
       "      <th>75%</th>\n",
       "      <td>0.275441</td>\n",
       "      <td>1.0</td>\n",
       "    </tr>\n",
       "    <tr>\n",
       "      <th>max</th>\n",
       "      <td>0.393394</td>\n",
       "      <td>1.0</td>\n",
       "    </tr>\n",
       "  </tbody>\n",
       "</table>\n",
       "</div>"
      ],
      "text/plain": [
       "       test_score  train_score\n",
       "count   25.000000         25.0\n",
       "mean     0.197374          1.0\n",
       "std      0.119562          0.0\n",
       "min     -0.047068          1.0\n",
       "25%      0.066668          1.0\n",
       "50%      0.233617          1.0\n",
       "75%      0.275441          1.0\n",
       "max      0.393394          1.0"
      ]
     },
     "execution_count": 13,
     "metadata": {},
     "output_type": "execute_result"
    }
   ],
   "source": [
    "res=pd.DataFrame()\n",
    "res['test_score'] = results['test_score']\n",
    "res['train_score'] = results['train_score']\n",
    "\n",
    "res.describe()"
   ]
  },
  {
   "cell_type": "markdown",
   "id": "42428027",
   "metadata": {},
   "source": [
    "#### Coefficients "
   ]
  },
  {
   "cell_type": "code",
   "execution_count": 14,
   "id": "bbac3926",
   "metadata": {},
   "outputs": [
    {
     "data": {
      "text/html": [
       "<div>\n",
       "<style scoped>\n",
       "    .dataframe tbody tr th:only-of-type {\n",
       "        vertical-align: middle;\n",
       "    }\n",
       "\n",
       "    .dataframe tbody tr th {\n",
       "        vertical-align: top;\n",
       "    }\n",
       "\n",
       "    .dataframe thead th {\n",
       "        text-align: right;\n",
       "    }\n",
       "</style>\n",
       "<table border=\"1\" class=\"dataframe\">\n",
       "  <thead>\n",
       "    <tr style=\"text-align: right;\">\n",
       "      <th></th>\n",
       "      <th>gp_appt_available</th>\n",
       "      <th>111_111_offered</th>\n",
       "      <th>amb_sys_answered</th>\n",
       "      <th>111_111_answered</th>\n",
       "      <th>amb_sys_made</th>\n",
       "    </tr>\n",
       "  </thead>\n",
       "  <tbody>\n",
       "    <tr>\n",
       "      <th>count</th>\n",
       "      <td>25.000000</td>\n",
       "      <td>25.000000</td>\n",
       "      <td>25.000000</td>\n",
       "      <td>25.000000</td>\n",
       "      <td>25.000000</td>\n",
       "    </tr>\n",
       "    <tr>\n",
       "      <th>mean</th>\n",
       "      <td>0.395870</td>\n",
       "      <td>0.115984</td>\n",
       "      <td>0.207734</td>\n",
       "      <td>0.084479</td>\n",
       "      <td>0.195932</td>\n",
       "    </tr>\n",
       "    <tr>\n",
       "      <th>std</th>\n",
       "      <td>0.009711</td>\n",
       "      <td>0.004940</td>\n",
       "      <td>0.008573</td>\n",
       "      <td>0.003465</td>\n",
       "      <td>0.009288</td>\n",
       "    </tr>\n",
       "    <tr>\n",
       "      <th>min</th>\n",
       "      <td>0.374678</td>\n",
       "      <td>0.106690</td>\n",
       "      <td>0.191756</td>\n",
       "      <td>0.076780</td>\n",
       "      <td>0.175861</td>\n",
       "    </tr>\n",
       "    <tr>\n",
       "      <th>25%</th>\n",
       "      <td>0.390342</td>\n",
       "      <td>0.113776</td>\n",
       "      <td>0.202478</td>\n",
       "      <td>0.082096</td>\n",
       "      <td>0.190601</td>\n",
       "    </tr>\n",
       "    <tr>\n",
       "      <th>50%</th>\n",
       "      <td>0.396914</td>\n",
       "      <td>0.115226</td>\n",
       "      <td>0.207818</td>\n",
       "      <td>0.084087</td>\n",
       "      <td>0.194176</td>\n",
       "    </tr>\n",
       "    <tr>\n",
       "      <th>75%</th>\n",
       "      <td>0.404387</td>\n",
       "      <td>0.119624</td>\n",
       "      <td>0.212132</td>\n",
       "      <td>0.087006</td>\n",
       "      <td>0.201625</td>\n",
       "    </tr>\n",
       "    <tr>\n",
       "      <th>max</th>\n",
       "      <td>0.407839</td>\n",
       "      <td>0.125445</td>\n",
       "      <td>0.223766</td>\n",
       "      <td>0.091355</td>\n",
       "      <td>0.214036</td>\n",
       "    </tr>\n",
       "  </tbody>\n",
       "</table>\n",
       "</div>"
      ],
      "text/plain": [
       "       gp_appt_available  111_111_offered  amb_sys_answered  111_111_answered  \\\n",
       "count          25.000000        25.000000         25.000000         25.000000   \n",
       "mean            0.395870         0.115984          0.207734          0.084479   \n",
       "std             0.009711         0.004940          0.008573          0.003465   \n",
       "min             0.374678         0.106690          0.191756          0.076780   \n",
       "25%             0.390342         0.113776          0.202478          0.082096   \n",
       "50%             0.396914         0.115226          0.207818          0.084087   \n",
       "75%             0.404387         0.119624          0.212132          0.087006   \n",
       "max             0.407839         0.125445          0.223766          0.091355   \n",
       "\n",
       "       amb_sys_made  \n",
       "count     25.000000  \n",
       "mean       0.195932  \n",
       "std        0.009288  \n",
       "min        0.175861  \n",
       "25%        0.190601  \n",
       "50%        0.194176  \n",
       "75%        0.201625  \n",
       "max        0.214036  "
      ]
     },
     "execution_count": 14,
     "metadata": {},
     "output_type": "execute_result"
    }
   ],
   "source": [
    "coefs = pd.DataFrame(\n",
    "   [model.feature_importances_\n",
    "    for model in results['estimator']],\n",
    "   columns=features\n",
    ")\n",
    "\n",
    "coefs.describe()"
   ]
  },
  {
   "cell_type": "markdown",
   "id": "7ca744b4",
   "metadata": {},
   "source": [
    "### Gradient Boosted Trees"
   ]
  },
  {
   "cell_type": "code",
   "execution_count": 15,
   "id": "9684c5d1",
   "metadata": {},
   "outputs": [],
   "source": [
    "model = GradientBoostingRegressor()\n",
    "\n",
    "features = ['gp_appt_available',\n",
    "            '111_111_offered', 'amb_sys_answered',\n",
    "            '111_111_answered', 'amb_sys_made']\n",
    "\n",
    "results = fit_model(dta,model,features)"
   ]
  },
  {
   "cell_type": "markdown",
   "id": "d1c01a3a",
   "metadata": {},
   "source": [
    "#### Performance "
   ]
  },
  {
   "cell_type": "code",
   "execution_count": 16,
   "id": "8e6e1159",
   "metadata": {},
   "outputs": [
    {
     "data": {
      "text/html": [
       "<div>\n",
       "<style scoped>\n",
       "    .dataframe tbody tr th:only-of-type {\n",
       "        vertical-align: middle;\n",
       "    }\n",
       "\n",
       "    .dataframe tbody tr th {\n",
       "        vertical-align: top;\n",
       "    }\n",
       "\n",
       "    .dataframe thead th {\n",
       "        text-align: right;\n",
       "    }\n",
       "</style>\n",
       "<table border=\"1\" class=\"dataframe\">\n",
       "  <thead>\n",
       "    <tr style=\"text-align: right;\">\n",
       "      <th></th>\n",
       "      <th>test_score</th>\n",
       "      <th>train_score</th>\n",
       "    </tr>\n",
       "  </thead>\n",
       "  <tbody>\n",
       "    <tr>\n",
       "      <th>count</th>\n",
       "      <td>25.000000</td>\n",
       "      <td>25.000000</td>\n",
       "    </tr>\n",
       "    <tr>\n",
       "      <th>mean</th>\n",
       "      <td>0.415361</td>\n",
       "      <td>0.568058</td>\n",
       "    </tr>\n",
       "    <tr>\n",
       "      <th>std</th>\n",
       "      <td>0.048391</td>\n",
       "      <td>0.011582</td>\n",
       "    </tr>\n",
       "    <tr>\n",
       "      <th>min</th>\n",
       "      <td>0.315104</td>\n",
       "      <td>0.551823</td>\n",
       "    </tr>\n",
       "    <tr>\n",
       "      <th>25%</th>\n",
       "      <td>0.388389</td>\n",
       "      <td>0.556177</td>\n",
       "    </tr>\n",
       "    <tr>\n",
       "      <th>50%</th>\n",
       "      <td>0.406757</td>\n",
       "      <td>0.568343</td>\n",
       "    </tr>\n",
       "    <tr>\n",
       "      <th>75%</th>\n",
       "      <td>0.448337</td>\n",
       "      <td>0.575327</td>\n",
       "    </tr>\n",
       "    <tr>\n",
       "      <th>max</th>\n",
       "      <td>0.495351</td>\n",
       "      <td>0.587684</td>\n",
       "    </tr>\n",
       "  </tbody>\n",
       "</table>\n",
       "</div>"
      ],
      "text/plain": [
       "       test_score  train_score\n",
       "count   25.000000    25.000000\n",
       "mean     0.415361     0.568058\n",
       "std      0.048391     0.011582\n",
       "min      0.315104     0.551823\n",
       "25%      0.388389     0.556177\n",
       "50%      0.406757     0.568343\n",
       "75%      0.448337     0.575327\n",
       "max      0.495351     0.587684"
      ]
     },
     "execution_count": 16,
     "metadata": {},
     "output_type": "execute_result"
    }
   ],
   "source": [
    "res=pd.DataFrame()\n",
    "res['test_score'] = results['test_score']\n",
    "res['train_score'] = results['train_score']\n",
    "\n",
    "res.describe()"
   ]
  },
  {
   "cell_type": "markdown",
   "id": "e42f0d91",
   "metadata": {},
   "source": [
    "#### Coefficients "
   ]
  },
  {
   "cell_type": "code",
   "execution_count": 17,
   "id": "b40a469f",
   "metadata": {},
   "outputs": [
    {
     "data": {
      "text/html": [
       "<div>\n",
       "<style scoped>\n",
       "    .dataframe tbody tr th:only-of-type {\n",
       "        vertical-align: middle;\n",
       "    }\n",
       "\n",
       "    .dataframe tbody tr th {\n",
       "        vertical-align: top;\n",
       "    }\n",
       "\n",
       "    .dataframe thead th {\n",
       "        text-align: right;\n",
       "    }\n",
       "</style>\n",
       "<table border=\"1\" class=\"dataframe\">\n",
       "  <thead>\n",
       "    <tr style=\"text-align: right;\">\n",
       "      <th></th>\n",
       "      <th>gp_appt_available</th>\n",
       "      <th>111_111_offered</th>\n",
       "      <th>amb_sys_answered</th>\n",
       "      <th>111_111_answered</th>\n",
       "      <th>amb_sys_made</th>\n",
       "    </tr>\n",
       "  </thead>\n",
       "  <tbody>\n",
       "    <tr>\n",
       "      <th>count</th>\n",
       "      <td>25.000000</td>\n",
       "      <td>25.000000</td>\n",
       "      <td>25.000000</td>\n",
       "      <td>25.000000</td>\n",
       "      <td>25.000000</td>\n",
       "    </tr>\n",
       "    <tr>\n",
       "      <th>mean</th>\n",
       "      <td>0.189201</td>\n",
       "      <td>0.152739</td>\n",
       "      <td>0.274784</td>\n",
       "      <td>0.030169</td>\n",
       "      <td>0.353107</td>\n",
       "    </tr>\n",
       "    <tr>\n",
       "      <th>std</th>\n",
       "      <td>0.011778</td>\n",
       "      <td>0.016073</td>\n",
       "      <td>0.027098</td>\n",
       "      <td>0.005649</td>\n",
       "      <td>0.028217</td>\n",
       "    </tr>\n",
       "    <tr>\n",
       "      <th>min</th>\n",
       "      <td>0.170143</td>\n",
       "      <td>0.129167</td>\n",
       "      <td>0.216100</td>\n",
       "      <td>0.022042</td>\n",
       "      <td>0.296229</td>\n",
       "    </tr>\n",
       "    <tr>\n",
       "      <th>25%</th>\n",
       "      <td>0.179190</td>\n",
       "      <td>0.140159</td>\n",
       "      <td>0.262216</td>\n",
       "      <td>0.026786</td>\n",
       "      <td>0.339826</td>\n",
       "    </tr>\n",
       "    <tr>\n",
       "      <th>50%</th>\n",
       "      <td>0.188742</td>\n",
       "      <td>0.155633</td>\n",
       "      <td>0.275872</td>\n",
       "      <td>0.028190</td>\n",
       "      <td>0.349366</td>\n",
       "    </tr>\n",
       "    <tr>\n",
       "      <th>75%</th>\n",
       "      <td>0.196874</td>\n",
       "      <td>0.160312</td>\n",
       "      <td>0.292362</td>\n",
       "      <td>0.032325</td>\n",
       "      <td>0.374658</td>\n",
       "    </tr>\n",
       "    <tr>\n",
       "      <th>max</th>\n",
       "      <td>0.211001</td>\n",
       "      <td>0.199813</td>\n",
       "      <td>0.314280</td>\n",
       "      <td>0.045884</td>\n",
       "      <td>0.407943</td>\n",
       "    </tr>\n",
       "  </tbody>\n",
       "</table>\n",
       "</div>"
      ],
      "text/plain": [
       "       gp_appt_available  111_111_offered  amb_sys_answered  111_111_answered  \\\n",
       "count          25.000000        25.000000         25.000000         25.000000   \n",
       "mean            0.189201         0.152739          0.274784          0.030169   \n",
       "std             0.011778         0.016073          0.027098          0.005649   \n",
       "min             0.170143         0.129167          0.216100          0.022042   \n",
       "25%             0.179190         0.140159          0.262216          0.026786   \n",
       "50%             0.188742         0.155633          0.275872          0.028190   \n",
       "75%             0.196874         0.160312          0.292362          0.032325   \n",
       "max             0.211001         0.199813          0.314280          0.045884   \n",
       "\n",
       "       amb_sys_made  \n",
       "count     25.000000  \n",
       "mean       0.353107  \n",
       "std        0.028217  \n",
       "min        0.296229  \n",
       "25%        0.339826  \n",
       "50%        0.349366  \n",
       "75%        0.374658  \n",
       "max        0.407943  "
      ]
     },
     "execution_count": 17,
     "metadata": {},
     "output_type": "execute_result"
    }
   ],
   "source": [
    "coefs = pd.DataFrame(\n",
    "   [model.feature_importances_\n",
    "    for model in results['estimator']],\n",
    "   columns=features\n",
    ")\n",
    "\n",
    "coefs.describe()"
   ]
  },
  {
   "cell_type": "markdown",
   "id": "c80f0e02",
   "metadata": {},
   "source": [
    "### ADA Boost"
   ]
  },
  {
   "cell_type": "code",
   "execution_count": 18,
   "id": "dba12cb8",
   "metadata": {},
   "outputs": [],
   "source": [
    "model = AdaBoostRegressor()\n",
    "\n",
    "features = ['gp_appt_available',\n",
    "            '111_111_offered', 'amb_sys_answered',\n",
    "            '111_111_answered', 'amb_sys_made']\n",
    "\n",
    "results = fit_model(dta,model,features)"
   ]
  },
  {
   "cell_type": "markdown",
   "id": "c6a9715d",
   "metadata": {},
   "source": [
    "#### Performance "
   ]
  },
  {
   "cell_type": "code",
   "execution_count": 19,
   "id": "9c6106c5",
   "metadata": {},
   "outputs": [
    {
     "data": {
      "text/html": [
       "<div>\n",
       "<style scoped>\n",
       "    .dataframe tbody tr th:only-of-type {\n",
       "        vertical-align: middle;\n",
       "    }\n",
       "\n",
       "    .dataframe tbody tr th {\n",
       "        vertical-align: top;\n",
       "    }\n",
       "\n",
       "    .dataframe thead th {\n",
       "        text-align: right;\n",
       "    }\n",
       "</style>\n",
       "<table border=\"1\" class=\"dataframe\">\n",
       "  <thead>\n",
       "    <tr style=\"text-align: right;\">\n",
       "      <th></th>\n",
       "      <th>test_score</th>\n",
       "      <th>train_score</th>\n",
       "    </tr>\n",
       "  </thead>\n",
       "  <tbody>\n",
       "    <tr>\n",
       "      <th>count</th>\n",
       "      <td>25.000000</td>\n",
       "      <td>25.000000</td>\n",
       "    </tr>\n",
       "    <tr>\n",
       "      <th>mean</th>\n",
       "      <td>0.353207</td>\n",
       "      <td>0.398218</td>\n",
       "    </tr>\n",
       "    <tr>\n",
       "      <th>std</th>\n",
       "      <td>0.062387</td>\n",
       "      <td>0.020489</td>\n",
       "    </tr>\n",
       "    <tr>\n",
       "      <th>min</th>\n",
       "      <td>0.214903</td>\n",
       "      <td>0.348453</td>\n",
       "    </tr>\n",
       "    <tr>\n",
       "      <th>25%</th>\n",
       "      <td>0.305553</td>\n",
       "      <td>0.386198</td>\n",
       "    </tr>\n",
       "    <tr>\n",
       "      <th>50%</th>\n",
       "      <td>0.338738</td>\n",
       "      <td>0.399499</td>\n",
       "    </tr>\n",
       "    <tr>\n",
       "      <th>75%</th>\n",
       "      <td>0.396985</td>\n",
       "      <td>0.414336</td>\n",
       "    </tr>\n",
       "    <tr>\n",
       "      <th>max</th>\n",
       "      <td>0.482296</td>\n",
       "      <td>0.440337</td>\n",
       "    </tr>\n",
       "  </tbody>\n",
       "</table>\n",
       "</div>"
      ],
      "text/plain": [
       "       test_score  train_score\n",
       "count   25.000000    25.000000\n",
       "mean     0.353207     0.398218\n",
       "std      0.062387     0.020489\n",
       "min      0.214903     0.348453\n",
       "25%      0.305553     0.386198\n",
       "50%      0.338738     0.399499\n",
       "75%      0.396985     0.414336\n",
       "max      0.482296     0.440337"
      ]
     },
     "execution_count": 19,
     "metadata": {},
     "output_type": "execute_result"
    }
   ],
   "source": [
    "res=pd.DataFrame()\n",
    "res['test_score'] = results['test_score']\n",
    "res['train_score'] = results['train_score']\n",
    "\n",
    "res.describe()"
   ]
  },
  {
   "cell_type": "markdown",
   "id": "162a9c54",
   "metadata": {},
   "source": [
    "#### Coefficients "
   ]
  },
  {
   "cell_type": "code",
   "execution_count": 20,
   "id": "96065f85",
   "metadata": {},
   "outputs": [
    {
     "data": {
      "text/html": [
       "<div>\n",
       "<style scoped>\n",
       "    .dataframe tbody tr th:only-of-type {\n",
       "        vertical-align: middle;\n",
       "    }\n",
       "\n",
       "    .dataframe tbody tr th {\n",
       "        vertical-align: top;\n",
       "    }\n",
       "\n",
       "    .dataframe thead th {\n",
       "        text-align: right;\n",
       "    }\n",
       "</style>\n",
       "<table border=\"1\" class=\"dataframe\">\n",
       "  <thead>\n",
       "    <tr style=\"text-align: right;\">\n",
       "      <th></th>\n",
       "      <th>gp_appt_available</th>\n",
       "      <th>111_111_offered</th>\n",
       "      <th>amb_sys_answered</th>\n",
       "      <th>111_111_answered</th>\n",
       "      <th>amb_sys_made</th>\n",
       "    </tr>\n",
       "  </thead>\n",
       "  <tbody>\n",
       "    <tr>\n",
       "      <th>count</th>\n",
       "      <td>25.000000</td>\n",
       "      <td>25.000000</td>\n",
       "      <td>25.000000</td>\n",
       "      <td>25.000000</td>\n",
       "      <td>25.000000</td>\n",
       "    </tr>\n",
       "    <tr>\n",
       "      <th>mean</th>\n",
       "      <td>0.131013</td>\n",
       "      <td>0.136810</td>\n",
       "      <td>0.341245</td>\n",
       "      <td>0.007087</td>\n",
       "      <td>0.383844</td>\n",
       "    </tr>\n",
       "    <tr>\n",
       "      <th>std</th>\n",
       "      <td>0.018367</td>\n",
       "      <td>0.051606</td>\n",
       "      <td>0.059225</td>\n",
       "      <td>0.007437</td>\n",
       "      <td>0.079703</td>\n",
       "    </tr>\n",
       "    <tr>\n",
       "      <th>min</th>\n",
       "      <td>0.094617</td>\n",
       "      <td>0.069596</td>\n",
       "      <td>0.253128</td>\n",
       "      <td>0.000000</td>\n",
       "      <td>0.208886</td>\n",
       "    </tr>\n",
       "    <tr>\n",
       "      <th>25%</th>\n",
       "      <td>0.114694</td>\n",
       "      <td>0.111798</td>\n",
       "      <td>0.292980</td>\n",
       "      <td>0.001893</td>\n",
       "      <td>0.319977</td>\n",
       "    </tr>\n",
       "    <tr>\n",
       "      <th>50%</th>\n",
       "      <td>0.133880</td>\n",
       "      <td>0.125812</td>\n",
       "      <td>0.333916</td>\n",
       "      <td>0.004246</td>\n",
       "      <td>0.403523</td>\n",
       "    </tr>\n",
       "    <tr>\n",
       "      <th>75%</th>\n",
       "      <td>0.141702</td>\n",
       "      <td>0.161672</td>\n",
       "      <td>0.382629</td>\n",
       "      <td>0.010357</td>\n",
       "      <td>0.438641</td>\n",
       "    </tr>\n",
       "    <tr>\n",
       "      <th>max</th>\n",
       "      <td>0.172065</td>\n",
       "      <td>0.268240</td>\n",
       "      <td>0.496221</td>\n",
       "      <td>0.026677</td>\n",
       "      <td>0.505979</td>\n",
       "    </tr>\n",
       "  </tbody>\n",
       "</table>\n",
       "</div>"
      ],
      "text/plain": [
       "       gp_appt_available  111_111_offered  amb_sys_answered  111_111_answered  \\\n",
       "count          25.000000        25.000000         25.000000         25.000000   \n",
       "mean            0.131013         0.136810          0.341245          0.007087   \n",
       "std             0.018367         0.051606          0.059225          0.007437   \n",
       "min             0.094617         0.069596          0.253128          0.000000   \n",
       "25%             0.114694         0.111798          0.292980          0.001893   \n",
       "50%             0.133880         0.125812          0.333916          0.004246   \n",
       "75%             0.141702         0.161672          0.382629          0.010357   \n",
       "max             0.172065         0.268240          0.496221          0.026677   \n",
       "\n",
       "       amb_sys_made  \n",
       "count     25.000000  \n",
       "mean       0.383844  \n",
       "std        0.079703  \n",
       "min        0.208886  \n",
       "25%        0.319977  \n",
       "50%        0.403523  \n",
       "75%        0.438641  \n",
       "max        0.505979  "
      ]
     },
     "execution_count": 20,
     "metadata": {},
     "output_type": "execute_result"
    }
   ],
   "source": [
    "coefs = pd.DataFrame(\n",
    "   [model.feature_importances_\n",
    "    for model in results['estimator']],\n",
    "   columns=features\n",
    ")\n",
    "\n",
    "coefs.describe()"
   ]
  },
  {
   "cell_type": "markdown",
   "id": "7abaf35c",
   "metadata": {},
   "source": [
    "## Summary "
   ]
  },
  {
   "cell_type": "markdown",
   "id": "3b76b92e",
   "metadata": {},
   "source": [
    "- Extra Trees does not preform well\n",
    "- Random forest with default parameters is overfitting to the training data\n",
    "- Gradient boosted trees performs best"
   ]
  }
 ],
 "metadata": {
  "kernelspec": {
   "display_name": "Python 3 (ipykernel)",
   "language": "python",
   "name": "python3"
  },
  "language_info": {
   "codemirror_mode": {
    "name": "ipython",
    "version": 3
   },
   "file_extension": ".py",
   "mimetype": "text/x-python",
   "name": "python",
   "nbconvert_exporter": "python",
   "pygments_lexer": "ipython3",
   "version": "3.9.12"
  }
 },
 "nbformat": 4,
 "nbformat_minor": 5
}