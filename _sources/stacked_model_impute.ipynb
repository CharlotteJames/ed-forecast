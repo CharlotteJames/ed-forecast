{
 "cells": [
  {
   "cell_type": "markdown",
   "id": "89bc1d9b",
   "metadata": {},
   "source": [
    "# Model performance with imputed data"
   ]
  },
  {
   "cell_type": "markdown",
   "id": "eab5577a",
   "metadata": {},
   "source": [
    "## Overview\n",
    "\n",
    "This notebook demonstrates that using KNN to impute missing data leads to a drop in model performance.\n",
    "\n",
    "Code to generate the imputed datasets can be found [here](./impute.ipynb)"
   ]
  },
  {
   "cell_type": "code",
   "execution_count": 1,
   "id": "29268eb1",
   "metadata": {},
   "outputs": [],
   "source": [
    "#turn warnings off to keep notebook tidy\n",
    "import warnings\n",
    "warnings.filterwarnings('ignore')"
   ]
  },
  {
   "cell_type": "markdown",
   "id": "b0a12a14",
   "metadata": {},
   "source": [
    "## Import libraries "
   ]
  },
  {
   "cell_type": "code",
   "execution_count": 2,
   "id": "f9e92104",
   "metadata": {},
   "outputs": [],
   "source": [
    "import os\n",
    "import pandas as pd\n",
    "import numpy as np\n",
    "import pickle as pkl\n",
    "\n",
    "from sklearn.linear_model import LinearRegression\n",
    "from sklearn.ensemble import RandomForestRegressor\n",
    "from sklearn.ensemble import GradientBoostingRegressor\n",
    "\n",
    "\n",
    "from sklearn.model_selection import train_test_split\n",
    "from sklearn.model_selection import GridSearchCV\n",
    "from sklearn.model_selection import cross_validate\n",
    "from sklearn.model_selection import RepeatedKFold\n",
    "from sklearn.metrics import r2_score as r2\n",
    "\n",
    "\n",
    "import seaborn as sns\n",
    "\n",
    "import matplotlib.pyplot as plt\n",
    "%matplotlib inline\n",
    "plt.style.use('ggplot')"
   ]
  },
  {
   "cell_type": "markdown",
   "id": "0f30286b",
   "metadata": {},
   "source": [
    "## Function to group data "
   ]
  },
  {
   "cell_type": "code",
   "execution_count": 3,
   "id": "2178761f",
   "metadata": {},
   "outputs": [],
   "source": [
    "def group_data(data, features):\n",
    "\n",
    "    features = ['population',\n",
    "                'People', 'Places',\n",
    "                'Lives']\n",
    "\n",
    "\n",
    "    #ensure no identical points in train and test\n",
    "\n",
    "    grouped = pd.DataFrame()\n",
    "    \n",
    "    for pop, group in data.groupby('population'):\n",
    "\n",
    "        #if len(group.lives.unique())>1:\n",
    "\n",
    "            #print('multiple CCG with same population')\n",
    "\n",
    "        ccg_year = pd.Series(dtype='float64')\n",
    "\n",
    "        for f in features:\n",
    "\n",
    "            ccg_year[f] = group[f].unique()[0]\n",
    "\n",
    "        ccg_year['ae_attendances_attendances']\\\n",
    "        = group.ae_attendances_attendances.mean()\n",
    "        \n",
    "\n",
    "        grouped = grouped.append(ccg_year, ignore_index=True)\n",
    "        \n",
    "    return grouped"
   ]
  },
  {
   "cell_type": "markdown",
   "id": "bfb18364",
   "metadata": {},
   "source": [
    "## Functions to fit MGSR "
   ]
  },
  {
   "cell_type": "code",
   "execution_count": 4,
   "id": "c9770860",
   "metadata": {},
   "outputs": [],
   "source": [
    "def fit_ph(dta, features, model):\n",
    "    \n",
    "    if 'ae_predicted' in dta.columns:\n",
    "        \n",
    "        dta = dta.drop(['ae_predicted'], axis=1)\n",
    "    \n",
    "    grouped = group_data(dta, features)\n",
    "    \n",
    "    y = grouped['ae_attendances_attendances']\n",
    "\n",
    "    X = grouped[features]\n",
    "\n",
    "    # dont set random state so that function can be used in overall cv\n",
    "    cv = RepeatedKFold(n_splits=5, n_repeats=1, random_state=1)\n",
    "    \n",
    "    results = pd.DataFrame()\n",
    "    \n",
    "    for train_index, test_index in cv.split(X, y):\n",
    "        \n",
    "        model.fit(X.iloc[train_index], y.iloc[train_index])\n",
    "        \n",
    "        test = X.iloc[test_index].copy()\n",
    "        \n",
    "        test['ae_predicted'] = model.predict(X.iloc[test_index])\n",
    "    \n",
    "        results = results.append(test, ignore_index=True)\n",
    "        \n",
    "    dta = dta.merge(results[['population','ae_predicted']],\n",
    "                    left_on='population', right_on='population')\n",
    "        \n",
    "    return dta"
   ]
  },
  {
   "cell_type": "code",
   "execution_count": 5,
   "id": "0b25effa",
   "metadata": {},
   "outputs": [],
   "source": [
    "def fit_capacity(dta, features, model):\n",
    "    \n",
    "    y = dta['ae_attendances_attendances']\n",
    "    X = dta[features]\n",
    "\n",
    "    model.fit(X,y)\n",
    "    \n",
    "    return model"
   ]
  },
  {
   "cell_type": "code",
   "execution_count": 6,
   "id": "a8cd510b",
   "metadata": {},
   "outputs": [],
   "source": [
    "def fit_combined(train, rf1, m1_features, train_size=7/8):\n",
    "    \n",
    "    final = LinearRegression()\n",
    "\n",
    "    #split training data into two sets\n",
    "    train_0, train_1 = train_test_split(train, \n",
    "                                        train_size=train_size, \n",
    "                                        random_state=29)\n",
    "\n",
    "    #train capactiy model\n",
    "    \n",
    "    rf1 = fit_capacity(train_0, m1_features, rf1)\n",
    "    \n",
    "\n",
    "    #predict monthly attendances\n",
    "\n",
    "    y_pred_1 = rf1.predict(train_1[m1_features])\n",
    "\n",
    "    \n",
    "    #use pre-predicted average attendances\n",
    "    \n",
    "    y_pred_2 = train_1['ae_predicted']\n",
    "        \n",
    "    #final\n",
    "        \n",
    "    X_f = np.vstack([y_pred_1, y_pred_2]).T\n",
    "    y_f = train_1['ae_attendances_attendances']\n",
    "\n",
    "    final.fit(X_f,y_f)\n",
    "    \n",
    "    return rf1,final        "
   ]
  },
  {
   "cell_type": "code",
   "execution_count": 7,
   "id": "bcf7d0c2",
   "metadata": {},
   "outputs": [],
   "source": [
    "def cv_combined(dta, rf1, rf2):\n",
    "    \n",
    "    # splitter for cross validation \n",
    "    \n",
    "    cv = RepeatedKFold(n_splits=5, n_repeats=5, random_state=1)\n",
    "    \n",
    "    scores_final, scores_rf1, scores_rf2, coefs = [],[],[],[]\n",
    "    \n",
    "    k=1\n",
    "    \n",
    "    capacity_features = ['gp_appt_available',\n",
    "            '111_111_offered', 'amb_sys_answered']\n",
    "\n",
    "    pophealth_features = ['population',\n",
    "                            'People', 'Places', 'Lives']\n",
    "    \n",
    "    dta_pred = pd.DataFrame()\n",
    "    \n",
    "    #fit population health independently to avoid data leakage\n",
    "    \n",
    "    dta = fit_ph(dta, pophealth_features, rf2)\n",
    "    \n",
    "    for train_index, test_index in cv.split(dta):\n",
    "        \n",
    "        #print(f'\\n Split {k} \\n')\n",
    "        \n",
    "        train = dta.iloc[train_index]\n",
    "        test = dta.iloc[test_index]\n",
    "\n",
    "        #final models\n",
    "        rf1, final = fit_combined(train, rf1, capacity_features)\n",
    "        \n",
    "        coefs.append(final.coef_)\n",
    "        \n",
    "        #predict on test data\n",
    "        \n",
    "        y_pred_cu = rf1.predict(test[capacity_features])\n",
    "\n",
    "        scores_rf1.append(rf1.score(test[capacity_features],\n",
    "                                    test['ae_attendances_attendances']))\n",
    "\n",
    "        y_pred_ph = test['ae_predicted']\n",
    "\n",
    "        scores_rf2.append(r2(test['ae_attendances_attendances'],\n",
    "                             test['ae_predicted']))\n",
    "        \n",
    "        preds = final.predict(np.vstack([y_pred_cu, y_pred_ph]).T)\n",
    "\n",
    "        scores_final.append(final.score(np.vstack([y_pred_cu, y_pred_ph]).T,\n",
    "                                        test['ae_attendances_attendances']))\n",
    "        \n",
    "        test_pred = test.copy()\n",
    "        test_pred['predicted'] = preds\n",
    "        test_pred['true'] = test['ae_attendances_attendances'].values\n",
    "        \n",
    "        test_pred['iter'] = [k for i in test_pred.index]\n",
    "        \n",
    "        dta_pred = dta_pred.append(test_pred, ignore_index=False)\n",
    "        \n",
    "        \n",
    "        k+=1\n",
    "        \n",
    "    return scores_final, scores_rf1, scores_rf2, dta_pred, coefs"
   ]
  },
  {
   "cell_type": "code",
   "execution_count": 8,
   "id": "c6614a41",
   "metadata": {},
   "outputs": [],
   "source": [
    "def fit_(dta):\n",
    "    \n",
    "    #capacity model\n",
    "    rf1 = RandomForestRegressor(max_depth=5, n_estimators=6, random_state=0)\n",
    "\n",
    "    #population health model\n",
    "    rf2 = RandomForestRegressor(max_depth=5, n_estimators=4, random_state=0)\n",
    "\n",
    "    scores_final, scores_rf1, scores_rf2, \\\n",
    "    dta_pred, coefs = cv_combined(dta, rf1, rf2)\n",
    "\n",
    "    return scores_final, scores_rf1, scores_rf2"
   ]
  },
  {
   "cell_type": "markdown",
   "id": "cdbdaa36",
   "metadata": {},
   "source": [
    "## Performance with increasing N"
   ]
  },
  {
   "cell_type": "code",
   "execution_count": 10,
   "id": "9c4adc73",
   "metadata": {},
   "outputs": [
    {
     "name": "stdout",
     "output_type": "stream",
     "text": [
      "Running for 3 neighbours\n",
      "Running for 4 neighbours\n",
      "Running for 5 neighbours\n",
      "Running for 6 neighbours\n",
      "Running for 7 neighbours\n",
      "Running for 8 neighbours\n",
      "Running for 9 neighbours\n",
      "Running for 10 neighbours\n",
      "Running for 11 neighbours\n"
     ]
    }
   ],
   "source": [
    "results_f, results_ph, results_c = \\\n",
    "pd.DataFrame(),pd.DataFrame(),pd.DataFrame()\n",
    "\n",
    "for N in range(3,12):\n",
    "    \n",
    "    print(f'Running for {N} neighbours')\n",
    "    \n",
    "    dta = pd.read_csv(f'https://raw.githubusercontent.com/CharlotteJames/ed-forecast/main/data/imputed/master_imputed_{N}.csv')\n",
    "    scores_final, scores_rf1, scores_rf2 = fit_(dta)\n",
    "    \n",
    "    results_f[N] = scores_final\n",
    "    results_c[N] = scores_rf1\n",
    "    results_ph[N] = scores_rf2"
   ]
  },
  {
   "cell_type": "code",
   "execution_count": null,
   "id": "6987c1bb",
   "metadata": {},
   "outputs": [],
   "source": [
    "results_f.describe()"
   ]
  },
  {
   "cell_type": "code",
   "execution_count": null,
   "id": "b61863f1",
   "metadata": {},
   "outputs": [],
   "source": [
    "results_c.describe()"
   ]
  },
  {
   "cell_type": "code",
   "execution_count": null,
   "id": "0e8eae15",
   "metadata": {},
   "outputs": [],
   "source": [
    "results_ph.describe()"
   ]
  },
  {
   "cell_type": "code",
   "execution_count": null,
   "id": "25c4cf5c",
   "metadata": {},
   "outputs": [],
   "source": []
  }
 ],
 "metadata": {
  "kernelspec": {
   "display_name": "Python 3 (ipykernel)",
   "language": "python",
   "name": "python3"
  },
  "language_info": {
   "codemirror_mode": {
    "name": "ipython",
    "version": 3
   },
   "file_extension": ".py",
   "mimetype": "text/x-python",
   "name": "python",
   "nbconvert_exporter": "python",
   "pygments_lexer": "ipython3",
   "version": "3.9.12"
  }
 },
 "nbformat": 4,
 "nbformat_minor": 5
}
