{
 "cells": [
  {
   "cell_type": "markdown",
   "id": "4c77db5c",
   "metadata": {},
   "source": [
    "# Mixed Linear Model "
   ]
  },
  {
   "cell_type": "code",
   "execution_count": 1,
   "id": "c4ef2d42",
   "metadata": {},
   "outputs": [],
   "source": [
    "import warnings\n",
    "warnings.filterwarnings('ignore')"
   ]
  },
  {
   "cell_type": "markdown",
   "id": "9bd17e68",
   "metadata": {},
   "source": [
    "## Import libraries "
   ]
  },
  {
   "cell_type": "code",
   "execution_count": 2,
   "id": "2b76ee3b",
   "metadata": {},
   "outputs": [],
   "source": [
    "import os\n",
    "import pandas as pd\n",
    "import numpy as np\n",
    "import seaborn as sns\n",
    "import matplotlib.pyplot as plt\n",
    "%matplotlib inline\n",
    "\n",
    "from statsmodels.regression.mixed_linear_model import MixedLM\n",
    "from sklearn.model_selection import train_test_split\n",
    "from sklearn.metrics import r2_score\n",
    "\n",
    "from sklearn.model_selection import cross_validate\n",
    "from sklearn.model_selection import RepeatedKFold\n",
    "\n",
    "import statsmodels.api as sm\n",
    "import scipy.stats as stats"
   ]
  },
  {
   "cell_type": "code",
   "execution_count": 3,
   "id": "93711edb",
   "metadata": {},
   "outputs": [],
   "source": [
    "dta = pd.read_csv('https://raw.githubusercontent.com/CharlotteJames/ed-forecast/main/data/master_scaled_new.csv',\n",
    "                  index_col=0)"
   ]
  },
  {
   "cell_type": "code",
   "execution_count": 4,
   "id": "b1b9b403",
   "metadata": {},
   "outputs": [],
   "source": [
    "dta.columns = ['_'.join([c.split('/')[0],c.split('/')[-1]]) if '/' in c else c for c in dta.columns]"
   ]
  },
  {
   "cell_type": "code",
   "execution_count": 5,
   "id": "8848cf9e",
   "metadata": {},
   "outputs": [
    {
     "data": {
      "text/plain": [
       "(74,)"
      ]
     },
     "execution_count": 5,
     "metadata": {},
     "output_type": "execute_result"
    }
   ],
   "source": [
    "dta.ccg.unique().shape"
   ]
  },
  {
   "cell_type": "markdown",
   "id": "4207ddd0",
   "metadata": {},
   "source": [
    "## Add random feature"
   ]
  },
  {
   "cell_type": "code",
   "execution_count": 6,
   "id": "c84f0a47",
   "metadata": {},
   "outputs": [],
   "source": [
    "# Adding random features\n",
    "\n",
    "rng = np.random.RandomState(0)\n",
    "rand_var = rng.rand(dta.shape[0])\n",
    "dta['rand1'] = rand_var"
   ]
  },
  {
   "cell_type": "code",
   "execution_count": 7,
   "id": "4d1f8d3b",
   "metadata": {},
   "outputs": [
    {
     "data": {
      "text/plain": [
       "(1618, 14)"
      ]
     },
     "execution_count": 7,
     "metadata": {},
     "output_type": "execute_result"
    }
   ],
   "source": [
    "dta.shape"
   ]
  },
  {
   "cell_type": "markdown",
   "id": "b86a2d65",
   "metadata": {},
   "source": [
    "## Train test split "
   ]
  },
  {
   "cell_type": "code",
   "execution_count": 8,
   "id": "5830801d",
   "metadata": {},
   "outputs": [],
   "source": [
    "train, test = train_test_split(dta,random_state=29)"
   ]
  },
  {
   "cell_type": "code",
   "execution_count": 9,
   "id": "f7997421",
   "metadata": {},
   "outputs": [],
   "source": [
    "y_train = train['ae_attendances_attendances'].values\n",
    "X_train = train.drop(['ae_attendances_attendances','ccg','month'], axis=1)\n",
    "\n",
    "y_test = test['ae_attendances_attendances'].values\n",
    "X_test = test.drop(['ae_attendances_attendances','ccg','month'], axis=1)"
   ]
  },
  {
   "cell_type": "markdown",
   "id": "477c978a",
   "metadata": {},
   "source": [
    "## Model "
   ]
  },
  {
   "cell_type": "markdown",
   "id": "d164d77f",
   "metadata": {},
   "source": [
    "### Cross-validate "
   ]
  },
  {
   "cell_type": "code",
   "execution_count": 10,
   "id": "44be0319",
   "metadata": {},
   "outputs": [],
   "source": [
    "cv = RepeatedKFold(n_splits=5, n_repeats=5, random_state=1)\n",
    "    \n",
    "scores_train, scores_test = [],[]\n",
    "\n",
    "y = dta['ae_attendances_attendances']\n",
    "X = dta.drop(['ae_attendances_attendances','month', 'year'], axis=1)\n",
    "    \n",
    "for train_index, test_index in cv.split(X, y):\n",
    "    \n",
    "    model = MixedLM(endog=y.iloc[train_index].values, \n",
    "                    exog = X.iloc[train_index].drop(['ccg'],axis=1).values,\n",
    "                    groups=X.iloc[train_index].ccg.values)\n",
    "\n",
    "    ml_fit = model.fit()\n",
    "    \n",
    "    y_pred_test = model.predict(ml_fit.fe_params, \n",
    "                                 exog=X.iloc[test_index].drop(['ccg'],axis=1).values)\n",
    "    y_pred_train = model.predict(ml_fit.fe_params, \n",
    "                                  exog=X.iloc[train_index].drop(['ccg'],axis=1).values)\n",
    "    \n",
    "    scores_test.append(r2_score(y.iloc[test_index],y_pred_test))\n",
    "    scores_train.append(r2_score(y.iloc[train_index],y_pred_train))"
   ]
  },
  {
   "cell_type": "code",
   "execution_count": 11,
   "id": "bb1dae19",
   "metadata": {},
   "outputs": [
    {
     "data": {
      "text/html": [
       "<div>\n",
       "<style scoped>\n",
       "    .dataframe tbody tr th:only-of-type {\n",
       "        vertical-align: middle;\n",
       "    }\n",
       "\n",
       "    .dataframe tbody tr th {\n",
       "        vertical-align: top;\n",
       "    }\n",
       "\n",
       "    .dataframe thead th {\n",
       "        text-align: right;\n",
       "    }\n",
       "</style>\n",
       "<table border=\"1\" class=\"dataframe\">\n",
       "  <thead>\n",
       "    <tr style=\"text-align: right;\">\n",
       "      <th></th>\n",
       "      <th>test_score</th>\n",
       "      <th>train_score</th>\n",
       "    </tr>\n",
       "  </thead>\n",
       "  <tbody>\n",
       "    <tr>\n",
       "      <th>count</th>\n",
       "      <td>25.000000</td>\n",
       "      <td>25.000000</td>\n",
       "    </tr>\n",
       "    <tr>\n",
       "      <th>mean</th>\n",
       "      <td>0.092296</td>\n",
       "      <td>0.096086</td>\n",
       "    </tr>\n",
       "    <tr>\n",
       "      <th>std</th>\n",
       "      <td>0.052074</td>\n",
       "      <td>0.057714</td>\n",
       "    </tr>\n",
       "    <tr>\n",
       "      <th>min</th>\n",
       "      <td>-0.060924</td>\n",
       "      <td>-0.071581</td>\n",
       "    </tr>\n",
       "    <tr>\n",
       "      <th>25%</th>\n",
       "      <td>0.071561</td>\n",
       "      <td>0.082681</td>\n",
       "    </tr>\n",
       "    <tr>\n",
       "      <th>50%</th>\n",
       "      <td>0.099458</td>\n",
       "      <td>0.108742</td>\n",
       "    </tr>\n",
       "    <tr>\n",
       "      <th>75%</th>\n",
       "      <td>0.119344</td>\n",
       "      <td>0.126630</td>\n",
       "    </tr>\n",
       "    <tr>\n",
       "      <th>max</th>\n",
       "      <td>0.160848</td>\n",
       "      <td>0.188843</td>\n",
       "    </tr>\n",
       "  </tbody>\n",
       "</table>\n",
       "</div>"
      ],
      "text/plain": [
       "       test_score  train_score\n",
       "count   25.000000    25.000000\n",
       "mean     0.092296     0.096086\n",
       "std      0.052074     0.057714\n",
       "min     -0.060924    -0.071581\n",
       "25%      0.071561     0.082681\n",
       "50%      0.099458     0.108742\n",
       "75%      0.119344     0.126630\n",
       "max      0.160848     0.188843"
      ]
     },
     "execution_count": 11,
     "metadata": {},
     "output_type": "execute_result"
    }
   ],
   "source": [
    "res=pd.DataFrame()\n",
    "res['test_score'] = scores_test\n",
    "res['train_score'] = scores_train\n",
    "\n",
    "res.describe()"
   ]
  },
  {
   "cell_type": "markdown",
   "id": "407e9e01",
   "metadata": {},
   "source": [
    "### Coefficients "
   ]
  },
  {
   "cell_type": "code",
   "execution_count": 12,
   "id": "5bad048e",
   "metadata": {},
   "outputs": [],
   "source": [
    "model = MixedLM(endog=y, exog = X.drop(['ccg'],axis=1).values, \n",
    "                groups=X.ccg.values)\n",
    "\n",
    "\n",
    "ml_fit = model.fit()"
   ]
  },
  {
   "cell_type": "code",
   "execution_count": 13,
   "id": "dd8ffe90",
   "metadata": {},
   "outputs": [
    {
     "data": {
      "text/html": [
       "<table class=\"simpletable\">\n",
       "<tr>\n",
       "       <td>Model:</td>       <td>MixedLM</td> <td>Dependent Variable:</td> <td>ae_attendances_attendances</td>\n",
       "</tr>\n",
       "<tr>\n",
       "  <td>No. Observations:</td>  <td>1618</td>         <td>Method:</td>                  <td>REML</td>           \n",
       "</tr>\n",
       "<tr>\n",
       "     <td>No. Groups:</td>      <td>74</td>          <td>Scale:</td>                 <td>2285.2604</td>        \n",
       "</tr>\n",
       "<tr>\n",
       "  <td>Min. group size:</td>    <td>12</td>      <td>Log-Likelihood:</td>           <td>-8795.4714</td>        \n",
       "</tr>\n",
       "<tr>\n",
       "  <td>Max. group size:</td>    <td>24</td>        <td>Converged:</td>                  <td>Yes</td>           \n",
       "</tr>\n",
       "<tr>\n",
       "  <td>Mean group size:</td>   <td>21.9</td>            <td></td>                        <td></td>             \n",
       "</tr>\n",
       "</table>\n",
       "<table class=\"simpletable\">\n",
       "<tr>\n",
       "      <td></td>        <th>Coef.</th>   <th>Std.Err.</th>    <th>z</th>   <th>P>|z|</th> <th>[0.025</th> <th>0.975]</th>\n",
       "</tr>\n",
       "<tr>\n",
       "  <th>x1</th>          <td>0.348</td>     <td>0.069</td>   <td>5.059</td> <td>0.000</td>  <td>0.213</td>  <td>0.483</td>\n",
       "</tr>\n",
       "<tr>\n",
       "  <th>x2</th>         <td>-0.324</td>     <td>0.077</td>  <td>-4.190</td> <td>0.000</td> <td>-0.476</td> <td>-0.172</td>\n",
       "</tr>\n",
       "<tr>\n",
       "  <th>x3</th>         <td>-0.062</td>     <td>0.074</td>  <td>-0.838</td> <td>0.402</td> <td>-0.206</td>  <td>0.083</td>\n",
       "</tr>\n",
       "<tr>\n",
       "  <th>x4</th>          <td>0.086</td>     <td>0.100</td>   <td>0.863</td> <td>0.388</td> <td>-0.110</td>  <td>0.283</td>\n",
       "</tr>\n",
       "<tr>\n",
       "  <th>x5</th>          <td>0.014</td>     <td>0.002</td>   <td>5.805</td> <td>0.000</td>  <td>0.009</td>  <td>0.019</td>\n",
       "</tr>\n",
       "<tr>\n",
       "  <th>x6</th>         <td>-1.392</td>     <td>0.641</td>  <td>-2.170</td> <td>0.030</td> <td>-2.649</td> <td>-0.135</td>\n",
       "</tr>\n",
       "<tr>\n",
       "  <th>x7</th>         <td>-5.477</td>     <td>1.295</td>  <td>-4.231</td> <td>0.000</td> <td>-8.014</td> <td>-2.940</td>\n",
       "</tr>\n",
       "<tr>\n",
       "  <th>x8</th>          <td>4.230</td>     <td>2.723</td>   <td>1.554</td> <td>0.120</td> <td>-1.107</td>  <td>9.566</td>\n",
       "</tr>\n",
       "<tr>\n",
       "  <th>x9</th>          <td>5.912</td>     <td>2.998</td>   <td>1.972</td> <td>0.049</td>  <td>0.037</td> <td>11.787</td>\n",
       "</tr>\n",
       "<tr>\n",
       "  <th>x10</th>         <td>6.558</td>     <td>4.167</td>   <td>1.574</td> <td>0.116</td> <td>-1.609</td> <td>14.724</td>\n",
       "</tr>\n",
       "<tr>\n",
       "  <th>Group Var</th> <td>67340.324</td>  <td>262.242</td>    <td></td>      <td></td>       <td></td>       <td></td>   \n",
       "</tr>\n",
       "</table>"
      ],
      "text/plain": [
       "<class 'statsmodels.iolib.summary2.Summary'>\n",
       "\"\"\"\n",
       "                 Mixed Linear Model Regression Results\n",
       "========================================================================\n",
       "Model:            MixedLM Dependent Variable: ae_attendances_attendances\n",
       "No. Observations: 1618    Method:             REML                      \n",
       "No. Groups:       74      Scale:              2285.2604                 \n",
       "Min. group size:  12      Log-Likelihood:     -8795.4714                \n",
       "Max. group size:  24      Converged:          Yes                       \n",
       "Mean group size:  21.9                                                  \n",
       "---------------------------------------------------------------------------\n",
       "                 Coef.      Std.Err.      z       P>|z|    [0.025    0.975]\n",
       "---------------------------------------------------------------------------\n",
       "x1                 0.348       0.069     5.059    0.000     0.213     0.483\n",
       "x2                -0.324       0.077    -4.190    0.000    -0.476    -0.172\n",
       "x3                -0.062       0.074    -0.838    0.402    -0.206     0.083\n",
       "x4                 0.086       0.100     0.863    0.388    -0.110     0.283\n",
       "x5                 0.014       0.002     5.805    0.000     0.009     0.019\n",
       "x6                -1.392       0.641    -2.170    0.030    -2.649    -0.135\n",
       "x7                -5.477       1.295    -4.231    0.000    -8.014    -2.940\n",
       "x8                 4.230       2.723     1.554    0.120    -1.107     9.566\n",
       "x9                 5.912       2.998     1.972    0.049     0.037    11.787\n",
       "x10                6.558       4.167     1.574    0.116    -1.609    14.724\n",
       "Group Var      67340.324     262.242                                       \n",
       "========================================================================\n",
       "\n",
       "\"\"\""
      ]
     },
     "execution_count": 13,
     "metadata": {},
     "output_type": "execute_result"
    }
   ],
   "source": [
    "ml_fit.summary()"
   ]
  },
  {
   "cell_type": "markdown",
   "id": "5f0b7cd7",
   "metadata": {},
   "source": [
    "### Residuals "
   ]
  },
  {
   "cell_type": "code",
   "execution_count": 14,
   "id": "500104c6",
   "metadata": {},
   "outputs": [
    {
     "data": {
      "image/png": "[encoded data removed]",
      "text/plain": [
       "<Figure size 576x360 with 1 Axes>"
      ]
     },
     "metadata": {
      "filenames": {
       "image/png": "/Users/cj9491/Documents/CCG/ae_forecast/git/ed-forecast/pages/_build/jupyter_execute/multi_level_model_21_0.png"
      },
      "needs_background": "light"
     },
     "output_type": "display_data"
    }
   ],
   "source": [
    "fig = plt.figure(figsize = (8, 5))\n",
    "\n",
    "\n",
    "ax = sns.distplot(ml_fit.resid, hist = False, kde_kws = {\"shade\" : True, \"lw\": 1}, fit = stats.norm)\n",
    "\n",
    "ax.set_title(\"KDE Plot of Model Residuals (Blue) and Normal Distribution (Black)\")\n",
    "ax.set_xlabel(\"Residuals\")\n",
    "plt.show()"
   ]
  },
  {
   "cell_type": "markdown",
   "id": "4fbf4df2",
   "metadata": {},
   "source": [
    "### Q-Q Plot "
   ]
  },
  {
   "cell_type": "code",
   "execution_count": 15,
   "id": "d6e4537c",
   "metadata": {},
   "outputs": [
    {
     "data": {
      "image/png": "[encoded data removed]",
      "text/plain": [
       "<Figure size 576x360 with 1 Axes>"
      ]
     },
     "metadata": {
      "filenames": {
       "image/png": "/Users/cj9491/Documents/CCG/ae_forecast/git/ed-forecast/pages/_build/jupyter_execute/multi_level_model_23_0.png"
      },
      "needs_background": "light"
     },
     "output_type": "display_data"
    }
   ],
   "source": [
    "fig = plt.figure(figsize = (8, 5))\n",
    "ax = fig.add_subplot(111)\n",
    "\n",
    "sm.qqplot(ml_fit.resid, dist = stats.norm, line = 's', ax = ax)\n",
    "\n",
    "ax.set_title(\"Q-Q Plot\")\n",
    "\n",
    "plt.show()"
   ]
  },
  {
   "cell_type": "markdown",
   "id": "91904434",
   "metadata": {},
   "source": [
    "### Residuals by CCG "
   ]
  },
  {
   "cell_type": "code",
   "execution_count": 16,
   "id": "a9aa1a30",
   "metadata": {},
   "outputs": [
    {
     "data": {
      "image/png": "[encoded data removed]",
      "text/plain": [
       "<Figure size 1080x360 with 1 Axes>"
      ]
     },
     "metadata": {
      "filenames": {
       "image/png": "/Users/cj9491/Documents/CCG/ae_forecast/git/ed-forecast/pages/_build/jupyter_execute/multi_level_model_25_0.png"
      },
      "needs_background": "light"
     },
     "output_type": "display_data"
    }
   ],
   "source": [
    "fig = plt.figure(figsize = (15, 5))\n",
    "\n",
    "ax = sns.boxplot(x = ml_fit.model.groups, y = ml_fit.resid)\n",
    "\n",
    "ax.set_title(\"Distribution of Residuals for ED attendances by CCG \")\n",
    "ax.set_ylabel(\"Residuals\", fontsize=12)\n",
    "ax.set_xlabel(\"CCG\", fontsize=12)\n",
    "plt.xticks(rotation=70)\n",
    "plt.show()"
   ]
  },
  {
   "cell_type": "code",
   "execution_count": null,
   "id": "4f72557c",
   "metadata": {},
   "outputs": [],
   "source": []
  }
 ],
 "metadata": {
  "kernelspec": {
   "display_name": "Python 3 (ipykernel)",
   "language": "python",
   "name": "python3"
  },
  "language_info": {
   "codemirror_mode": {
    "name": "ipython",
    "version": 3
   },
   "file_extension": ".py",
   "mimetype": "text/x-python",
   "name": "python",
   "nbconvert_exporter": "python",
   "pygments_lexer": "ipython3",
   "version": "3.9.12"
  }
 },
 "nbformat": 4,
 "nbformat_minor": 5
}