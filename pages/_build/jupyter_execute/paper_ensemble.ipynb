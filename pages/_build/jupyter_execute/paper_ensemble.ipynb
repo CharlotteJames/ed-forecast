{
 "cells": [
  {
   "cell_type": "markdown",
   "id": "787816c8",
   "metadata": {},
   "source": [
    "# Tree-based models "
   ]
  },
  {
   "cell_type": "markdown",
   "id": "6bbda47d",
   "metadata": {},
   "source": [
    "## Overview "
   ]
  },
  {
   "cell_type": "markdown",
   "id": "5d0df2b5",
   "metadata": {},
   "source": [
    "This notebook contains an initial exploration of tree-based regressions to predict monthly ED demand. \n",
    "\n",
    "As the variables population, people, places and lives only vary annually they cannot be included in the model due to data leakage between the training and test sets.\n",
    "\n",
    "For all models, variables used include:\n",
    "\n",
    "- Service capacity (111, GP, Ambulance)\n",
    "- Service utility (111, Ambulance)"
   ]
  },
  {
   "cell_type": "code",
   "execution_count": 1,
   "id": "4cec45c7",
   "metadata": {},
   "outputs": [],
   "source": [
    "#turn warnings off to keep notebook tidy\n",
    "import warnings\n",
    "warnings.filterwarnings('ignore')"
   ]
  },
  {
   "cell_type": "markdown",
   "id": "e5f293e5",
   "metadata": {},
   "source": [
    "## Import libraries "
   ]
  },
  {
   "cell_type": "code",
   "execution_count": 2,
   "id": "51bc0659",
   "metadata": {},
   "outputs": [],
   "source": [
    "import os\n",
    "import pandas as pd\n",
    "import numpy as np\n",
    "\n",
    "from sklearn.ensemble import RandomForestRegressor\n",
    "from sklearn.ensemble import ExtraTreesRegressor\n",
    "from sklearn.ensemble import GradientBoostingRegressor\n",
    "from sklearn.ensemble import AdaBoostRegressor\n",
    "\n",
    "from sklearn.model_selection import train_test_split\n",
    "from sklearn.pipeline import make_pipeline\n",
    "from sklearn.preprocessing import StandardScaler\n",
    "\n",
    "from sklearn.model_selection import cross_validate\n",
    "from sklearn.model_selection import RepeatedKFold"
   ]
  },
  {
   "cell_type": "markdown",
   "id": "a24d85cb",
   "metadata": {},
   "source": [
    "## Import data "
   ]
  },
  {
   "cell_type": "code",
   "execution_count": 3,
   "id": "13122672",
   "metadata": {},
   "outputs": [],
   "source": [
    "dta = pd.read_csv('https://raw.githubusercontent.com/CharlotteJames/ed-forecast/main/data/master_scaled.csv',\n",
    "                  index_col=0)"
   ]
  },
  {
   "cell_type": "code",
   "execution_count": 4,
   "id": "e369d537",
   "metadata": {},
   "outputs": [],
   "source": [
    "dta.columns = ['_'.join([c.split('/')[0],c.split('/')[-1]]) \n",
    "               if '/' in c else c for c in dta.columns]"
   ]
  },
  {
   "cell_type": "code",
   "execution_count": 5,
   "id": "88dee7c6",
   "metadata": {},
   "outputs": [
    {
     "data": {
      "text/plain": [
       "(73,)"
      ]
     },
     "execution_count": 5,
     "metadata": {},
     "output_type": "execute_result"
    }
   ],
   "source": [
    "dta.ccg.unique().shape"
   ]
  },
  {
   "cell_type": "markdown",
   "id": "da5c5db3",
   "metadata": {},
   "source": [
    "## Add random feature"
   ]
  },
  {
   "cell_type": "code",
   "execution_count": 6,
   "id": "5e6e0891",
   "metadata": {},
   "outputs": [],
   "source": [
    "# Adding random features\n",
    "\n",
    "rng = np.random.RandomState(0)\n",
    "rand_var = rng.rand(dta.shape[0])\n",
    "dta['rand1'] = rand_var"
   ]
  },
  {
   "cell_type": "code",
   "execution_count": 7,
   "id": "2c6771f6",
   "metadata": {},
   "outputs": [
    {
     "data": {
      "text/plain": [
       "(1465, 14)"
      ]
     },
     "execution_count": 7,
     "metadata": {},
     "output_type": "execute_result"
    }
   ],
   "source": [
    "dta.shape"
   ]
  },
  {
   "cell_type": "markdown",
   "id": "086bd910",
   "metadata": {},
   "source": [
    "## Fitting function "
   ]
  },
  {
   "cell_type": "code",
   "execution_count": 8,
   "id": "0ed191f9",
   "metadata": {},
   "outputs": [],
   "source": [
    "def fit_model(dta, model, features):\n",
    "    \n",
    "    \n",
    "    y = dta['ae_attendances_attendances']\n",
    "    X = dta[features]\n",
    "    \n",
    "    #cross validate to get errors on performance and coefficients\n",
    "    cv_model = cross_validate(model, X,y, \n",
    "                            cv=RepeatedKFold(n_splits=5, n_repeats=5,\n",
    "                                             random_state=0),\n",
    "                            return_estimator=True, \n",
    "                              return_train_score=True, n_jobs=2)\n",
    "    \n",
    "    clf = model.fit(X, y)\n",
    "\n",
    "    \n",
    "    return cv_model"
   ]
  },
  {
   "cell_type": "markdown",
   "id": "10cd6889",
   "metadata": {},
   "source": [
    "## Model Comparison"
   ]
  },
  {
   "cell_type": "markdown",
   "id": "7c430008",
   "metadata": {},
   "source": [
    "### Random Forest "
   ]
  },
  {
   "cell_type": "code",
   "execution_count": 9,
   "id": "5f9767f3",
   "metadata": {},
   "outputs": [],
   "source": [
    "model = RandomForestRegressor()\n",
    "\n",
    "features = ['gp_appt_available',\n",
    "            '111_111_offered', 'amb_sys_answered',\n",
    "            '111_111_answered', 'amb_sys_made']\n",
    "\n",
    "results = fit_model(dta,model,features)"
   ]
  },
  {
   "cell_type": "markdown",
   "id": "68304274",
   "metadata": {},
   "source": [
    "#### Performance "
   ]
  },
  {
   "cell_type": "code",
   "execution_count": 10,
   "id": "bd7b6287",
   "metadata": {},
   "outputs": [
    {
     "data": {
      "text/html": [
       "<div>\n",
       "<style scoped>\n",
       "    .dataframe tbody tr th:only-of-type {\n",
       "        vertical-align: middle;\n",
       "    }\n",
       "\n",
       "    .dataframe tbody tr th {\n",
       "        vertical-align: top;\n",
       "    }\n",
       "\n",
       "    .dataframe thead th {\n",
       "        text-align: right;\n",
       "    }\n",
       "</style>\n",
       "<table border=\"1\" class=\"dataframe\">\n",
       "  <thead>\n",
       "    <tr style=\"text-align: right;\">\n",
       "      <th></th>\n",
       "      <th>test_score</th>\n",
       "      <th>train_score</th>\n",
       "    </tr>\n",
       "  </thead>\n",
       "  <tbody>\n",
       "    <tr>\n",
       "      <th>count</th>\n",
       "      <td>25.000000</td>\n",
       "      <td>25.000000</td>\n",
       "    </tr>\n",
       "    <tr>\n",
       "      <th>mean</th>\n",
       "      <td>0.326184</td>\n",
       "      <td>0.907640</td>\n",
       "    </tr>\n",
       "    <tr>\n",
       "      <th>std</th>\n",
       "      <td>0.068479</td>\n",
       "      <td>0.002856</td>\n",
       "    </tr>\n",
       "    <tr>\n",
       "      <th>min</th>\n",
       "      <td>0.194189</td>\n",
       "      <td>0.900626</td>\n",
       "    </tr>\n",
       "    <tr>\n",
       "      <th>25%</th>\n",
       "      <td>0.295525</td>\n",
       "      <td>0.906455</td>\n",
       "    </tr>\n",
       "    <tr>\n",
       "      <th>50%</th>\n",
       "      <td>0.315230</td>\n",
       "      <td>0.907682</td>\n",
       "    </tr>\n",
       "    <tr>\n",
       "      <th>75%</th>\n",
       "      <td>0.376244</td>\n",
       "      <td>0.909432</td>\n",
       "    </tr>\n",
       "    <tr>\n",
       "      <th>max</th>\n",
       "      <td>0.433520</td>\n",
       "      <td>0.912927</td>\n",
       "    </tr>\n",
       "  </tbody>\n",
       "</table>\n",
       "</div>"
      ],
      "text/plain": [
       "       test_score  train_score\n",
       "count   25.000000    25.000000\n",
       "mean     0.326184     0.907640\n",
       "std      0.068479     0.002856\n",
       "min      0.194189     0.900626\n",
       "25%      0.295525     0.906455\n",
       "50%      0.315230     0.907682\n",
       "75%      0.376244     0.909432\n",
       "max      0.433520     0.912927"
      ]
     },
     "execution_count": 10,
     "metadata": {},
     "output_type": "execute_result"
    }
   ],
   "source": [
    "res=pd.DataFrame()\n",
    "res['test_score'] = results['test_score']\n",
    "res['train_score'] = results['train_score']\n",
    "\n",
    "res.describe()"
   ]
  },
  {
   "cell_type": "markdown",
   "id": "f5cfe75d",
   "metadata": {},
   "source": [
    "#### Coefficients "
   ]
  },
  {
   "cell_type": "code",
   "execution_count": 11,
   "id": "3dda1441",
   "metadata": {},
   "outputs": [
    {
     "data": {
      "text/html": [
       "<div>\n",
       "<style scoped>\n",
       "    .dataframe tbody tr th:only-of-type {\n",
       "        vertical-align: middle;\n",
       "    }\n",
       "\n",
       "    .dataframe tbody tr th {\n",
       "        vertical-align: top;\n",
       "    }\n",
       "\n",
       "    .dataframe thead th {\n",
       "        text-align: right;\n",
       "    }\n",
       "</style>\n",
       "<table border=\"1\" class=\"dataframe\">\n",
       "  <thead>\n",
       "    <tr style=\"text-align: right;\">\n",
       "      <th></th>\n",
       "      <th>gp_appt_available</th>\n",
       "      <th>111_111_offered</th>\n",
       "      <th>amb_sys_answered</th>\n",
       "      <th>111_111_answered</th>\n",
       "      <th>amb_sys_made</th>\n",
       "    </tr>\n",
       "  </thead>\n",
       "  <tbody>\n",
       "    <tr>\n",
       "      <th>count</th>\n",
       "      <td>25.000000</td>\n",
       "      <td>25.000000</td>\n",
       "      <td>25.000000</td>\n",
       "      <td>25.000000</td>\n",
       "      <td>25.000000</td>\n",
       "    </tr>\n",
       "    <tr>\n",
       "      <th>mean</th>\n",
       "      <td>0.364870</td>\n",
       "      <td>0.169619</td>\n",
       "      <td>0.198314</td>\n",
       "      <td>0.089594</td>\n",
       "      <td>0.177603</td>\n",
       "    </tr>\n",
       "    <tr>\n",
       "      <th>std</th>\n",
       "      <td>0.009283</td>\n",
       "      <td>0.025945</td>\n",
       "      <td>0.018218</td>\n",
       "      <td>0.003523</td>\n",
       "      <td>0.020872</td>\n",
       "    </tr>\n",
       "    <tr>\n",
       "      <th>min</th>\n",
       "      <td>0.343782</td>\n",
       "      <td>0.115615</td>\n",
       "      <td>0.168171</td>\n",
       "      <td>0.082301</td>\n",
       "      <td>0.137226</td>\n",
       "    </tr>\n",
       "    <tr>\n",
       "      <th>25%</th>\n",
       "      <td>0.361617</td>\n",
       "      <td>0.154869</td>\n",
       "      <td>0.185078</td>\n",
       "      <td>0.086145</td>\n",
       "      <td>0.166208</td>\n",
       "    </tr>\n",
       "    <tr>\n",
       "      <th>50%</th>\n",
       "      <td>0.363937</td>\n",
       "      <td>0.170291</td>\n",
       "      <td>0.202741</td>\n",
       "      <td>0.089720</td>\n",
       "      <td>0.174057</td>\n",
       "    </tr>\n",
       "    <tr>\n",
       "      <th>75%</th>\n",
       "      <td>0.371125</td>\n",
       "      <td>0.190763</td>\n",
       "      <td>0.209951</td>\n",
       "      <td>0.092489</td>\n",
       "      <td>0.181188</td>\n",
       "    </tr>\n",
       "    <tr>\n",
       "      <th>max</th>\n",
       "      <td>0.382143</td>\n",
       "      <td>0.210950</td>\n",
       "      <td>0.238635</td>\n",
       "      <td>0.094948</td>\n",
       "      <td>0.222010</td>\n",
       "    </tr>\n",
       "  </tbody>\n",
       "</table>\n",
       "</div>"
      ],
      "text/plain": [
       "       gp_appt_available  111_111_offered  amb_sys_answered  111_111_answered  \\\n",
       "count          25.000000        25.000000         25.000000         25.000000   \n",
       "mean            0.364870         0.169619          0.198314          0.089594   \n",
       "std             0.009283         0.025945          0.018218          0.003523   \n",
       "min             0.343782         0.115615          0.168171          0.082301   \n",
       "25%             0.361617         0.154869          0.185078          0.086145   \n",
       "50%             0.363937         0.170291          0.202741          0.089720   \n",
       "75%             0.371125         0.190763          0.209951          0.092489   \n",
       "max             0.382143         0.210950          0.238635          0.094948   \n",
       "\n",
       "       amb_sys_made  \n",
       "count     25.000000  \n",
       "mean       0.177603  \n",
       "std        0.020872  \n",
       "min        0.137226  \n",
       "25%        0.166208  \n",
       "50%        0.174057  \n",
       "75%        0.181188  \n",
       "max        0.222010  "
      ]
     },
     "execution_count": 11,
     "metadata": {},
     "output_type": "execute_result"
    }
   ],
   "source": [
    "coefs = pd.DataFrame(\n",
    "   [model.feature_importances_\n",
    "    for model in results['estimator']],\n",
    "   columns=features\n",
    ")\n",
    "\n",
    "coefs.describe()"
   ]
  },
  {
   "cell_type": "markdown",
   "id": "a37aab65",
   "metadata": {},
   "source": [
    "### Extra Trees"
   ]
  },
  {
   "cell_type": "code",
   "execution_count": 12,
   "id": "d9a33ec4",
   "metadata": {},
   "outputs": [],
   "source": [
    "model = ExtraTreesRegressor()\n",
    "\n",
    "features = ['gp_appt_available',\n",
    "            '111_111_offered', 'amb_sys_answered',\n",
    "            '111_111_answered', 'amb_sys_made']\n",
    "\n",
    "results = fit_model(dta,model,features)"
   ]
  },
  {
   "cell_type": "markdown",
   "id": "258acfe0",
   "metadata": {},
   "source": [
    "#### Performance "
   ]
  },
  {
   "cell_type": "code",
   "execution_count": 13,
   "id": "f17775bf",
   "metadata": {},
   "outputs": [
    {
     "data": {
      "text/html": [
       "<div>\n",
       "<style scoped>\n",
       "    .dataframe tbody tr th:only-of-type {\n",
       "        vertical-align: middle;\n",
       "    }\n",
       "\n",
       "    .dataframe tbody tr th {\n",
       "        vertical-align: top;\n",
       "    }\n",
       "\n",
       "    .dataframe thead th {\n",
       "        text-align: right;\n",
       "    }\n",
       "</style>\n",
       "<table border=\"1\" class=\"dataframe\">\n",
       "  <thead>\n",
       "    <tr style=\"text-align: right;\">\n",
       "      <th></th>\n",
       "      <th>test_score</th>\n",
       "      <th>train_score</th>\n",
       "    </tr>\n",
       "  </thead>\n",
       "  <tbody>\n",
       "    <tr>\n",
       "      <th>count</th>\n",
       "      <td>25.000000</td>\n",
       "      <td>25.0</td>\n",
       "    </tr>\n",
       "    <tr>\n",
       "      <th>mean</th>\n",
       "      <td>0.182416</td>\n",
       "      <td>1.0</td>\n",
       "    </tr>\n",
       "    <tr>\n",
       "      <th>std</th>\n",
       "      <td>0.089688</td>\n",
       "      <td>0.0</td>\n",
       "    </tr>\n",
       "    <tr>\n",
       "      <th>min</th>\n",
       "      <td>-0.021004</td>\n",
       "      <td>1.0</td>\n",
       "    </tr>\n",
       "    <tr>\n",
       "      <th>25%</th>\n",
       "      <td>0.135715</td>\n",
       "      <td>1.0</td>\n",
       "    </tr>\n",
       "    <tr>\n",
       "      <th>50%</th>\n",
       "      <td>0.183127</td>\n",
       "      <td>1.0</td>\n",
       "    </tr>\n",
       "    <tr>\n",
       "      <th>75%</th>\n",
       "      <td>0.253164</td>\n",
       "      <td>1.0</td>\n",
       "    </tr>\n",
       "    <tr>\n",
       "      <th>max</th>\n",
       "      <td>0.326425</td>\n",
       "      <td>1.0</td>\n",
       "    </tr>\n",
       "  </tbody>\n",
       "</table>\n",
       "</div>"
      ],
      "text/plain": [
       "       test_score  train_score\n",
       "count   25.000000         25.0\n",
       "mean     0.182416          1.0\n",
       "std      0.089688          0.0\n",
       "min     -0.021004          1.0\n",
       "25%      0.135715          1.0\n",
       "50%      0.183127          1.0\n",
       "75%      0.253164          1.0\n",
       "max      0.326425          1.0"
      ]
     },
     "execution_count": 13,
     "metadata": {},
     "output_type": "execute_result"
    }
   ],
   "source": [
    "res=pd.DataFrame()\n",
    "res['test_score'] = results['test_score']\n",
    "res['train_score'] = results['train_score']\n",
    "\n",
    "res.describe()"
   ]
  },
  {
   "cell_type": "markdown",
   "id": "42428027",
   "metadata": {},
   "source": [
    "#### Coefficients "
   ]
  },
  {
   "cell_type": "code",
   "execution_count": 14,
   "id": "bbac3926",
   "metadata": {},
   "outputs": [
    {
     "data": {
      "text/html": [
       "<div>\n",
       "<style scoped>\n",
       "    .dataframe tbody tr th:only-of-type {\n",
       "        vertical-align: middle;\n",
       "    }\n",
       "\n",
       "    .dataframe tbody tr th {\n",
       "        vertical-align: top;\n",
       "    }\n",
       "\n",
       "    .dataframe thead th {\n",
       "        text-align: right;\n",
       "    }\n",
       "</style>\n",
       "<table border=\"1\" class=\"dataframe\">\n",
       "  <thead>\n",
       "    <tr style=\"text-align: right;\">\n",
       "      <th></th>\n",
       "      <th>gp_appt_available</th>\n",
       "      <th>111_111_offered</th>\n",
       "      <th>amb_sys_answered</th>\n",
       "      <th>111_111_answered</th>\n",
       "      <th>amb_sys_made</th>\n",
       "    </tr>\n",
       "  </thead>\n",
       "  <tbody>\n",
       "    <tr>\n",
       "      <th>count</th>\n",
       "      <td>25.000000</td>\n",
       "      <td>25.000000</td>\n",
       "      <td>25.000000</td>\n",
       "      <td>25.000000</td>\n",
       "      <td>25.000000</td>\n",
       "    </tr>\n",
       "    <tr>\n",
       "      <th>mean</th>\n",
       "      <td>0.401046</td>\n",
       "      <td>0.110987</td>\n",
       "      <td>0.201610</td>\n",
       "      <td>0.084824</td>\n",
       "      <td>0.201533</td>\n",
       "    </tr>\n",
       "    <tr>\n",
       "      <th>std</th>\n",
       "      <td>0.010850</td>\n",
       "      <td>0.006910</td>\n",
       "      <td>0.007992</td>\n",
       "      <td>0.002776</td>\n",
       "      <td>0.007109</td>\n",
       "    </tr>\n",
       "    <tr>\n",
       "      <th>min</th>\n",
       "      <td>0.381822</td>\n",
       "      <td>0.101835</td>\n",
       "      <td>0.178142</td>\n",
       "      <td>0.081146</td>\n",
       "      <td>0.188806</td>\n",
       "    </tr>\n",
       "    <tr>\n",
       "      <th>25%</th>\n",
       "      <td>0.391383</td>\n",
       "      <td>0.106430</td>\n",
       "      <td>0.198509</td>\n",
       "      <td>0.082401</td>\n",
       "      <td>0.196518</td>\n",
       "    </tr>\n",
       "    <tr>\n",
       "      <th>50%</th>\n",
       "      <td>0.400020</td>\n",
       "      <td>0.108840</td>\n",
       "      <td>0.202160</td>\n",
       "      <td>0.084573</td>\n",
       "      <td>0.201068</td>\n",
       "    </tr>\n",
       "    <tr>\n",
       "      <th>75%</th>\n",
       "      <td>0.406894</td>\n",
       "      <td>0.113750</td>\n",
       "      <td>0.204329</td>\n",
       "      <td>0.086932</td>\n",
       "      <td>0.207399</td>\n",
       "    </tr>\n",
       "    <tr>\n",
       "      <th>max</th>\n",
       "      <td>0.418465</td>\n",
       "      <td>0.130209</td>\n",
       "      <td>0.218215</td>\n",
       "      <td>0.091477</td>\n",
       "      <td>0.217875</td>\n",
       "    </tr>\n",
       "  </tbody>\n",
       "</table>\n",
       "</div>"
      ],
      "text/plain": [
       "       gp_appt_available  111_111_offered  amb_sys_answered  111_111_answered  \\\n",
       "count          25.000000        25.000000         25.000000         25.000000   \n",
       "mean            0.401046         0.110987          0.201610          0.084824   \n",
       "std             0.010850         0.006910          0.007992          0.002776   \n",
       "min             0.381822         0.101835          0.178142          0.081146   \n",
       "25%             0.391383         0.106430          0.198509          0.082401   \n",
       "50%             0.400020         0.108840          0.202160          0.084573   \n",
       "75%             0.406894         0.113750          0.204329          0.086932   \n",
       "max             0.418465         0.130209          0.218215          0.091477   \n",
       "\n",
       "       amb_sys_made  \n",
       "count     25.000000  \n",
       "mean       0.201533  \n",
       "std        0.007109  \n",
       "min        0.188806  \n",
       "25%        0.196518  \n",
       "50%        0.201068  \n",
       "75%        0.207399  \n",
       "max        0.217875  "
      ]
     },
     "execution_count": 14,
     "metadata": {},
     "output_type": "execute_result"
    }
   ],
   "source": [
    "coefs = pd.DataFrame(\n",
    "   [model.feature_importances_\n",
    "    for model in results['estimator']],\n",
    "   columns=features\n",
    ")\n",
    "\n",
    "coefs.describe()"
   ]
  },
  {
   "cell_type": "markdown",
   "id": "7ca744b4",
   "metadata": {},
   "source": [
    "### Gradient Boosted Trees"
   ]
  },
  {
   "cell_type": "code",
   "execution_count": 15,
   "id": "9684c5d1",
   "metadata": {},
   "outputs": [],
   "source": [
    "model = GradientBoostingRegressor()\n",
    "\n",
    "features = ['gp_appt_available',\n",
    "            '111_111_offered', 'amb_sys_answered',\n",
    "            '111_111_answered', 'amb_sys_made']\n",
    "\n",
    "results = fit_model(dta,model,features)"
   ]
  },
  {
   "cell_type": "markdown",
   "id": "d1c01a3a",
   "metadata": {},
   "source": [
    "#### Performance "
   ]
  },
  {
   "cell_type": "code",
   "execution_count": 16,
   "id": "8e6e1159",
   "metadata": {},
   "outputs": [
    {
     "data": {
      "text/html": [
       "<div>\n",
       "<style scoped>\n",
       "    .dataframe tbody tr th:only-of-type {\n",
       "        vertical-align: middle;\n",
       "    }\n",
       "\n",
       "    .dataframe tbody tr th {\n",
       "        vertical-align: top;\n",
       "    }\n",
       "\n",
       "    .dataframe thead th {\n",
       "        text-align: right;\n",
       "    }\n",
       "</style>\n",
       "<table border=\"1\" class=\"dataframe\">\n",
       "  <thead>\n",
       "    <tr style=\"text-align: right;\">\n",
       "      <th></th>\n",
       "      <th>test_score</th>\n",
       "      <th>train_score</th>\n",
       "    </tr>\n",
       "  </thead>\n",
       "  <tbody>\n",
       "    <tr>\n",
       "      <th>count</th>\n",
       "      <td>25.000000</td>\n",
       "      <td>25.000000</td>\n",
       "    </tr>\n",
       "    <tr>\n",
       "      <th>mean</th>\n",
       "      <td>0.416243</td>\n",
       "      <td>0.575241</td>\n",
       "    </tr>\n",
       "    <tr>\n",
       "      <th>std</th>\n",
       "      <td>0.040360</td>\n",
       "      <td>0.009842</td>\n",
       "    </tr>\n",
       "    <tr>\n",
       "      <th>min</th>\n",
       "      <td>0.349189</td>\n",
       "      <td>0.552126</td>\n",
       "    </tr>\n",
       "    <tr>\n",
       "      <th>25%</th>\n",
       "      <td>0.389002</td>\n",
       "      <td>0.569903</td>\n",
       "    </tr>\n",
       "    <tr>\n",
       "      <th>50%</th>\n",
       "      <td>0.415058</td>\n",
       "      <td>0.577257</td>\n",
       "    </tr>\n",
       "    <tr>\n",
       "      <th>75%</th>\n",
       "      <td>0.435761</td>\n",
       "      <td>0.581159</td>\n",
       "    </tr>\n",
       "    <tr>\n",
       "      <th>max</th>\n",
       "      <td>0.492157</td>\n",
       "      <td>0.594571</td>\n",
       "    </tr>\n",
       "  </tbody>\n",
       "</table>\n",
       "</div>"
      ],
      "text/plain": [
       "       test_score  train_score\n",
       "count   25.000000    25.000000\n",
       "mean     0.416243     0.575241\n",
       "std      0.040360     0.009842\n",
       "min      0.349189     0.552126\n",
       "25%      0.389002     0.569903\n",
       "50%      0.415058     0.577257\n",
       "75%      0.435761     0.581159\n",
       "max      0.492157     0.594571"
      ]
     },
     "execution_count": 16,
     "metadata": {},
     "output_type": "execute_result"
    }
   ],
   "source": [
    "res=pd.DataFrame()\n",
    "res['test_score'] = results['test_score']\n",
    "res['train_score'] = results['train_score']\n",
    "\n",
    "res.describe()"
   ]
  },
  {
   "cell_type": "markdown",
   "id": "e42f0d91",
   "metadata": {},
   "source": [
    "#### Coefficients "
   ]
  },
  {
   "cell_type": "code",
   "execution_count": 17,
   "id": "b40a469f",
   "metadata": {},
   "outputs": [
    {
     "data": {
      "text/html": [
       "<div>\n",
       "<style scoped>\n",
       "    .dataframe tbody tr th:only-of-type {\n",
       "        vertical-align: middle;\n",
       "    }\n",
       "\n",
       "    .dataframe tbody tr th {\n",
       "        vertical-align: top;\n",
       "    }\n",
       "\n",
       "    .dataframe thead th {\n",
       "        text-align: right;\n",
       "    }\n",
       "</style>\n",
       "<table border=\"1\" class=\"dataframe\">\n",
       "  <thead>\n",
       "    <tr style=\"text-align: right;\">\n",
       "      <th></th>\n",
       "      <th>gp_appt_available</th>\n",
       "      <th>111_111_offered</th>\n",
       "      <th>amb_sys_answered</th>\n",
       "      <th>111_111_answered</th>\n",
       "      <th>amb_sys_made</th>\n",
       "    </tr>\n",
       "  </thead>\n",
       "  <tbody>\n",
       "    <tr>\n",
       "      <th>count</th>\n",
       "      <td>25.000000</td>\n",
       "      <td>25.000000</td>\n",
       "      <td>25.000000</td>\n",
       "      <td>25.000000</td>\n",
       "      <td>25.000000</td>\n",
       "    </tr>\n",
       "    <tr>\n",
       "      <th>mean</th>\n",
       "      <td>0.194463</td>\n",
       "      <td>0.244419</td>\n",
       "      <td>0.337852</td>\n",
       "      <td>0.051804</td>\n",
       "      <td>0.171462</td>\n",
       "    </tr>\n",
       "    <tr>\n",
       "      <th>std</th>\n",
       "      <td>0.016576</td>\n",
       "      <td>0.063612</td>\n",
       "      <td>0.036182</td>\n",
       "      <td>0.009274</td>\n",
       "      <td>0.061353</td>\n",
       "    </tr>\n",
       "    <tr>\n",
       "      <th>min</th>\n",
       "      <td>0.151994</td>\n",
       "      <td>0.121871</td>\n",
       "      <td>0.252115</td>\n",
       "      <td>0.035434</td>\n",
       "      <td>0.092215</td>\n",
       "    </tr>\n",
       "    <tr>\n",
       "      <th>25%</th>\n",
       "      <td>0.182030</td>\n",
       "      <td>0.189238</td>\n",
       "      <td>0.313259</td>\n",
       "      <td>0.045647</td>\n",
       "      <td>0.140473</td>\n",
       "    </tr>\n",
       "    <tr>\n",
       "      <th>50%</th>\n",
       "      <td>0.195153</td>\n",
       "      <td>0.261649</td>\n",
       "      <td>0.341908</td>\n",
       "      <td>0.052066</td>\n",
       "      <td>0.152639</td>\n",
       "    </tr>\n",
       "    <tr>\n",
       "      <th>75%</th>\n",
       "      <td>0.209755</td>\n",
       "      <td>0.301340</td>\n",
       "      <td>0.358086</td>\n",
       "      <td>0.056076</td>\n",
       "      <td>0.191089</td>\n",
       "    </tr>\n",
       "    <tr>\n",
       "      <th>max</th>\n",
       "      <td>0.221520</td>\n",
       "      <td>0.318146</td>\n",
       "      <td>0.408796</td>\n",
       "      <td>0.067777</td>\n",
       "      <td>0.377489</td>\n",
       "    </tr>\n",
       "  </tbody>\n",
       "</table>\n",
       "</div>"
      ],
      "text/plain": [
       "       gp_appt_available  111_111_offered  amb_sys_answered  111_111_answered  \\\n",
       "count          25.000000        25.000000         25.000000         25.000000   \n",
       "mean            0.194463         0.244419          0.337852          0.051804   \n",
       "std             0.016576         0.063612          0.036182          0.009274   \n",
       "min             0.151994         0.121871          0.252115          0.035434   \n",
       "25%             0.182030         0.189238          0.313259          0.045647   \n",
       "50%             0.195153         0.261649          0.341908          0.052066   \n",
       "75%             0.209755         0.301340          0.358086          0.056076   \n",
       "max             0.221520         0.318146          0.408796          0.067777   \n",
       "\n",
       "       amb_sys_made  \n",
       "count     25.000000  \n",
       "mean       0.171462  \n",
       "std        0.061353  \n",
       "min        0.092215  \n",
       "25%        0.140473  \n",
       "50%        0.152639  \n",
       "75%        0.191089  \n",
       "max        0.377489  "
      ]
     },
     "execution_count": 17,
     "metadata": {},
     "output_type": "execute_result"
    }
   ],
   "source": [
    "coefs = pd.DataFrame(\n",
    "   [model.feature_importances_\n",
    "    for model in results['estimator']],\n",
    "   columns=features\n",
    ")\n",
    "\n",
    "coefs.describe()"
   ]
  },
  {
   "cell_type": "markdown",
   "id": "c80f0e02",
   "metadata": {},
   "source": [
    "### ADA Boost"
   ]
  },
  {
   "cell_type": "code",
   "execution_count": 18,
   "id": "dba12cb8",
   "metadata": {},
   "outputs": [],
   "source": [
    "model = AdaBoostRegressor()\n",
    "\n",
    "features = ['gp_appt_available',\n",
    "            '111_111_offered', 'amb_sys_answered',\n",
    "            '111_111_answered', 'amb_sys_made']\n",
    "\n",
    "results = fit_model(dta,model,features)"
   ]
  },
  {
   "cell_type": "markdown",
   "id": "c6a9715d",
   "metadata": {},
   "source": [
    "#### Performance "
   ]
  },
  {
   "cell_type": "code",
   "execution_count": 19,
   "id": "9c6106c5",
   "metadata": {},
   "outputs": [
    {
     "data": {
      "text/html": [
       "<div>\n",
       "<style scoped>\n",
       "    .dataframe tbody tr th:only-of-type {\n",
       "        vertical-align: middle;\n",
       "    }\n",
       "\n",
       "    .dataframe tbody tr th {\n",
       "        vertical-align: top;\n",
       "    }\n",
       "\n",
       "    .dataframe thead th {\n",
       "        text-align: right;\n",
       "    }\n",
       "</style>\n",
       "<table border=\"1\" class=\"dataframe\">\n",
       "  <thead>\n",
       "    <tr style=\"text-align: right;\">\n",
       "      <th></th>\n",
       "      <th>test_score</th>\n",
       "      <th>train_score</th>\n",
       "    </tr>\n",
       "  </thead>\n",
       "  <tbody>\n",
       "    <tr>\n",
       "      <th>count</th>\n",
       "      <td>25.000000</td>\n",
       "      <td>25.000000</td>\n",
       "    </tr>\n",
       "    <tr>\n",
       "      <th>mean</th>\n",
       "      <td>0.357844</td>\n",
       "      <td>0.391452</td>\n",
       "    </tr>\n",
       "    <tr>\n",
       "      <th>std</th>\n",
       "      <td>0.051182</td>\n",
       "      <td>0.017144</td>\n",
       "    </tr>\n",
       "    <tr>\n",
       "      <th>min</th>\n",
       "      <td>0.238568</td>\n",
       "      <td>0.364805</td>\n",
       "    </tr>\n",
       "    <tr>\n",
       "      <th>25%</th>\n",
       "      <td>0.322158</td>\n",
       "      <td>0.383087</td>\n",
       "    </tr>\n",
       "    <tr>\n",
       "      <th>50%</th>\n",
       "      <td>0.365117</td>\n",
       "      <td>0.389659</td>\n",
       "    </tr>\n",
       "    <tr>\n",
       "      <th>75%</th>\n",
       "      <td>0.399480</td>\n",
       "      <td>0.399603</td>\n",
       "    </tr>\n",
       "    <tr>\n",
       "      <th>max</th>\n",
       "      <td>0.443821</td>\n",
       "      <td>0.428363</td>\n",
       "    </tr>\n",
       "  </tbody>\n",
       "</table>\n",
       "</div>"
      ],
      "text/plain": [
       "       test_score  train_score\n",
       "count   25.000000    25.000000\n",
       "mean     0.357844     0.391452\n",
       "std      0.051182     0.017144\n",
       "min      0.238568     0.364805\n",
       "25%      0.322158     0.383087\n",
       "50%      0.365117     0.389659\n",
       "75%      0.399480     0.399603\n",
       "max      0.443821     0.428363"
      ]
     },
     "execution_count": 19,
     "metadata": {},
     "output_type": "execute_result"
    }
   ],
   "source": [
    "res=pd.DataFrame()\n",
    "res['test_score'] = results['test_score']\n",
    "res['train_score'] = results['train_score']\n",
    "\n",
    "res.describe()"
   ]
  },
  {
   "cell_type": "markdown",
   "id": "162a9c54",
   "metadata": {},
   "source": [
    "#### Coefficients "
   ]
  },
  {
   "cell_type": "code",
   "execution_count": 20,
   "id": "96065f85",
   "metadata": {},
   "outputs": [
    {
     "data": {
      "text/html": [
       "<div>\n",
       "<style scoped>\n",
       "    .dataframe tbody tr th:only-of-type {\n",
       "        vertical-align: middle;\n",
       "    }\n",
       "\n",
       "    .dataframe tbody tr th {\n",
       "        vertical-align: top;\n",
       "    }\n",
       "\n",
       "    .dataframe thead th {\n",
       "        text-align: right;\n",
       "    }\n",
       "</style>\n",
       "<table border=\"1\" class=\"dataframe\">\n",
       "  <thead>\n",
       "    <tr style=\"text-align: right;\">\n",
       "      <th></th>\n",
       "      <th>gp_appt_available</th>\n",
       "      <th>111_111_offered</th>\n",
       "      <th>amb_sys_answered</th>\n",
       "      <th>111_111_answered</th>\n",
       "      <th>amb_sys_made</th>\n",
       "    </tr>\n",
       "  </thead>\n",
       "  <tbody>\n",
       "    <tr>\n",
       "      <th>count</th>\n",
       "      <td>25.000000</td>\n",
       "      <td>25.000000</td>\n",
       "      <td>25.000000</td>\n",
       "      <td>25.000000</td>\n",
       "      <td>25.000000</td>\n",
       "    </tr>\n",
       "    <tr>\n",
       "      <th>mean</th>\n",
       "      <td>0.143346</td>\n",
       "      <td>0.175411</td>\n",
       "      <td>0.425632</td>\n",
       "      <td>0.034593</td>\n",
       "      <td>0.221018</td>\n",
       "    </tr>\n",
       "    <tr>\n",
       "      <th>std</th>\n",
       "      <td>0.018561</td>\n",
       "      <td>0.047252</td>\n",
       "      <td>0.094007</td>\n",
       "      <td>0.017305</td>\n",
       "      <td>0.093830</td>\n",
       "    </tr>\n",
       "    <tr>\n",
       "      <th>min</th>\n",
       "      <td>0.094150</td>\n",
       "      <td>0.060990</td>\n",
       "      <td>0.233218</td>\n",
       "      <td>0.007284</td>\n",
       "      <td>0.030267</td>\n",
       "    </tr>\n",
       "    <tr>\n",
       "      <th>25%</th>\n",
       "      <td>0.132855</td>\n",
       "      <td>0.145584</td>\n",
       "      <td>0.383410</td>\n",
       "      <td>0.024297</td>\n",
       "      <td>0.184113</td>\n",
       "    </tr>\n",
       "    <tr>\n",
       "      <th>50%</th>\n",
       "      <td>0.143525</td>\n",
       "      <td>0.184479</td>\n",
       "      <td>0.407756</td>\n",
       "      <td>0.033898</td>\n",
       "      <td>0.214753</td>\n",
       "    </tr>\n",
       "    <tr>\n",
       "      <th>75%</th>\n",
       "      <td>0.153296</td>\n",
       "      <td>0.205222</td>\n",
       "      <td>0.467581</td>\n",
       "      <td>0.040821</td>\n",
       "      <td>0.255783</td>\n",
       "    </tr>\n",
       "    <tr>\n",
       "      <th>max</th>\n",
       "      <td>0.183349</td>\n",
       "      <td>0.284722</td>\n",
       "      <td>0.636627</td>\n",
       "      <td>0.067474</td>\n",
       "      <td>0.397699</td>\n",
       "    </tr>\n",
       "  </tbody>\n",
       "</table>\n",
       "</div>"
      ],
      "text/plain": [
       "       gp_appt_available  111_111_offered  amb_sys_answered  111_111_answered  \\\n",
       "count          25.000000        25.000000         25.000000         25.000000   \n",
       "mean            0.143346         0.175411          0.425632          0.034593   \n",
       "std             0.018561         0.047252          0.094007          0.017305   \n",
       "min             0.094150         0.060990          0.233218          0.007284   \n",
       "25%             0.132855         0.145584          0.383410          0.024297   \n",
       "50%             0.143525         0.184479          0.407756          0.033898   \n",
       "75%             0.153296         0.205222          0.467581          0.040821   \n",
       "max             0.183349         0.284722          0.636627          0.067474   \n",
       "\n",
       "       amb_sys_made  \n",
       "count     25.000000  \n",
       "mean       0.221018  \n",
       "std        0.093830  \n",
       "min        0.030267  \n",
       "25%        0.184113  \n",
       "50%        0.214753  \n",
       "75%        0.255783  \n",
       "max        0.397699  "
      ]
     },
     "execution_count": 20,
     "metadata": {},
     "output_type": "execute_result"
    }
   ],
   "source": [
    "coefs = pd.DataFrame(\n",
    "   [model.feature_importances_\n",
    "    for model in results['estimator']],\n",
    "   columns=features\n",
    ")\n",
    "\n",
    "coefs.describe()"
   ]
  },
  {
   "cell_type": "markdown",
   "id": "7abaf35c",
   "metadata": {},
   "source": [
    "## Summary "
   ]
  },
  {
   "cell_type": "markdown",
   "id": "3b76b92e",
   "metadata": {},
   "source": [
    "- Extra Trees does not preform well\n",
    "- Random forest with default parameters is overfitting to the training data\n",
    "- Gradient boosted trees performs best"
   ]
  }
 ],
 "metadata": {
  "kernelspec": {
   "display_name": "Python 3 (ipykernel)",
   "language": "python",
   "name": "python3"
  },
  "language_info": {
   "codemirror_mode": {
    "name": "ipython",
    "version": 3
   },
   "file_extension": ".py",
   "mimetype": "text/x-python",
   "name": "python",
   "nbconvert_exporter": "python",
   "pygments_lexer": "ipython3",
   "version": "3.9.12"
  }
 },
 "nbformat": 4,
 "nbformat_minor": 5
}