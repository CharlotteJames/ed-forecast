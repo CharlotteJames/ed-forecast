{
 "cells": [
  {
   "cell_type": "markdown",
   "id": "740a2d15",
   "metadata": {},
   "source": [
    "# KNN imputation "
   ]
  },
  {
   "cell_type": "code",
   "execution_count": 1,
   "id": "bfae286d",
   "metadata": {},
   "outputs": [],
   "source": [
    "import os\n",
    "import pandas as pd\n",
    "import numpy as np\n",
    "\n",
    "from sklearn.experimental import enable_iterative_imputer\n",
    "from sklearn.impute import IterativeImputer\n",
    "from sklearn.impute import KNNImputer"
   ]
  },
  {
   "cell_type": "code",
   "execution_count": 2,
   "id": "f65f7221",
   "metadata": {},
   "outputs": [],
   "source": [
    "master = pd.read_csv('https://raw.githubusercontent.com/CharlotteJames/ed-forecast/main/data/master_scaled_impute.csv',\n",
    "                  index_col=0)"
   ]
  },
  {
   "cell_type": "code",
   "execution_count": 3,
   "id": "6ab9ea01",
   "metadata": {},
   "outputs": [
    {
     "data": {
      "text/html": [
       "<div>\n",
       "<style scoped>\n",
       "    .dataframe tbody tr th:only-of-type {\n",
       "        vertical-align: middle;\n",
       "    }\n",
       "\n",
       "    .dataframe tbody tr th {\n",
       "        vertical-align: top;\n",
       "    }\n",
       "\n",
       "    .dataframe thead th {\n",
       "        text-align: right;\n",
       "    }\n",
       "</style>\n",
       "<table border=\"1\" class=\"dataframe\">\n",
       "  <thead>\n",
       "    <tr style=\"text-align: right;\">\n",
       "      <th></th>\n",
       "      <th>ccg</th>\n",
       "      <th>month</th>\n",
       "      <th>111_111_offered</th>\n",
       "      <th>111_111_answered</th>\n",
       "      <th>amb_sys_made</th>\n",
       "      <th>amb_sys_answered</th>\n",
       "      <th>gp_appt_attended</th>\n",
       "      <th>gp_appt_available</th>\n",
       "      <th>ae_attendances_attendances</th>\n",
       "      <th>population</th>\n",
       "      <th>People</th>\n",
       "      <th>Places</th>\n",
       "      <th>Lives</th>\n",
       "      <th>year</th>\n",
       "    </tr>\n",
       "  </thead>\n",
       "  <tbody>\n",
       "    <tr>\n",
       "      <th>0</th>\n",
       "      <td>00N</td>\n",
       "      <td>Jan</td>\n",
       "      <td>568.479362</td>\n",
       "      <td>459.899870</td>\n",
       "      <td>216.450677</td>\n",
       "      <td>148.439545</td>\n",
       "      <td>4338.335607</td>\n",
       "      <td>4738.295678</td>\n",
       "      <td>385.585466</td>\n",
       "      <td>15.0265</td>\n",
       "      <td>94.8</td>\n",
       "      <td>101.7</td>\n",
       "      <td>96.8</td>\n",
       "      <td>2018</td>\n",
       "    </tr>\n",
       "    <tr>\n",
       "      <th>1</th>\n",
       "      <td>00N</td>\n",
       "      <td>Feb</td>\n",
       "      <td>472.022555</td>\n",
       "      <td>395.194004</td>\n",
       "      <td>204.869142</td>\n",
       "      <td>147.335865</td>\n",
       "      <td>3704.655109</td>\n",
       "      <td>4074.002595</td>\n",
       "      <td>347.519382</td>\n",
       "      <td>15.0265</td>\n",
       "      <td>94.8</td>\n",
       "      <td>101.7</td>\n",
       "      <td>96.8</td>\n",
       "      <td>2018</td>\n",
       "    </tr>\n",
       "    <tr>\n",
       "      <th>2</th>\n",
       "      <td>00N</td>\n",
       "      <td>Mar</td>\n",
       "      <td>541.224032</td>\n",
       "      <td>453.863381</td>\n",
       "      <td>233.092813</td>\n",
       "      <td>168.121234</td>\n",
       "      <td>3907.696403</td>\n",
       "      <td>4321.498686</td>\n",
       "      <td>383.389345</td>\n",
       "      <td>15.0265</td>\n",
       "      <td>94.8</td>\n",
       "      <td>101.7</td>\n",
       "      <td>96.8</td>\n",
       "      <td>2018</td>\n",
       "    </tr>\n",
       "    <tr>\n",
       "      <th>3</th>\n",
       "      <td>00N</td>\n",
       "      <td>Apr</td>\n",
       "      <td>506.059962</td>\n",
       "      <td>438.172926</td>\n",
       "      <td>210.990836</td>\n",
       "      <td>149.848422</td>\n",
       "      <td>3721.092736</td>\n",
       "      <td>4089.042691</td>\n",
       "      <td>396.299870</td>\n",
       "      <td>15.0265</td>\n",
       "      <td>94.8</td>\n",
       "      <td>101.7</td>\n",
       "      <td>96.8</td>\n",
       "      <td>2018</td>\n",
       "    </tr>\n",
       "    <tr>\n",
       "      <th>4</th>\n",
       "      <td>00N</td>\n",
       "      <td>May</td>\n",
       "      <td>517.326603</td>\n",
       "      <td>452.985246</td>\n",
       "      <td>223.273261</td>\n",
       "      <td>164.595494</td>\n",
       "      <td>3848.800453</td>\n",
       "      <td>4224.337005</td>\n",
       "      <td>422.187469</td>\n",
       "      <td>15.0265</td>\n",
       "      <td>94.8</td>\n",
       "      <td>101.7</td>\n",
       "      <td>96.8</td>\n",
       "      <td>2018</td>\n",
       "    </tr>\n",
       "  </tbody>\n",
       "</table>\n",
       "</div>"
      ],
      "text/plain": [
       "   ccg month  111_111_offered  111_111_answered  amb_sys_made  \\\n",
       "0  00N   Jan       568.479362        459.899870    216.450677   \n",
       "1  00N   Feb       472.022555        395.194004    204.869142   \n",
       "2  00N   Mar       541.224032        453.863381    233.092813   \n",
       "3  00N   Apr       506.059962        438.172926    210.990836   \n",
       "4  00N   May       517.326603        452.985246    223.273261   \n",
       "\n",
       "   amb_sys_answered  gp_appt_attended  gp_appt_available  \\\n",
       "0        148.439545       4338.335607        4738.295678   \n",
       "1        147.335865       3704.655109        4074.002595   \n",
       "2        168.121234       3907.696403        4321.498686   \n",
       "3        149.848422       3721.092736        4089.042691   \n",
       "4        164.595494       3848.800453        4224.337005   \n",
       "\n",
       "   ae_attendances_attendances  population  People  Places  Lives  year  \n",
       "0                  385.585466     15.0265    94.8   101.7   96.8  2018  \n",
       "1                  347.519382     15.0265    94.8   101.7   96.8  2018  \n",
       "2                  383.389345     15.0265    94.8   101.7   96.8  2018  \n",
       "3                  396.299870     15.0265    94.8   101.7   96.8  2018  \n",
       "4                  422.187469     15.0265    94.8   101.7   96.8  2018  "
      ]
     },
     "execution_count": 3,
     "metadata": {},
     "output_type": "execute_result"
    }
   ],
   "source": [
    "master.head()"
   ]
  },
  {
   "cell_type": "code",
   "execution_count": 4,
   "id": "837248df",
   "metadata": {},
   "outputs": [
    {
     "data": {
      "text/plain": [
       "(1920, 14)"
      ]
     },
     "execution_count": 4,
     "metadata": {},
     "output_type": "execute_result"
    }
   ],
   "source": [
    "master.shape"
   ]
  },
  {
   "cell_type": "code",
   "execution_count": 5,
   "id": "d23fd377",
   "metadata": {},
   "outputs": [],
   "source": [
    "cols = master.columns[2:]"
   ]
  },
  {
   "cell_type": "markdown",
   "id": "0a899816",
   "metadata": {},
   "source": [
    "## KNN"
   ]
  },
  {
   "cell_type": "code",
   "execution_count": 6,
   "id": "59548750",
   "metadata": {},
   "outputs": [
    {
     "name": "stdout",
     "output_type": "stream",
     "text": [
      "CPU times: user 2.71 s, sys: 972 ms, total: 3.68 s\n",
      "Wall time: 829 ms\n"
     ]
    }
   ],
   "source": [
    "%%time\n",
    "\n",
    "for N in range(3,12):\n",
    "    \n",
    "    knn = KNNImputer(n_neighbors = N)\n",
    "\n",
    "    master_imputed = knn.fit_transform(master[cols])\n",
    "    \n",
    "    master_imputed = pd.DataFrame(np.array(master_imputed), columns = cols )\n",
    "    master_imputed['month'] = master['month']\n",
    "    master_imputed['ccg'] = master['ccg']\n",
    "    \n",
    "    master_imputed.to_csv(f'../data/imputed/master_imputed_{N}.csv')"
   ]
  },
  {
   "cell_type": "code",
   "execution_count": null,
   "id": "ba08cb68",
   "metadata": {},
   "outputs": [],
   "source": []
  }
 ],
 "metadata": {
  "kernelspec": {
   "display_name": "Python 3 (ipykernel)",
   "language": "python",
   "name": "python3"
  },
  "language_info": {
   "codemirror_mode": {
    "name": "ipython",
    "version": 3
   },
   "file_extension": ".py",
   "mimetype": "text/x-python",
   "name": "python",
   "nbconvert_exporter": "python",
   "pygments_lexer": "ipython3",
   "version": "3.9.12"
  }
 },
 "nbformat": 4,
 "nbformat_minor": 5
}