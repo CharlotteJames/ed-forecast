{
 "cells": [
  {
   "cell_type": "markdown",
   "id": "89bc1d9b",
   "metadata": {},
   "source": [
    "# Combined Population Health and Service Capacity Model"
   ]
  },
  {
   "cell_type": "markdown",
   "id": "eab5577a",
   "metadata": {},
   "source": [
    "## Overview\n",
    "\n",
    "This notebook contains the code to develop and test the MGSR.\n",
    "\n",
    "Further details on the development of the population health model can be found [here](./population_health_model.ipynb), and the service capacity model can be found [here](./capacity_model.ipynb)."
   ]
  },
  {
   "cell_type": "code",
   "execution_count": 1,
   "id": "29268eb1",
   "metadata": {},
   "outputs": [],
   "source": [
    "#turn warnings off to keep notebook tidy\n",
    "import warnings\n",
    "warnings.filterwarnings('ignore') "
   ]
  },
  {
   "cell_type": "markdown",
   "id": "b0a12a14",
   "metadata": {},
   "source": [
    "## Import libraries "
   ]
  },
  {
   "cell_type": "code",
   "execution_count": 2,
   "id": "f9e92104",
   "metadata": {},
   "outputs": [],
   "source": [
    "import os\n",
    "import pandas as pd\n",
    "import numpy as np\n",
    "import pickle as pkl\n",
    "\n",
    "from sklearn.linear_model import LinearRegression\n",
    "from sklearn.ensemble import RandomForestRegressor\n",
    "from sklearn.ensemble import GradientBoostingRegressor\n",
    "\n",
    "\n",
    "from sklearn.model_selection import train_test_split\n",
    "from sklearn.model_selection import GridSearchCV\n",
    "from sklearn.model_selection import cross_validate\n",
    "from sklearn.model_selection import RepeatedKFold\n",
    "\n",
    "\n",
    "import seaborn as sns\n",
    "\n",
    "import matplotlib.pyplot as plt\n",
    "%matplotlib inline\n",
    "plt.style.use('ggplot')"
   ]
  },
  {
   "cell_type": "markdown",
   "id": "a24d85cb",
   "metadata": {},
   "source": [
    "## Import data "
   ]
  },
  {
   "cell_type": "code",
   "execution_count": 3,
   "id": "13122672",
   "metadata": {},
   "outputs": [],
   "source": [
    "dta = pd.read_csv('https://raw.githubusercontent.com/CharlotteJames/ed-forecast/main/data/master_scaled_new.csv',\n",
    "                  index_col=0)"
   ]
  },
  {
   "cell_type": "code",
   "execution_count": 4,
   "id": "e369d537",
   "metadata": {},
   "outputs": [],
   "source": [
    "dta.columns = ['_'.join([c.split('/')[0],c.split('/')[-1]])\n",
    "               if '/' in c else c for c in dta.columns]"
   ]
  },
  {
   "cell_type": "code",
   "execution_count": 5,
   "id": "817c8710",
   "metadata": {},
   "outputs": [
    {
     "data": {
      "text/plain": [
       "(1618, 13)"
      ]
     },
     "execution_count": 5,
     "metadata": {},
     "output_type": "execute_result"
    }
   ],
   "source": [
    "dta.shape"
   ]
  },
  {
   "cell_type": "markdown",
   "id": "0f30286b",
   "metadata": {},
   "source": [
    "## Function to group data "
   ]
  },
  {
   "cell_type": "code",
   "execution_count": 6,
   "id": "2178761f",
   "metadata": {},
   "outputs": [],
   "source": [
    "def group_data(data, features):\n",
    "\n",
    "    features = ['population',\n",
    "                'People', 'Places',\n",
    "                'Lives']\n",
    "\n",
    "\n",
    "    #ensure no identical points in train and test\n",
    "\n",
    "    grouped = pd.DataFrame()\n",
    "    \n",
    "    for pop, group in data.groupby('population'):\n",
    "\n",
    "        #if len(group.lives.unique())>1:\n",
    "\n",
    "            #print('multiple CCG with same population')\n",
    "\n",
    "        ccg_year = pd.Series(dtype='float64')\n",
    "\n",
    "        for f in features:\n",
    "\n",
    "            ccg_year[f] = group[f].unique()[0]\n",
    "\n",
    "        ccg_year['ae_attendances_attendances']\\\n",
    "        = group.ae_attendances_attendances.mean()\n",
    "        \n",
    "\n",
    "        grouped = grouped.append(ccg_year, ignore_index=True)\n",
    "        \n",
    "    return grouped"
   ]
  },
  {
   "cell_type": "markdown",
   "id": "9df3e7e7",
   "metadata": {},
   "source": [
    "## Fit Predict Population Health model"
   ]
  },
  {
   "cell_type": "code",
   "execution_count": 7,
   "id": "4740fcb8",
   "metadata": {},
   "outputs": [],
   "source": [
    "model = RandomForestRegressor(max_depth=4, n_estimators=2, \n",
    "                              random_state=0)\n",
    "\n",
    "pophealth_features = ['population',\n",
    "                    'People', 'Places', 'Lives']\n",
    "\n",
    "grouped = group_data(dta, pophealth_features)\n",
    "\n",
    "y = grouped['ae_attendances_attendances']\n",
    "\n",
    "X = grouped[pophealth_features]\n",
    "\n",
    "cv = RepeatedKFold(n_splits=5, n_repeats=1, random_state=1)\n",
    "    \n",
    "results = pd.DataFrame()\n",
    "\n",
    "\n",
    "scores_train, scores_test, feat = [],[],[]\n",
    "    \n",
    "for train_index, test_index in cv.split(X, y):\n",
    "        \n",
    "    model.fit(X.iloc[train_index], y.iloc[train_index])\n",
    "        \n",
    "    test = X.iloc[test_index].copy()\n",
    "    test['ae_predicted'] = model.predict(X.iloc[test_index])\n",
    "    \n",
    "    results = results.append(test, ignore_index=True)"
   ]
  },
  {
   "cell_type": "code",
   "execution_count": 8,
   "id": "0c554f70",
   "metadata": {},
   "outputs": [
    {
     "data": {
      "text/html": [
       "<div>\n",
       "<style scoped>\n",
       "    .dataframe tbody tr th:only-of-type {\n",
       "        vertical-align: middle;\n",
       "    }\n",
       "\n",
       "    .dataframe tbody tr th {\n",
       "        vertical-align: top;\n",
       "    }\n",
       "\n",
       "    .dataframe thead th {\n",
       "        text-align: right;\n",
       "    }\n",
       "</style>\n",
       "<table border=\"1\" class=\"dataframe\">\n",
       "  <thead>\n",
       "    <tr style=\"text-align: right;\">\n",
       "      <th></th>\n",
       "      <th>population</th>\n",
       "      <th>People</th>\n",
       "      <th>Places</th>\n",
       "      <th>Lives</th>\n",
       "      <th>ae_predicted</th>\n",
       "    </tr>\n",
       "  </thead>\n",
       "  <tbody>\n",
       "    <tr>\n",
       "      <th>0</th>\n",
       "      <td>14.9084</td>\n",
       "      <td>96.000000</td>\n",
       "      <td>99.500</td>\n",
       "      <td>94.600000</td>\n",
       "      <td>911.450934</td>\n",
       "    </tr>\n",
       "    <tr>\n",
       "      <th>1</th>\n",
       "      <td>20.5985</td>\n",
       "      <td>95.500000</td>\n",
       "      <td>102.300</td>\n",
       "      <td>100.300000</td>\n",
       "      <td>539.392222</td>\n",
       "    </tr>\n",
       "    <tr>\n",
       "      <th>2</th>\n",
       "      <td>20.9547</td>\n",
       "      <td>101.100000</td>\n",
       "      <td>101.600</td>\n",
       "      <td>101.300000</td>\n",
       "      <td>539.392222</td>\n",
       "    </tr>\n",
       "    <tr>\n",
       "      <th>3</th>\n",
       "      <td>21.6203</td>\n",
       "      <td>96.600000</td>\n",
       "      <td>96.800</td>\n",
       "      <td>94.600000</td>\n",
       "      <td>423.850911</td>\n",
       "    </tr>\n",
       "    <tr>\n",
       "      <th>4</th>\n",
       "      <td>26.1061</td>\n",
       "      <td>88.600000</td>\n",
       "      <td>94.800</td>\n",
       "      <td>91.900000</td>\n",
       "      <td>833.715369</td>\n",
       "    </tr>\n",
       "    <tr>\n",
       "      <th>...</th>\n",
       "      <td>...</td>\n",
       "      <td>...</td>\n",
       "      <td>...</td>\n",
       "      <td>...</td>\n",
       "      <td>...</td>\n",
       "    </tr>\n",
       "    <tr>\n",
       "      <th>140</th>\n",
       "      <td>137.0653</td>\n",
       "      <td>93.680000</td>\n",
       "      <td>98.580</td>\n",
       "      <td>91.620000</td>\n",
       "      <td>489.742472</td>\n",
       "    </tr>\n",
       "    <tr>\n",
       "      <th>141</th>\n",
       "      <td>150.2535</td>\n",
       "      <td>104.566667</td>\n",
       "      <td>100.850</td>\n",
       "      <td>104.100000</td>\n",
       "      <td>321.867013</td>\n",
       "    </tr>\n",
       "    <tr>\n",
       "      <th>142</th>\n",
       "      <td>151.1457</td>\n",
       "      <td>101.740000</td>\n",
       "      <td>96.820</td>\n",
       "      <td>97.540000</td>\n",
       "      <td>493.119675</td>\n",
       "    </tr>\n",
       "    <tr>\n",
       "      <th>143</th>\n",
       "      <td>181.1249</td>\n",
       "      <td>100.916667</td>\n",
       "      <td>97.550</td>\n",
       "      <td>99.133333</td>\n",
       "      <td>493.119675</td>\n",
       "    </tr>\n",
       "    <tr>\n",
       "      <th>144</th>\n",
       "      <td>186.1075</td>\n",
       "      <td>101.100000</td>\n",
       "      <td>97.825</td>\n",
       "      <td>102.406250</td>\n",
       "      <td>321.867013</td>\n",
       "    </tr>\n",
       "  </tbody>\n",
       "</table>\n",
       "<p>145 rows × 5 columns</p>\n",
       "</div>"
      ],
      "text/plain": [
       "     population      People   Places       Lives  ae_predicted\n",
       "0       14.9084   96.000000   99.500   94.600000    911.450934\n",
       "1       20.5985   95.500000  102.300  100.300000    539.392222\n",
       "2       20.9547  101.100000  101.600  101.300000    539.392222\n",
       "3       21.6203   96.600000   96.800   94.600000    423.850911\n",
       "4       26.1061   88.600000   94.800   91.900000    833.715369\n",
       "..          ...         ...      ...         ...           ...\n",
       "140    137.0653   93.680000   98.580   91.620000    489.742472\n",
       "141    150.2535  104.566667  100.850  104.100000    321.867013\n",
       "142    151.1457  101.740000   96.820   97.540000    493.119675\n",
       "143    181.1249  100.916667   97.550   99.133333    493.119675\n",
       "144    186.1075  101.100000   97.825  102.406250    321.867013\n",
       "\n",
       "[145 rows x 5 columns]"
      ]
     },
     "execution_count": 8,
     "metadata": {},
     "output_type": "execute_result"
    }
   ],
   "source": [
    "results"
   ]
  },
  {
   "cell_type": "markdown",
   "id": "20206a0c",
   "metadata": {},
   "source": [
    "### Merge with data set "
   ]
  },
  {
   "cell_type": "code",
   "execution_count": 9,
   "id": "cc79a921",
   "metadata": {},
   "outputs": [],
   "source": [
    "dta = dta.merge(results[['population','ae_predicted']],\\\n",
    "                left_on='population', right_on='population')"
   ]
  },
  {
   "cell_type": "markdown",
   "id": "3912ce58",
   "metadata": {},
   "source": [
    "## Combined model "
   ]
  },
  {
   "cell_type": "code",
   "execution_count": 10,
   "id": "950e9615",
   "metadata": {},
   "outputs": [
    {
     "name": "stdout",
     "output_type": "stream",
     "text": [
      "0.4519048888936743\n"
     ]
    }
   ],
   "source": [
    "#capacity utility model\n",
    "rf1 = RandomForestRegressor(max_depth=5, n_estimators=6, \n",
    "                            random_state=0)\n",
    "\n",
    "#combinator\n",
    "final = LinearRegression()\n",
    "\n",
    "train, test = train_test_split(dta,random_state=29)\n",
    "\n",
    "#split training data into two sets\n",
    "train_0, train_1 = train_test_split(train, train_size=0.75, \n",
    "                                    random_state=29)\n",
    "\n",
    "\n",
    "\n",
    "#capacity utility\n",
    "capacity_features = ['gp_appt_available',\n",
    "            '111_111_offered', 'amb_sys_answered']\n",
    "#            '111_111_answered', 'amb_sys_made']\n",
    "\n",
    "pophealth_features = ['population',\n",
    "                    'People', 'Places', 'Lives']\n",
    "\n",
    "#train capacity modeel\n",
    "\n",
    "y_0 = train_0['ae_attendances_attendances']\n",
    "X_0 = train_0[capacity_features]\n",
    "\n",
    "rf1.fit(X_0,y_0)\n",
    "\n",
    "\n",
    "#predict\n",
    "\n",
    "y_pred_cu = rf1.predict(train_1[capacity_features])\n",
    "\n",
    "print(rf1.score(train_1[capacity_features], \n",
    "                train_1['ae_attendances_attendances']))\n",
    "\n",
    "y_pred_ph = train_1['ae_predicted']\n"
   ]
  },
  {
   "cell_type": "code",
   "execution_count": 11,
   "id": "1010375e",
   "metadata": {},
   "outputs": [
    {
     "data": {
      "text/plain": [
       "0.7360370197755353"
      ]
     },
     "execution_count": 11,
     "metadata": {},
     "output_type": "execute_result"
    }
   ],
   "source": [
    "X_f = np.vstack([y_pred_cu, y_pred_ph]).T\n",
    "y_f = train_1['ae_attendances_attendances']\n",
    "\n",
    "final.fit(X_f,y_f)\n",
    "\n",
    "final.score(X_f,y_f)"
   ]
  },
  {
   "cell_type": "markdown",
   "id": "8682bcf4",
   "metadata": {},
   "source": [
    "### Check performance on held out data "
   ]
  },
  {
   "cell_type": "code",
   "execution_count": 12,
   "id": "78390dc6",
   "metadata": {},
   "outputs": [
    {
     "name": "stdout",
     "output_type": "stream",
     "text": [
      "0.4227235191823048\n",
      "0.5791158305719311\n",
      "0.6661669967506625\n"
     ]
    }
   ],
   "source": [
    "from sklearn.metrics import r2_score as r2\n",
    "\n",
    "y_pred_cu = rf1.predict(test[capacity_features])\n",
    "\n",
    "print(rf1.score(test[capacity_features], \n",
    "                test['ae_attendances_attendances']))\n",
    "\n",
    "#y_pred_ph = rf2.predict(test[pophealth_features])\n",
    "\n",
    "y_pred_ph = test['ae_predicted']\n",
    "\n",
    "print(r2(test['ae_attendances_attendances'], test['ae_predicted']))\n",
    "\n",
    "y_pred_final = final.predict(np.vstack([y_pred_cu, y_pred_ph]).T)\n",
    "\n",
    "#print(r2_score(test['ae_attendances_attendances'], y_pred_final))\n",
    "\n",
    "print(final.score(np.vstack([y_pred_cu, y_pred_ph]).T,\n",
    "                  test['ae_attendances_attendances']))"
   ]
  },
  {
   "cell_type": "markdown",
   "id": "44b618e6",
   "metadata": {},
   "source": [
    "### Coefficients "
   ]
  },
  {
   "cell_type": "code",
   "execution_count": 13,
   "id": "3879f419",
   "metadata": {},
   "outputs": [
    {
     "data": {
      "text/plain": [
       "array([0.51639993, 0.72968426])"
      ]
     },
     "execution_count": 13,
     "metadata": {},
     "output_type": "execute_result"
    }
   ],
   "source": [
    "final.coef_"
   ]
  },
  {
   "cell_type": "markdown",
   "id": "bfb18364",
   "metadata": {},
   "source": [
    "## Combined model with optimised parameters "
   ]
  },
  {
   "cell_type": "code",
   "execution_count": 14,
   "id": "c9770860",
   "metadata": {},
   "outputs": [],
   "source": [
    "def fit_ph(dta, features, model):\n",
    "    \n",
    "    if 'ae_predicted' in dta.columns:\n",
    "        \n",
    "        dta = dta.drop(['ae_predicted'], axis=1)\n",
    "    \n",
    "    grouped = group_data(dta, features)\n",
    "    \n",
    "    y = grouped['ae_attendances_attendances']\n",
    "\n",
    "    X = grouped[features]\n",
    "\n",
    "    # dont set random state so that function can be used in overall cv\n",
    "    cv = RepeatedKFold(n_splits=5, n_repeats=1, random_state=1)\n",
    "    \n",
    "    results = pd.DataFrame()\n",
    "    \n",
    "    for train_index, test_index in cv.split(X, y):\n",
    "        \n",
    "        model.fit(X.iloc[train_index], y.iloc[train_index])\n",
    "        \n",
    "        test = X.iloc[test_index].copy()\n",
    "        \n",
    "        test['ae_predicted'] = model.predict(X.iloc[test_index])\n",
    "    \n",
    "        results = results.append(test, ignore_index=True)\n",
    "        \n",
    "    dta = dta.merge(results[['population','ae_predicted']],\n",
    "                    left_on='population', right_on='population')\n",
    "        \n",
    "    return dta"
   ]
  },
  {
   "cell_type": "code",
   "execution_count": 15,
   "id": "0b25effa",
   "metadata": {},
   "outputs": [],
   "source": [
    "def fit_capacity(dta, features, model):\n",
    "    \n",
    "    y = dta['ae_attendances_attendances']\n",
    "    X = dta[features]\n",
    "\n",
    "    model.fit(X,y)\n",
    "    \n",
    "    return model"
   ]
  },
  {
   "cell_type": "code",
   "execution_count": 16,
   "id": "a8cd510b",
   "metadata": {},
   "outputs": [],
   "source": [
    "def fit_combined(train, rf1, m1_features, train_size=7/8):\n",
    "    \n",
    "    final = LinearRegression()\n",
    "\n",
    "    #split training data into two sets\n",
    "    train_0, train_1 = train_test_split(train, \n",
    "                                        train_size=train_size, \n",
    "                                        random_state=29)\n",
    "\n",
    "    #train capactiy model\n",
    "    \n",
    "    rf1 = fit_capacity(train_0, m1_features, rf1)\n",
    "    \n",
    "\n",
    "    #predict monthly attendances\n",
    "\n",
    "    y_pred_1 = rf1.predict(train_1[m1_features])\n",
    "\n",
    "    \n",
    "    #use pre-predicted average attendances\n",
    "    \n",
    "    y_pred_2 = train_1['ae_predicted']\n",
    "        \n",
    "    #final\n",
    "        \n",
    "    X_f = np.vstack([y_pred_1, y_pred_2]).T\n",
    "    y_f = train_1['ae_attendances_attendances']\n",
    "\n",
    "    final.fit(X_f,y_f)\n",
    "    \n",
    "    return rf1,final        "
   ]
  },
  {
   "cell_type": "code",
   "execution_count": 17,
   "id": "bcf7d0c2",
   "metadata": {},
   "outputs": [],
   "source": [
    "def cv_combined(dta, rf1, rf2):\n",
    "    \n",
    "    # splitter for cross validation \n",
    "    \n",
    "    cv = RepeatedKFold(n_splits=5, n_repeats=5, random_state=1)\n",
    "    \n",
    "    scores_final, scores_rf1, scores_rf2, coefs = [],[],[],[]\n",
    "    \n",
    "    k=1\n",
    "    \n",
    "    capacity_features = ['gp_appt_available',\n",
    "            '111_111_offered', 'amb_sys_answered']\n",
    "\n",
    "    pophealth_features = ['population',\n",
    "                            'People', 'Places', 'Lives']\n",
    "    \n",
    "    dta_pred = pd.DataFrame()\n",
    "    \n",
    "    #fit population health independently to avoid data leakage\n",
    "    \n",
    "    dta = fit_ph(dta, pophealth_features, rf2)\n",
    "    \n",
    "    print(dta.shape)\n",
    "    \n",
    "    for train_index, test_index in cv.split(dta):\n",
    "        \n",
    "        #print(f'\\n Split {k} \\n')\n",
    "        \n",
    "        train = dta.iloc[train_index]\n",
    "        test = dta.iloc[test_index]\n",
    "\n",
    "        #final models\n",
    "        rf1, final = fit_combined(train, rf1, capacity_features)\n",
    "        \n",
    "        coefs.append(final.coef_)\n",
    "        \n",
    "        #predict on test data\n",
    "        \n",
    "        y_pred_cu = rf1.predict(test[capacity_features])\n",
    "\n",
    "        scores_rf1.append(rf1.score(test[capacity_features],\n",
    "                                    test['ae_attendances_attendances']))\n",
    "\n",
    "        y_pred_ph = test['ae_predicted']\n",
    "\n",
    "        scores_rf2.append(r2(test['ae_attendances_attendances'],\n",
    "                             test['ae_predicted']))\n",
    "        \n",
    "        preds = final.predict(np.vstack([y_pred_cu, y_pred_ph]).T)\n",
    "\n",
    "        scores_final.append(final.score(np.vstack([y_pred_cu, y_pred_ph]).T,\n",
    "                                        test['ae_attendances_attendances']))\n",
    "        \n",
    "        test_pred = test.copy()\n",
    "        test_pred['predicted'] = preds\n",
    "        test_pred['true'] = test['ae_attendances_attendances'].values\n",
    "        \n",
    "        test_pred['iter'] = [k for i in test_pred.index]\n",
    "        \n",
    "        dta_pred = dta_pred.append(test_pred, ignore_index=False)\n",
    "        \n",
    "        \n",
    "        k+=1\n",
    "        \n",
    "    return scores_final, scores_rf1, scores_rf2, dta_pred, coefs"
   ]
  },
  {
   "cell_type": "code",
   "execution_count": 18,
   "id": "c6614a41",
   "metadata": {},
   "outputs": [
    {
     "name": "stdout",
     "output_type": "stream",
     "text": [
      "(1618, 14)\n"
     ]
    }
   ],
   "source": [
    "#capacity model\n",
    "rf1 = RandomForestRegressor(max_depth=5, n_estimators=6, random_state=0)\n",
    "\n",
    "#population health model\n",
    "rf2 = RandomForestRegressor(max_depth=4, n_estimators=2, random_state=0)\n",
    "\n",
    "scores_final, scores_rf1, scores_rf2, \\\n",
    "dta_pred, coefs = cv_combined(dta, rf1, rf2)"
   ]
  },
  {
   "cell_type": "markdown",
   "id": "cdbdaa36",
   "metadata": {},
   "source": [
    "### Results for paper"
   ]
  },
  {
   "cell_type": "code",
   "execution_count": 19,
   "id": "9c4adc73",
   "metadata": {},
   "outputs": [],
   "source": [
    "results=pd.DataFrame()\n",
    "\n",
    "results['final'] = scores_final"
   ]
  },
  {
   "cell_type": "code",
   "execution_count": 20,
   "id": "b86e07d9",
   "metadata": {},
   "outputs": [
    {
     "data": {
      "text/html": [
       "<div>\n",
       "<style scoped>\n",
       "    .dataframe tbody tr th:only-of-type {\n",
       "        vertical-align: middle;\n",
       "    }\n",
       "\n",
       "    .dataframe tbody tr th {\n",
       "        vertical-align: top;\n",
       "    }\n",
       "\n",
       "    .dataframe thead th {\n",
       "        text-align: right;\n",
       "    }\n",
       "</style>\n",
       "<table border=\"1\" class=\"dataframe\">\n",
       "  <thead>\n",
       "    <tr style=\"text-align: right;\">\n",
       "      <th></th>\n",
       "      <th>final</th>\n",
       "    </tr>\n",
       "  </thead>\n",
       "  <tbody>\n",
       "    <tr>\n",
       "      <th>count</th>\n",
       "      <td>25.000000</td>\n",
       "    </tr>\n",
       "    <tr>\n",
       "      <th>mean</th>\n",
       "      <td>0.665444</td>\n",
       "    </tr>\n",
       "    <tr>\n",
       "      <th>std</th>\n",
       "      <td>0.039768</td>\n",
       "    </tr>\n",
       "    <tr>\n",
       "      <th>min</th>\n",
       "      <td>0.573507</td>\n",
       "    </tr>\n",
       "    <tr>\n",
       "      <th>25%</th>\n",
       "      <td>0.631816</td>\n",
       "    </tr>\n",
       "    <tr>\n",
       "      <th>50%</th>\n",
       "      <td>0.675520</td>\n",
       "    </tr>\n",
       "    <tr>\n",
       "      <th>75%</th>\n",
       "      <td>0.696484</td>\n",
       "    </tr>\n",
       "    <tr>\n",
       "      <th>max</th>\n",
       "      <td>0.732708</td>\n",
       "    </tr>\n",
       "  </tbody>\n",
       "</table>\n",
       "</div>"
      ],
      "text/plain": [
       "           final\n",
       "count  25.000000\n",
       "mean    0.665444\n",
       "std     0.039768\n",
       "min     0.573507\n",
       "25%     0.631816\n",
       "50%     0.675520\n",
       "75%     0.696484\n",
       "max     0.732708"
      ]
     },
     "execution_count": 20,
     "metadata": {},
     "output_type": "execute_result"
    }
   ],
   "source": [
    "results.describe()"
   ]
  },
  {
   "cell_type": "markdown",
   "id": "244186c7",
   "metadata": {},
   "source": [
    "### Coefficient importances "
   ]
  },
  {
   "cell_type": "markdown",
   "id": "8076564f",
   "metadata": {},
   "source": [
    "#### Mean "
   ]
  },
  {
   "cell_type": "code",
   "execution_count": 21,
   "id": "ca9d6cbe",
   "metadata": {},
   "outputs": [
    {
     "data": {
      "text/plain": [
       "array([0.45512963, 0.63355856])"
      ]
     },
     "execution_count": 21,
     "metadata": {},
     "output_type": "execute_result"
    }
   ],
   "source": [
    "np.mean(coefs, axis=0)"
   ]
  },
  {
   "cell_type": "markdown",
   "id": "095d9c7e",
   "metadata": {},
   "source": [
    "#### Std "
   ]
  },
  {
   "cell_type": "code",
   "execution_count": 22,
   "id": "4c840c8a",
   "metadata": {},
   "outputs": [
    {
     "data": {
      "text/plain": [
       "array([0.08806844, 0.12641045])"
      ]
     },
     "execution_count": 22,
     "metadata": {},
     "output_type": "execute_result"
    }
   ],
   "source": [
    "np.std(coefs, axis=0)"
   ]
  },
  {
   "cell_type": "markdown",
   "id": "9485615a",
   "metadata": {},
   "source": [
    "### Plot "
   ]
  },
  {
   "cell_type": "code",
   "execution_count": 23,
   "id": "acf021aa",
   "metadata": {},
   "outputs": [
    {
     "data": {
      "image/png": "[encoded data removed]",
      "text/plain": [
       "<Figure size 576x360 with 1 Axes>"
      ]
     },
     "metadata": {
      "filenames": {
       "image/png": "/Users/cj9491/Documents/CCG/ae_forecast/git/ed-forecast/pages/_build/jupyter_execute/stacked_model_38_0.png"
      }
     },
     "output_type": "display_data"
    }
   ],
   "source": [
    "fig,ax = plt.subplots(figsize=(8,5))\n",
    "\n",
    "mean_pred, true = [],[]\n",
    "\n",
    "for i in dta_pred.index.unique():\n",
    "    \n",
    "    mean_pred.append(dta_pred.loc[i]['predicted'].mean())\n",
    "    true.append(dta_pred.loc[i]['true'].mean())\n",
    "\n",
    "plt.plot(true, mean_pred, 'o', alpha=0.5)\n",
    "\n",
    "xx = np.arange(min(dta_pred['true']),max(dta_pred['true']))\n",
    "plt.plot(xx,xx,'k--')\n",
    "\n",
    "plt.xlabel('True monthly ED attendances per 10,000 people')\n",
    "plt.ylabel('Predicted monthly ED attendances per 10,000 people')\n",
    "plt.savefig('true_predicted_combined.png')\n",
    "plt.show()"
   ]
  },
  {
   "cell_type": "markdown",
   "id": "ccbf5fa4",
   "metadata": {},
   "source": [
    "## Permutation Feature Importance "
   ]
  },
  {
   "cell_type": "code",
   "execution_count": 24,
   "id": "d9305889",
   "metadata": {},
   "outputs": [],
   "source": [
    "def fit_ph_shuffle(dta, features,f, model):\n",
    "    \n",
    "    if 'ae_predicted' in dta.columns:\n",
    "        \n",
    "        dta = dta.drop(['ae_predicted'], axis=1)\n",
    "    \n",
    "    grouped = group_data(dta, features)\n",
    "    \n",
    "    y = grouped['ae_attendances_attendances']\n",
    "\n",
    "    X = grouped[features]\n",
    "    \n",
    "    X_shuffled = X.copy()\n",
    "    \n",
    "    X_shuffled[f] = np.random.permutation(X[f].values)\n",
    "    \n",
    "    \n",
    "    # dont set random state so that function can be used in overall cv\n",
    "    cv = RepeatedKFold(n_splits=5, n_repeats=1, random_state=1)\n",
    "    \n",
    "    results = pd.DataFrame()\n",
    "    \n",
    "    for train_index, test_index in cv.split(X, y):\n",
    "        \n",
    "        model.fit(X.iloc[train_index], y.iloc[train_index])\n",
    "        \n",
    "        test = X.iloc[test_index].copy()\n",
    "        \n",
    "        test['ae_predicted'] = model.predict(X_shuffled.iloc[test_index])\n",
    "    \n",
    "        results = results.append(test, ignore_index=True)\n",
    "        \n",
    "    dta = dta.merge(results[['population','ae_predicted']],\n",
    "                    left_on='population', right_on='population')\n",
    "        \n",
    "    return dta"
   ]
  },
  {
   "cell_type": "code",
   "execution_count": 25,
   "id": "49774140",
   "metadata": {},
   "outputs": [],
   "source": [
    "def permeate_feature(dta, f,rf1, rf2):\n",
    "    \n",
    "    \n",
    "    shuffled = dta.copy()\n",
    "\n",
    "    capacity_features = ['gp_appt_available',\n",
    "            '111_111_offered', 'amb_sys_answered']\n",
    "#            '111_111_answered', 'amb_sys_made']\n",
    "\n",
    "    pophealth_features = ['population',\n",
    "                            'People', 'Places', 'Lives']\n",
    "    \n",
    "    if f in capacity_features:\n",
    "    \n",
    "        shuffled[f] = np.random.permutation(dta[f].values)\n",
    "    \n",
    "    else:\n",
    "        \n",
    "        shuffled = fit_ph_shuffle(shuffled, pophealth_features,f, rf2)\n",
    "        \n",
    "    \n",
    "    dta = fit_ph(dta, pophealth_features, rf2)\n",
    "    \n",
    "    # splitter for cross validation\n",
    "    cv = RepeatedKFold(n_splits=5, n_repeats=5, random_state=1)\n",
    "    \n",
    "    #importances = pd.DataFrame()\n",
    "    \n",
    "    shuffled_score, true_score  = [],[]\n",
    "    \n",
    "    #print(f'running for {f} \\n')\n",
    "    \n",
    "    for train_index, test_index in cv.split(dta):\n",
    "        \n",
    "        test_shuffled = shuffled.iloc[test_index]\n",
    "        \n",
    "        train = dta.iloc[train_index]\n",
    "        test = dta.iloc[test_index]\n",
    "        \n",
    "        \n",
    "        #final models\n",
    "        rf1, final = fit_combined(train, rf1, capacity_features)\n",
    "\n",
    "        \n",
    "        \n",
    "        #predict on test data\n",
    "        \n",
    "        y_pred_cu = rf1.predict(test[capacity_features])\n",
    "\n",
    "        y_pred_ph = test['ae_predicted']\n",
    "        \n",
    "        y_pred_cus = rf1.predict(test_shuffled[capacity_features])\n",
    "        \n",
    "        if f in capacity_features:\n",
    "\n",
    "            y_pred_phs = test['ae_predicted']\n",
    "            \n",
    "        else:\n",
    "            \n",
    "            y_pred_phs = test_shuffled['ae_predicted']\n",
    "            \n",
    "        \n",
    "        true_score.append(\n",
    "            final.score(np.vstack([y_pred_cu, y_pred_ph]).T,\\\n",
    "                                                test['ae_attendances_attendances']))\n",
    "        \n",
    "        shuffled_score.append(\n",
    "            true_score[-1] - final.score(np.vstack([y_pred_cus, y_pred_phs]).T,\\\n",
    "                                            test['ae_attendances_attendances']))\n",
    "        \n",
    "    #print(f'{f} complete\\n')\n",
    "    \n",
    "    return true_score, shuffled_score       "
   ]
  },
  {
   "cell_type": "code",
   "execution_count": 26,
   "id": "ab67452c",
   "metadata": {},
   "outputs": [],
   "source": [
    "def feature_importance_combined(dta, rf1, rf2):\n",
    "    \n",
    "    importances = pd.DataFrame()\n",
    "    \n",
    "    capacity_features = ['gp_appt_available',\n",
    "            '111_111_offered', 'amb_sys_answered']\n",
    "    #            '111_111_answered', 'amb_sys_made']\n",
    "\n",
    "    pophealth_features = ['population',\n",
    "                            'People', 'Places', 'Lives']\n",
    "    \n",
    "    \n",
    "    for f in capacity_features + pophealth_features:\n",
    "        \n",
    "        \n",
    "        true_score, shuffled_score = permeate_feature(dta, f,rf1, rf2)\n",
    "        \n",
    "        if 'score' in importances.columns:\n",
    "        \n",
    "            importances['score'] = np.mean([importances['score'].values, true_score],axis=0)\n",
    "            \n",
    "        else:\n",
    "            \n",
    "            importances['score'] = true_score\n",
    "            \n",
    "        importances[f] = shuffled_score\n",
    "  \n",
    "\n",
    "    return importances"
   ]
  },
  {
   "cell_type": "code",
   "execution_count": 27,
   "id": "378d365c",
   "metadata": {},
   "outputs": [],
   "source": [
    "#set random seed to make results reproducible\n",
    "np.random.seed(4)\n",
    "\n",
    "importances = feature_importance_combined(dta, rf1, rf2)"
   ]
  },
  {
   "cell_type": "code",
   "execution_count": 28,
   "id": "0e2382bc",
   "metadata": {},
   "outputs": [
    {
     "data": {
      "text/html": [
       "<div>\n",
       "<style scoped>\n",
       "    .dataframe tbody tr th:only-of-type {\n",
       "        vertical-align: middle;\n",
       "    }\n",
       "\n",
       "    .dataframe tbody tr th {\n",
       "        vertical-align: top;\n",
       "    }\n",
       "\n",
       "    .dataframe thead th {\n",
       "        text-align: right;\n",
       "    }\n",
       "</style>\n",
       "<table border=\"1\" class=\"dataframe\">\n",
       "  <thead>\n",
       "    <tr style=\"text-align: right;\">\n",
       "      <th></th>\n",
       "      <th>score</th>\n",
       "      <th>gp_appt_available</th>\n",
       "      <th>111_111_offered</th>\n",
       "      <th>amb_sys_answered</th>\n",
       "      <th>population</th>\n",
       "      <th>People</th>\n",
       "      <th>Places</th>\n",
       "      <th>Lives</th>\n",
       "    </tr>\n",
       "  </thead>\n",
       "  <tbody>\n",
       "    <tr>\n",
       "      <th>count</th>\n",
       "      <td>25.000000</td>\n",
       "      <td>25.000000</td>\n",
       "      <td>25.000000</td>\n",
       "      <td>25.000000</td>\n",
       "      <td>25.000000</td>\n",
       "      <td>25.000000</td>\n",
       "      <td>25.000000</td>\n",
       "      <td>25.000000</td>\n",
       "    </tr>\n",
       "    <tr>\n",
       "      <th>mean</th>\n",
       "      <td>0.665444</td>\n",
       "      <td>0.038496</td>\n",
       "      <td>0.065235</td>\n",
       "      <td>0.168881</td>\n",
       "      <td>0.314797</td>\n",
       "      <td>0.060245</td>\n",
       "      <td>0.056963</td>\n",
       "      <td>0.136148</td>\n",
       "    </tr>\n",
       "    <tr>\n",
       "      <th>std</th>\n",
       "      <td>0.039768</td>\n",
       "      <td>0.017823</td>\n",
       "      <td>0.023436</td>\n",
       "      <td>0.060690</td>\n",
       "      <td>0.083262</td>\n",
       "      <td>0.020495</td>\n",
       "      <td>0.019350</td>\n",
       "      <td>0.033684</td>\n",
       "    </tr>\n",
       "    <tr>\n",
       "      <th>min</th>\n",
       "      <td>0.573507</td>\n",
       "      <td>0.008636</td>\n",
       "      <td>0.024123</td>\n",
       "      <td>0.008525</td>\n",
       "      <td>0.184795</td>\n",
       "      <td>0.025377</td>\n",
       "      <td>0.032113</td>\n",
       "      <td>0.063237</td>\n",
       "    </tr>\n",
       "    <tr>\n",
       "      <th>25%</th>\n",
       "      <td>0.631816</td>\n",
       "      <td>0.022420</td>\n",
       "      <td>0.049155</td>\n",
       "      <td>0.128301</td>\n",
       "      <td>0.261576</td>\n",
       "      <td>0.047641</td>\n",
       "      <td>0.047347</td>\n",
       "      <td>0.109393</td>\n",
       "    </tr>\n",
       "    <tr>\n",
       "      <th>50%</th>\n",
       "      <td>0.675520</td>\n",
       "      <td>0.045330</td>\n",
       "      <td>0.064777</td>\n",
       "      <td>0.176024</td>\n",
       "      <td>0.291522</td>\n",
       "      <td>0.057505</td>\n",
       "      <td>0.052506</td>\n",
       "      <td>0.142293</td>\n",
       "    </tr>\n",
       "    <tr>\n",
       "      <th>75%</th>\n",
       "      <td>0.696484</td>\n",
       "      <td>0.051860</td>\n",
       "      <td>0.088824</td>\n",
       "      <td>0.200768</td>\n",
       "      <td>0.368699</td>\n",
       "      <td>0.078592</td>\n",
       "      <td>0.061810</td>\n",
       "      <td>0.158519</td>\n",
       "    </tr>\n",
       "    <tr>\n",
       "      <th>max</th>\n",
       "      <td>0.732708</td>\n",
       "      <td>0.071707</td>\n",
       "      <td>0.101177</td>\n",
       "      <td>0.294804</td>\n",
       "      <td>0.519668</td>\n",
       "      <td>0.105991</td>\n",
       "      <td>0.106355</td>\n",
       "      <td>0.194395</td>\n",
       "    </tr>\n",
       "  </tbody>\n",
       "</table>\n",
       "</div>"
      ],
      "text/plain": [
       "           score  gp_appt_available  111_111_offered  amb_sys_answered  \\\n",
       "count  25.000000          25.000000        25.000000         25.000000   \n",
       "mean    0.665444           0.038496         0.065235          0.168881   \n",
       "std     0.039768           0.017823         0.023436          0.060690   \n",
       "min     0.573507           0.008636         0.024123          0.008525   \n",
       "25%     0.631816           0.022420         0.049155          0.128301   \n",
       "50%     0.675520           0.045330         0.064777          0.176024   \n",
       "75%     0.696484           0.051860         0.088824          0.200768   \n",
       "max     0.732708           0.071707         0.101177          0.294804   \n",
       "\n",
       "       population     People     Places      Lives  \n",
       "count   25.000000  25.000000  25.000000  25.000000  \n",
       "mean     0.314797   0.060245   0.056963   0.136148  \n",
       "std      0.083262   0.020495   0.019350   0.033684  \n",
       "min      0.184795   0.025377   0.032113   0.063237  \n",
       "25%      0.261576   0.047641   0.047347   0.109393  \n",
       "50%      0.291522   0.057505   0.052506   0.142293  \n",
       "75%      0.368699   0.078592   0.061810   0.158519  \n",
       "max      0.519668   0.105991   0.106355   0.194395  "
      ]
     },
     "execution_count": 28,
     "metadata": {},
     "output_type": "execute_result"
    }
   ],
   "source": [
    "importances.describe()"
   ]
  },
  {
   "cell_type": "code",
   "execution_count": 29,
   "id": "06c258d0",
   "metadata": {},
   "outputs": [
    {
     "data": {
      "image/png": "[encoded data removed]",
      "text/plain": [
       "<Figure size 576x360 with 1 Axes>"
      ]
     },
     "metadata": {
      "filenames": {
       "image/png": "/Users/cj9491/Documents/CCG/ae_forecast/git/ed-forecast/pages/_build/jupyter_execute/stacked_model_45_0.png"
      }
     },
     "output_type": "display_data"
    }
   ],
   "source": [
    "fig,ax = plt.subplots(figsize=(8,5))\n",
    "\n",
    "importances[importances.columns[1:]].describe().loc['mean'].plot(kind='bar', \\\n",
    "            yerr = importances[importances.columns[1:]].describe().loc['std'],\\\n",
    "                            alpha=0.6, color='g',ax=ax)\n",
    "\n",
    "plt.ylabel('Permutation Importance', fontsize=12)\n",
    "plt.tight_layout()\n",
    "\n",
    "tick_labels = ['GP capacity','111 capacity', 'Ambulance capacity',\\\n",
    "               'Population', 'People', 'Places', 'Lives']\n",
    "\n",
    "ax.set_xticklabels(tick_labels)\n",
    "\n",
    "plt.savefig('importance.png')\n",
    "plt.show()"
   ]
  },
  {
   "cell_type": "markdown",
   "id": "477b5315",
   "metadata": {},
   "source": [
    "## Train final model on all data and save for forecasting "
   ]
  },
  {
   "cell_type": "code",
   "execution_count": 30,
   "id": "46d6a8aa",
   "metadata": {},
   "outputs": [],
   "source": [
    "def fit_final(dta, rf1, rf2, m1_features, m2_features):\n",
    "    \n",
    "    \n",
    "    final = LinearRegression()\n",
    "\n",
    "\n",
    "    #train capactiy model\n",
    "    \n",
    "    rf1 = fit_capacity(dta, m1_features, rf1)\n",
    "    \n",
    "\n",
    "    #predict monthly attendances\n",
    "\n",
    "    y_pred_1 = rf1.predict(dta[m1_features])\n",
    "\n",
    "    \n",
    "    \n",
    "    grouped = group_data(dta, m2_features)\n",
    "    \n",
    "    y = grouped['ae_attendances_attendances']\n",
    "\n",
    "    X = grouped[m2_features]\n",
    "\n",
    "    rf2.fit(X, y)\n",
    "    \n",
    "    y_pred_2 = rf2.predict(dta[m2_features])\n",
    "        \n",
    "        \n",
    "    X_f = np.vstack([y_pred_1, y_pred_2]).T\n",
    "    y_f = dta['ae_attendances_attendances']\n",
    "\n",
    "    final.fit(X_f,y_f)\n",
    "\n",
    "    print('Combined training score:',final.score(X_f,y_f))\n",
    "    \n",
    "    return rf1,rf2, final        "
   ]
  },
  {
   "cell_type": "code",
   "execution_count": 31,
   "id": "f8880c6b",
   "metadata": {},
   "outputs": [
    {
     "name": "stdout",
     "output_type": "stream",
     "text": [
      "Combined training score: 0.8171513959512132\n"
     ]
    }
   ],
   "source": [
    "m1_features = capacity_features\n",
    "m2_features = pophealth_features\n",
    "\n",
    "rf1,rf2,final = fit_final(dta, rf1, rf2, m1_features, m2_features)"
   ]
  },
  {
   "cell_type": "code",
   "execution_count": 32,
   "id": "e2619865",
   "metadata": {},
   "outputs": [],
   "source": [
    "with open('stacked_model_scaled.pkl','wb') as f:\n",
    "    \n",
    "    pkl.dump([[rf1,rf2,final], m1_features, m2_features], f)"
   ]
  },
  {
   "cell_type": "code",
   "execution_count": null,
   "id": "76a1d11f",
   "metadata": {},
   "outputs": [],
   "source": []
  }
 ],
 "metadata": {
  "kernelspec": {
   "display_name": "Python 3 (ipykernel)",
   "language": "python",
   "name": "python3"
  },
  "language_info": {
   "codemirror_mode": {
    "name": "ipython",
    "version": 3
   },
   "file_extension": ".py",
   "mimetype": "text/x-python",
   "name": "python",
   "nbconvert_exporter": "python",
   "pygments_lexer": "ipython3",
   "version": "3.9.12"
  }
 },
 "nbformat": 4,
 "nbformat_minor": 5
}